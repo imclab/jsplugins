{
 "metadata": {
  "name": "PyTutor"
 },
 "nbformat": 3,
 "nbformat_minor": 0,
 "worksheets": [
  {
   "cells": [
    {
     "cell_type": "heading",
     "level": 1,
     "metadata": {},
     "source": [
      "Online Python Tutor"
     ]
    },
    {
     "cell_type": "code",
     "collapsed": false,
     "input": [
      "%load_ext pytutor"
     ],
     "language": "python",
     "metadata": {},
     "outputs": [
      {
       "output_type": "stream",
       "stream": "stdout",
       "text": [
        "Extension loaded\n"
       ]
      }
     ],
     "prompt_number": 2
    },
    {
     "cell_type": "heading",
     "level": 2,
     "metadata": {},
     "source": [
      "Hello"
     ]
    },
    {
     "cell_type": "code",
     "collapsed": false,
     "input": [
      "%%pytutor\n",
      "x = [1, 2, 3]\n",
      "y = [4, 5, 6]\n",
      "z = y\n",
      "y = x\n",
      "x = z\n",
      "\n",
      "x = [1, 2, 3] # a different [1, 2, 3] list!\n",
      "y = x\n",
      "x.append(4)\n",
      "y.append(5)\n",
      "z = [1, 2, 3, 4, 5] # a different list!\n",
      "x.append(6)\n",
      "y.append(7)\n",
      "y = \"hello\"\n",
      "\n",
      "\n",
      "def foo(lst):\n",
      "    lst.append(\"hello\")\n",
      "    bar(lst)\n",
      "\n",
      "def bar(myLst):\n",
      "    print(myLst)\n",
      "\n",
      "foo(x)\n",
      "foo(z)"
     ],
     "language": "python",
     "metadata": {},
     "outputs": [
      {
       "json": {
        "code": "x = [1, 2, 3]\ny = [4, 5, 6]\nz = y\ny = x\nx = z\n\nx = [1, 2, 3] # a different [1, 2, 3] list!\ny = x\nx.append(4)\ny.append(5)\nz = [1, 2, 3, 4, 5] # a different list!\nx.append(6)\ny.append(7)\ny = \"hello\"\n\n\ndef foo(lst):\n    lst.append(\"hello\")\n    bar(lst)\n\ndef bar(myLst):\n    print(myLst)\n\nfoo(x)\nfoo(z)",
        "handler": "pytutor",
        "trace": [
         {
          "event": "step_line",
          "func_name": "<module>",
          "globals": {},
          "heap": {},
          "line": 1,
          "ordered_globals": [],
          "stack_to_render": [],
          "stdout": ""
         },
         {
          "event": "step_line",
          "func_name": "<module>",
          "globals": {
           "x": [
            "REF",
            1
           ]
          },
          "heap": {
           "1": [
            "LIST",
            1,
            2,
            3
           ]
          },
          "line": 2,
          "ordered_globals": [
           "x"
          ],
          "stack_to_render": [],
          "stdout": ""
         },
         {
          "event": "step_line",
          "func_name": "<module>",
          "globals": {
           "x": [
            "REF",
            1
           ],
           "y": [
            "REF",
            2
           ]
          },
          "heap": {
           "1": [
            "LIST",
            1,
            2,
            3
           ],
           "2": [
            "LIST",
            4,
            5,
            6
           ]
          },
          "line": 3,
          "ordered_globals": [
           "x",
           "y"
          ],
          "stack_to_render": [],
          "stdout": ""
         },
         {
          "event": "step_line",
          "func_name": "<module>",
          "globals": {
           "x": [
            "REF",
            1
           ],
           "y": [
            "REF",
            2
           ],
           "z": [
            "REF",
            2
           ]
          },
          "heap": {
           "1": [
            "LIST",
            1,
            2,
            3
           ],
           "2": [
            "LIST",
            4,
            5,
            6
           ]
          },
          "line": 4,
          "ordered_globals": [
           "x",
           "y",
           "z"
          ],
          "stack_to_render": [],
          "stdout": ""
         },
         {
          "event": "step_line",
          "func_name": "<module>",
          "globals": {
           "x": [
            "REF",
            1
           ],
           "y": [
            "REF",
            1
           ],
           "z": [
            "REF",
            2
           ]
          },
          "heap": {
           "1": [
            "LIST",
            1,
            2,
            3
           ],
           "2": [
            "LIST",
            4,
            5,
            6
           ]
          },
          "line": 5,
          "ordered_globals": [
           "x",
           "y",
           "z"
          ],
          "stack_to_render": [],
          "stdout": ""
         },
         {
          "event": "step_line",
          "func_name": "<module>",
          "globals": {
           "x": [
            "REF",
            2
           ],
           "y": [
            "REF",
            1
           ],
           "z": [
            "REF",
            2
           ]
          },
          "heap": {
           "1": [
            "LIST",
            1,
            2,
            3
           ],
           "2": [
            "LIST",
            4,
            5,
            6
           ]
          },
          "line": 7,
          "ordered_globals": [
           "x",
           "y",
           "z"
          ],
          "stack_to_render": [],
          "stdout": ""
         },
         {
          "event": "step_line",
          "func_name": "<module>",
          "globals": {
           "x": [
            "REF",
            3
           ],
           "y": [
            "REF",
            1
           ],
           "z": [
            "REF",
            2
           ]
          },
          "heap": {
           "1": [
            "LIST",
            1,
            2,
            3
           ],
           "2": [
            "LIST",
            4,
            5,
            6
           ],
           "3": [
            "LIST",
            1,
            2,
            3
           ]
          },
          "line": 8,
          "ordered_globals": [
           "x",
           "y",
           "z"
          ],
          "stack_to_render": [],
          "stdout": ""
         },
         {
          "event": "step_line",
          "func_name": "<module>",
          "globals": {
           "x": [
            "REF",
            3
           ],
           "y": [
            "REF",
            3
           ],
           "z": [
            "REF",
            2
           ]
          },
          "heap": {
           "2": [
            "LIST",
            4,
            5,
            6
           ],
           "3": [
            "LIST",
            1,
            2,
            3
           ]
          },
          "line": 9,
          "ordered_globals": [
           "x",
           "y",
           "z"
          ],
          "stack_to_render": [],
          "stdout": ""
         },
         {
          "event": "step_line",
          "func_name": "<module>",
          "globals": {
           "x": [
            "REF",
            3
           ],
           "y": [
            "REF",
            3
           ],
           "z": [
            "REF",
            2
           ]
          },
          "heap": {
           "2": [
            "LIST",
            4,
            5,
            6
           ],
           "3": [
            "LIST",
            1,
            2,
            3,
            4
           ]
          },
          "line": 10,
          "ordered_globals": [
           "x",
           "y",
           "z"
          ],
          "stack_to_render": [],
          "stdout": ""
         },
         {
          "event": "step_line",
          "func_name": "<module>",
          "globals": {
           "x": [
            "REF",
            3
           ],
           "y": [
            "REF",
            3
           ],
           "z": [
            "REF",
            2
           ]
          },
          "heap": {
           "2": [
            "LIST",
            4,
            5,
            6
           ],
           "3": [
            "LIST",
            1,
            2,
            3,
            4,
            5
           ]
          },
          "line": 11,
          "ordered_globals": [
           "x",
           "y",
           "z"
          ],
          "stack_to_render": [],
          "stdout": ""
         },
         {
          "event": "step_line",
          "func_name": "<module>",
          "globals": {
           "x": [
            "REF",
            3
           ],
           "y": [
            "REF",
            3
           ],
           "z": [
            "REF",
            4
           ]
          },
          "heap": {
           "3": [
            "LIST",
            1,
            2,
            3,
            4,
            5
           ],
           "4": [
            "LIST",
            1,
            2,
            3,
            4,
            5
           ]
          },
          "line": 12,
          "ordered_globals": [
           "x",
           "y",
           "z"
          ],
          "stack_to_render": [],
          "stdout": ""
         },
         {
          "event": "step_line",
          "func_name": "<module>",
          "globals": {
           "x": [
            "REF",
            3
           ],
           "y": [
            "REF",
            3
           ],
           "z": [
            "REF",
            4
           ]
          },
          "heap": {
           "3": [
            "LIST",
            1,
            2,
            3,
            4,
            5,
            6
           ],
           "4": [
            "LIST",
            1,
            2,
            3,
            4,
            5
           ]
          },
          "line": 13,
          "ordered_globals": [
           "x",
           "y",
           "z"
          ],
          "stack_to_render": [],
          "stdout": ""
         },
         {
          "event": "step_line",
          "func_name": "<module>",
          "globals": {
           "x": [
            "REF",
            3
           ],
           "y": [
            "REF",
            3
           ],
           "z": [
            "REF",
            4
           ]
          },
          "heap": {
           "3": [
            "LIST",
            1,
            2,
            3,
            4,
            5,
            6,
            7
           ],
           "4": [
            "LIST",
            1,
            2,
            3,
            4,
            5
           ]
          },
          "line": 14,
          "ordered_globals": [
           "x",
           "y",
           "z"
          ],
          "stack_to_render": [],
          "stdout": ""
         },
         {
          "event": "step_line",
          "func_name": "<module>",
          "globals": {
           "x": [
            "REF",
            3
           ],
           "y": "hello",
           "z": [
            "REF",
            4
           ]
          },
          "heap": {
           "3": [
            "LIST",
            1,
            2,
            3,
            4,
            5,
            6,
            7
           ],
           "4": [
            "LIST",
            1,
            2,
            3,
            4,
            5
           ]
          },
          "line": 17,
          "ordered_globals": [
           "x",
           "y",
           "z"
          ],
          "stack_to_render": [],
          "stdout": ""
         },
         {
          "event": "step_line",
          "func_name": "<module>",
          "globals": {
           "foo": [
            "REF",
            5
           ],
           "x": [
            "REF",
            3
           ],
           "y": "hello",
           "z": [
            "REF",
            4
           ]
          },
          "heap": {
           "3": [
            "LIST",
            1,
            2,
            3,
            4,
            5,
            6,
            7
           ],
           "4": [
            "LIST",
            1,
            2,
            3,
            4,
            5
           ],
           "5": [
            "FUNCTION",
            "foo(lst)",
            null
           ]
          },
          "line": 21,
          "ordered_globals": [
           "x",
           "y",
           "z",
           "foo"
          ],
          "stack_to_render": [],
          "stdout": ""
         },
         {
          "event": "step_line",
          "func_name": "<module>",
          "globals": {
           "bar": [
            "REF",
            6
           ],
           "foo": [
            "REF",
            5
           ],
           "x": [
            "REF",
            3
           ],
           "y": "hello",
           "z": [
            "REF",
            4
           ]
          },
          "heap": {
           "3": [
            "LIST",
            1,
            2,
            3,
            4,
            5,
            6,
            7
           ],
           "4": [
            "LIST",
            1,
            2,
            3,
            4,
            5
           ],
           "5": [
            "FUNCTION",
            "foo(lst)",
            null
           ],
           "6": [
            "FUNCTION",
            "bar(myLst)",
            null
           ]
          },
          "line": 24,
          "ordered_globals": [
           "x",
           "y",
           "z",
           "foo",
           "bar"
          ],
          "stack_to_render": [],
          "stdout": ""
         },
         {
          "event": "call",
          "func_name": "foo",
          "globals": {
           "bar": [
            "REF",
            6
           ],
           "foo": [
            "REF",
            5
           ],
           "x": [
            "REF",
            3
           ],
           "y": "hello",
           "z": [
            "REF",
            4
           ]
          },
          "heap": {
           "3": [
            "LIST",
            1,
            2,
            3,
            4,
            5,
            6,
            7
           ],
           "4": [
            "LIST",
            1,
            2,
            3,
            4,
            5
           ],
           "5": [
            "FUNCTION",
            "foo(lst)",
            null
           ],
           "6": [
            "FUNCTION",
            "bar(myLst)",
            null
           ]
          },
          "line": 17,
          "ordered_globals": [
           "x",
           "y",
           "z",
           "foo",
           "bar"
          ],
          "stack_to_render": [
           {
            "encoded_locals": {
             "lst": [
              "REF",
              3
             ]
            },
            "frame_id": 1,
            "func_name": "foo",
            "is_highlighted": true,
            "is_parent": false,
            "is_zombie": false,
            "ordered_varnames": [
             "lst"
            ],
            "parent_frame_id_list": [],
            "unique_hash": "foo_f1"
           }
          ],
          "stdout": ""
         },
         {
          "event": "step_line",
          "func_name": "foo",
          "globals": {
           "bar": [
            "REF",
            6
           ],
           "foo": [
            "REF",
            5
           ],
           "x": [
            "REF",
            3
           ],
           "y": "hello",
           "z": [
            "REF",
            4
           ]
          },
          "heap": {
           "3": [
            "LIST",
            1,
            2,
            3,
            4,
            5,
            6,
            7
           ],
           "4": [
            "LIST",
            1,
            2,
            3,
            4,
            5
           ],
           "5": [
            "FUNCTION",
            "foo(lst)",
            null
           ],
           "6": [
            "FUNCTION",
            "bar(myLst)",
            null
           ]
          },
          "line": 18,
          "ordered_globals": [
           "x",
           "y",
           "z",
           "foo",
           "bar"
          ],
          "stack_to_render": [
           {
            "encoded_locals": {
             "lst": [
              "REF",
              3
             ]
            },
            "frame_id": 1,
            "func_name": "foo",
            "is_highlighted": true,
            "is_parent": false,
            "is_zombie": false,
            "ordered_varnames": [
             "lst"
            ],
            "parent_frame_id_list": [],
            "unique_hash": "foo_f1"
           }
          ],
          "stdout": ""
         },
         {
          "event": "step_line",
          "func_name": "foo",
          "globals": {
           "bar": [
            "REF",
            6
           ],
           "foo": [
            "REF",
            5
           ],
           "x": [
            "REF",
            3
           ],
           "y": "hello",
           "z": [
            "REF",
            4
           ]
          },
          "heap": {
           "3": [
            "LIST",
            1,
            2,
            3,
            4,
            5,
            6,
            7,
            "hello"
           ],
           "4": [
            "LIST",
            1,
            2,
            3,
            4,
            5
           ],
           "5": [
            "FUNCTION",
            "foo(lst)",
            null
           ],
           "6": [
            "FUNCTION",
            "bar(myLst)",
            null
           ]
          },
          "line": 19,
          "ordered_globals": [
           "x",
           "y",
           "z",
           "foo",
           "bar"
          ],
          "stack_to_render": [
           {
            "encoded_locals": {
             "lst": [
              "REF",
              3
             ]
            },
            "frame_id": 1,
            "func_name": "foo",
            "is_highlighted": true,
            "is_parent": false,
            "is_zombie": false,
            "ordered_varnames": [
             "lst"
            ],
            "parent_frame_id_list": [],
            "unique_hash": "foo_f1"
           }
          ],
          "stdout": ""
         },
         {
          "event": "call",
          "func_name": "bar",
          "globals": {
           "bar": [
            "REF",
            6
           ],
           "foo": [
            "REF",
            5
           ],
           "x": [
            "REF",
            3
           ],
           "y": "hello",
           "z": [
            "REF",
            4
           ]
          },
          "heap": {
           "3": [
            "LIST",
            1,
            2,
            3,
            4,
            5,
            6,
            7,
            "hello"
           ],
           "4": [
            "LIST",
            1,
            2,
            3,
            4,
            5
           ],
           "5": [
            "FUNCTION",
            "foo(lst)",
            null
           ],
           "6": [
            "FUNCTION",
            "bar(myLst)",
            null
           ]
          },
          "line": 21,
          "ordered_globals": [
           "x",
           "y",
           "z",
           "foo",
           "bar"
          ],
          "stack_to_render": [
           {
            "encoded_locals": {
             "lst": [
              "REF",
              3
             ]
            },
            "frame_id": 1,
            "func_name": "foo",
            "is_highlighted": false,
            "is_parent": false,
            "is_zombie": false,
            "ordered_varnames": [
             "lst"
            ],
            "parent_frame_id_list": [],
            "unique_hash": "foo_f1"
           },
           {
            "encoded_locals": {
             "myLst": [
              "REF",
              3
             ]
            },
            "frame_id": 2,
            "func_name": "bar",
            "is_highlighted": true,
            "is_parent": false,
            "is_zombie": false,
            "ordered_varnames": [
             "myLst"
            ],
            "parent_frame_id_list": [],
            "unique_hash": "bar_f2"
           }
          ],
          "stdout": ""
         },
         {
          "event": "step_line",
          "func_name": "bar",
          "globals": {
           "bar": [
            "REF",
            6
           ],
           "foo": [
            "REF",
            5
           ],
           "x": [
            "REF",
            3
           ],
           "y": "hello",
           "z": [
            "REF",
            4
           ]
          },
          "heap": {
           "3": [
            "LIST",
            1,
            2,
            3,
            4,
            5,
            6,
            7,
            "hello"
           ],
           "4": [
            "LIST",
            1,
            2,
            3,
            4,
            5
           ],
           "5": [
            "FUNCTION",
            "foo(lst)",
            null
           ],
           "6": [
            "FUNCTION",
            "bar(myLst)",
            null
           ]
          },
          "line": 22,
          "ordered_globals": [
           "x",
           "y",
           "z",
           "foo",
           "bar"
          ],
          "stack_to_render": [
           {
            "encoded_locals": {
             "lst": [
              "REF",
              3
             ]
            },
            "frame_id": 1,
            "func_name": "foo",
            "is_highlighted": false,
            "is_parent": false,
            "is_zombie": false,
            "ordered_varnames": [
             "lst"
            ],
            "parent_frame_id_list": [],
            "unique_hash": "foo_f1"
           },
           {
            "encoded_locals": {
             "myLst": [
              "REF",
              3
             ]
            },
            "frame_id": 2,
            "func_name": "bar",
            "is_highlighted": true,
            "is_parent": false,
            "is_zombie": false,
            "ordered_varnames": [
             "myLst"
            ],
            "parent_frame_id_list": [],
            "unique_hash": "bar_f2"
           }
          ],
          "stdout": ""
         },
         {
          "event": "return",
          "func_name": "bar",
          "globals": {
           "bar": [
            "REF",
            6
           ],
           "foo": [
            "REF",
            5
           ],
           "x": [
            "REF",
            3
           ],
           "y": "hello",
           "z": [
            "REF",
            4
           ]
          },
          "heap": {
           "3": [
            "LIST",
            1,
            2,
            3,
            4,
            5,
            6,
            7,
            "hello"
           ],
           "4": [
            "LIST",
            1,
            2,
            3,
            4,
            5
           ],
           "5": [
            "FUNCTION",
            "foo(lst)",
            null
           ],
           "6": [
            "FUNCTION",
            "bar(myLst)",
            null
           ]
          },
          "line": 22,
          "ordered_globals": [
           "x",
           "y",
           "z",
           "foo",
           "bar"
          ],
          "stack_to_render": [
           {
            "encoded_locals": {
             "lst": [
              "REF",
              3
             ]
            },
            "frame_id": 1,
            "func_name": "foo",
            "is_highlighted": false,
            "is_parent": false,
            "is_zombie": false,
            "ordered_varnames": [
             "lst"
            ],
            "parent_frame_id_list": [],
            "unique_hash": "foo_f1"
           },
           {
            "encoded_locals": {
             "__return__": null,
             "myLst": [
              "REF",
              3
             ]
            },
            "frame_id": 2,
            "func_name": "bar",
            "is_highlighted": true,
            "is_parent": false,
            "is_zombie": false,
            "ordered_varnames": [
             "myLst",
             "__return__"
            ],
            "parent_frame_id_list": [],
            "unique_hash": "bar_f2"
           }
          ],
          "stdout": "[1, 2, 3, 4, 5, 6, 7, 'hello']\n"
         },
         {
          "event": "return",
          "func_name": "foo",
          "globals": {
           "bar": [
            "REF",
            6
           ],
           "foo": [
            "REF",
            5
           ],
           "x": [
            "REF",
            3
           ],
           "y": "hello",
           "z": [
            "REF",
            4
           ]
          },
          "heap": {
           "3": [
            "LIST",
            1,
            2,
            3,
            4,
            5,
            6,
            7,
            "hello"
           ],
           "4": [
            "LIST",
            1,
            2,
            3,
            4,
            5
           ],
           "5": [
            "FUNCTION",
            "foo(lst)",
            null
           ],
           "6": [
            "FUNCTION",
            "bar(myLst)",
            null
           ]
          },
          "line": 19,
          "ordered_globals": [
           "x",
           "y",
           "z",
           "foo",
           "bar"
          ],
          "stack_to_render": [
           {
            "encoded_locals": {
             "__return__": null,
             "lst": [
              "REF",
              3
             ]
            },
            "frame_id": 1,
            "func_name": "foo",
            "is_highlighted": true,
            "is_parent": false,
            "is_zombie": false,
            "ordered_varnames": [
             "lst",
             "__return__"
            ],
            "parent_frame_id_list": [],
            "unique_hash": "foo_f1"
           }
          ],
          "stdout": "[1, 2, 3, 4, 5, 6, 7, 'hello']\n"
         },
         {
          "event": "step_line",
          "func_name": "<module>",
          "globals": {
           "bar": [
            "REF",
            6
           ],
           "foo": [
            "REF",
            5
           ],
           "x": [
            "REF",
            3
           ],
           "y": "hello",
           "z": [
            "REF",
            4
           ]
          },
          "heap": {
           "3": [
            "LIST",
            1,
            2,
            3,
            4,
            5,
            6,
            7,
            "hello"
           ],
           "4": [
            "LIST",
            1,
            2,
            3,
            4,
            5
           ],
           "5": [
            "FUNCTION",
            "foo(lst)",
            null
           ],
           "6": [
            "FUNCTION",
            "bar(myLst)",
            null
           ]
          },
          "line": 25,
          "ordered_globals": [
           "x",
           "y",
           "z",
           "foo",
           "bar"
          ],
          "stack_to_render": [],
          "stdout": "[1, 2, 3, 4, 5, 6, 7, 'hello']\n"
         },
         {
          "event": "call",
          "func_name": "foo",
          "globals": {
           "bar": [
            "REF",
            6
           ],
           "foo": [
            "REF",
            5
           ],
           "x": [
            "REF",
            3
           ],
           "y": "hello",
           "z": [
            "REF",
            4
           ]
          },
          "heap": {
           "3": [
            "LIST",
            1,
            2,
            3,
            4,
            5,
            6,
            7,
            "hello"
           ],
           "4": [
            "LIST",
            1,
            2,
            3,
            4,
            5
           ],
           "5": [
            "FUNCTION",
            "foo(lst)",
            null
           ],
           "6": [
            "FUNCTION",
            "bar(myLst)",
            null
           ]
          },
          "line": 17,
          "ordered_globals": [
           "x",
           "y",
           "z",
           "foo",
           "bar"
          ],
          "stack_to_render": [
           {
            "encoded_locals": {
             "lst": [
              "REF",
              4
             ]
            },
            "frame_id": 3,
            "func_name": "foo",
            "is_highlighted": true,
            "is_parent": false,
            "is_zombie": false,
            "ordered_varnames": [
             "lst"
            ],
            "parent_frame_id_list": [],
            "unique_hash": "foo_f3"
           }
          ],
          "stdout": "[1, 2, 3, 4, 5, 6, 7, 'hello']\n"
         },
         {
          "event": "step_line",
          "func_name": "foo",
          "globals": {
           "bar": [
            "REF",
            6
           ],
           "foo": [
            "REF",
            5
           ],
           "x": [
            "REF",
            3
           ],
           "y": "hello",
           "z": [
            "REF",
            4
           ]
          },
          "heap": {
           "3": [
            "LIST",
            1,
            2,
            3,
            4,
            5,
            6,
            7,
            "hello"
           ],
           "4": [
            "LIST",
            1,
            2,
            3,
            4,
            5
           ],
           "5": [
            "FUNCTION",
            "foo(lst)",
            null
           ],
           "6": [
            "FUNCTION",
            "bar(myLst)",
            null
           ]
          },
          "line": 18,
          "ordered_globals": [
           "x",
           "y",
           "z",
           "foo",
           "bar"
          ],
          "stack_to_render": [
           {
            "encoded_locals": {
             "lst": [
              "REF",
              4
             ]
            },
            "frame_id": 3,
            "func_name": "foo",
            "is_highlighted": true,
            "is_parent": false,
            "is_zombie": false,
            "ordered_varnames": [
             "lst"
            ],
            "parent_frame_id_list": [],
            "unique_hash": "foo_f3"
           }
          ],
          "stdout": "[1, 2, 3, 4, 5, 6, 7, 'hello']\n"
         },
         {
          "event": "step_line",
          "func_name": "foo",
          "globals": {
           "bar": [
            "REF",
            6
           ],
           "foo": [
            "REF",
            5
           ],
           "x": [
            "REF",
            3
           ],
           "y": "hello",
           "z": [
            "REF",
            4
           ]
          },
          "heap": {
           "3": [
            "LIST",
            1,
            2,
            3,
            4,
            5,
            6,
            7,
            "hello"
           ],
           "4": [
            "LIST",
            1,
            2,
            3,
            4,
            5,
            "hello"
           ],
           "5": [
            "FUNCTION",
            "foo(lst)",
            null
           ],
           "6": [
            "FUNCTION",
            "bar(myLst)",
            null
           ]
          },
          "line": 19,
          "ordered_globals": [
           "x",
           "y",
           "z",
           "foo",
           "bar"
          ],
          "stack_to_render": [
           {
            "encoded_locals": {
             "lst": [
              "REF",
              4
             ]
            },
            "frame_id": 3,
            "func_name": "foo",
            "is_highlighted": true,
            "is_parent": false,
            "is_zombie": false,
            "ordered_varnames": [
             "lst"
            ],
            "parent_frame_id_list": [],
            "unique_hash": "foo_f3"
           }
          ],
          "stdout": "[1, 2, 3, 4, 5, 6, 7, 'hello']\n"
         },
         {
          "event": "call",
          "func_name": "bar",
          "globals": {
           "bar": [
            "REF",
            6
           ],
           "foo": [
            "REF",
            5
           ],
           "x": [
            "REF",
            3
           ],
           "y": "hello",
           "z": [
            "REF",
            4
           ]
          },
          "heap": {
           "3": [
            "LIST",
            1,
            2,
            3,
            4,
            5,
            6,
            7,
            "hello"
           ],
           "4": [
            "LIST",
            1,
            2,
            3,
            4,
            5,
            "hello"
           ],
           "5": [
            "FUNCTION",
            "foo(lst)",
            null
           ],
           "6": [
            "FUNCTION",
            "bar(myLst)",
            null
           ]
          },
          "line": 21,
          "ordered_globals": [
           "x",
           "y",
           "z",
           "foo",
           "bar"
          ],
          "stack_to_render": [
           {
            "encoded_locals": {
             "lst": [
              "REF",
              4
             ]
            },
            "frame_id": 3,
            "func_name": "foo",
            "is_highlighted": false,
            "is_parent": false,
            "is_zombie": false,
            "ordered_varnames": [
             "lst"
            ],
            "parent_frame_id_list": [],
            "unique_hash": "foo_f3"
           },
           {
            "encoded_locals": {
             "myLst": [
              "REF",
              4
             ]
            },
            "frame_id": 4,
            "func_name": "bar",
            "is_highlighted": true,
            "is_parent": false,
            "is_zombie": false,
            "ordered_varnames": [
             "myLst"
            ],
            "parent_frame_id_list": [],
            "unique_hash": "bar_f4"
           }
          ],
          "stdout": "[1, 2, 3, 4, 5, 6, 7, 'hello']\n"
         },
         {
          "event": "step_line",
          "func_name": "bar",
          "globals": {
           "bar": [
            "REF",
            6
           ],
           "foo": [
            "REF",
            5
           ],
           "x": [
            "REF",
            3
           ],
           "y": "hello",
           "z": [
            "REF",
            4
           ]
          },
          "heap": {
           "3": [
            "LIST",
            1,
            2,
            3,
            4,
            5,
            6,
            7,
            "hello"
           ],
           "4": [
            "LIST",
            1,
            2,
            3,
            4,
            5,
            "hello"
           ],
           "5": [
            "FUNCTION",
            "foo(lst)",
            null
           ],
           "6": [
            "FUNCTION",
            "bar(myLst)",
            null
           ]
          },
          "line": 22,
          "ordered_globals": [
           "x",
           "y",
           "z",
           "foo",
           "bar"
          ],
          "stack_to_render": [
           {
            "encoded_locals": {
             "lst": [
              "REF",
              4
             ]
            },
            "frame_id": 3,
            "func_name": "foo",
            "is_highlighted": false,
            "is_parent": false,
            "is_zombie": false,
            "ordered_varnames": [
             "lst"
            ],
            "parent_frame_id_list": [],
            "unique_hash": "foo_f3"
           },
           {
            "encoded_locals": {
             "myLst": [
              "REF",
              4
             ]
            },
            "frame_id": 4,
            "func_name": "bar",
            "is_highlighted": true,
            "is_parent": false,
            "is_zombie": false,
            "ordered_varnames": [
             "myLst"
            ],
            "parent_frame_id_list": [],
            "unique_hash": "bar_f4"
           }
          ],
          "stdout": "[1, 2, 3, 4, 5, 6, 7, 'hello']\n"
         },
         {
          "event": "return",
          "func_name": "bar",
          "globals": {
           "bar": [
            "REF",
            6
           ],
           "foo": [
            "REF",
            5
           ],
           "x": [
            "REF",
            3
           ],
           "y": "hello",
           "z": [
            "REF",
            4
           ]
          },
          "heap": {
           "3": [
            "LIST",
            1,
            2,
            3,
            4,
            5,
            6,
            7,
            "hello"
           ],
           "4": [
            "LIST",
            1,
            2,
            3,
            4,
            5,
            "hello"
           ],
           "5": [
            "FUNCTION",
            "foo(lst)",
            null
           ],
           "6": [
            "FUNCTION",
            "bar(myLst)",
            null
           ]
          },
          "line": 22,
          "ordered_globals": [
           "x",
           "y",
           "z",
           "foo",
           "bar"
          ],
          "stack_to_render": [
           {
            "encoded_locals": {
             "lst": [
              "REF",
              4
             ]
            },
            "frame_id": 3,
            "func_name": "foo",
            "is_highlighted": false,
            "is_parent": false,
            "is_zombie": false,
            "ordered_varnames": [
             "lst"
            ],
            "parent_frame_id_list": [],
            "unique_hash": "foo_f3"
           },
           {
            "encoded_locals": {
             "__return__": null,
             "myLst": [
              "REF",
              4
             ]
            },
            "frame_id": 4,
            "func_name": "bar",
            "is_highlighted": true,
            "is_parent": false,
            "is_zombie": false,
            "ordered_varnames": [
             "myLst",
             "__return__"
            ],
            "parent_frame_id_list": [],
            "unique_hash": "bar_f4"
           }
          ],
          "stdout": "[1, 2, 3, 4, 5, 6, 7, 'hello']\n[1, 2, 3, 4, 5, 'hello']\n"
         },
         {
          "event": "return",
          "func_name": "foo",
          "globals": {
           "bar": [
            "REF",
            6
           ],
           "foo": [
            "REF",
            5
           ],
           "x": [
            "REF",
            3
           ],
           "y": "hello",
           "z": [
            "REF",
            4
           ]
          },
          "heap": {
           "3": [
            "LIST",
            1,
            2,
            3,
            4,
            5,
            6,
            7,
            "hello"
           ],
           "4": [
            "LIST",
            1,
            2,
            3,
            4,
            5,
            "hello"
           ],
           "5": [
            "FUNCTION",
            "foo(lst)",
            null
           ],
           "6": [
            "FUNCTION",
            "bar(myLst)",
            null
           ]
          },
          "line": 19,
          "ordered_globals": [
           "x",
           "y",
           "z",
           "foo",
           "bar"
          ],
          "stack_to_render": [
           {
            "encoded_locals": {
             "__return__": null,
             "lst": [
              "REF",
              4
             ]
            },
            "frame_id": 3,
            "func_name": "foo",
            "is_highlighted": true,
            "is_parent": false,
            "is_zombie": false,
            "ordered_varnames": [
             "lst",
             "__return__"
            ],
            "parent_frame_id_list": [],
            "unique_hash": "foo_f3"
           }
          ],
          "stdout": "[1, 2, 3, 4, 5, 6, 7, 'hello']\n[1, 2, 3, 4, 5, 'hello']\n"
         },
         {
          "event": "return",
          "func_name": "<module>",
          "globals": {
           "bar": [
            "REF",
            6
           ],
           "foo": [
            "REF",
            5
           ],
           "x": [
            "REF",
            3
           ],
           "y": "hello",
           "z": [
            "REF",
            4
           ]
          },
          "heap": {
           "3": [
            "LIST",
            1,
            2,
            3,
            4,
            5,
            6,
            7,
            "hello"
           ],
           "4": [
            "LIST",
            1,
            2,
            3,
            4,
            5,
            "hello"
           ],
           "5": [
            "FUNCTION",
            "foo(lst)",
            null
           ],
           "6": [
            "FUNCTION",
            "bar(myLst)",
            null
           ]
          },
          "line": 25,
          "ordered_globals": [
           "x",
           "y",
           "z",
           "foo",
           "bar"
          ],
          "stack_to_render": [],
          "stdout": "[1, 2, 3, 4, 5, 6, 7, 'hello']\n[1, 2, 3, 4, 5, 'hello']\n"
         }
        ]
       },
       "output_type": "display_data"
      }
     ],
     "prompt_number": 4
    },
    {
     "cell_type": "heading",
     "level": 2,
     "metadata": {},
     "source": [
      "Factorial"
     ]
    },
    {
     "cell_type": "code",
     "collapsed": false,
     "input": [
      "%%pytutor\n",
      "# dumb recursive factorial\n",
      "def fact(n):\n",
      "    if (n <= 1):\n",
      "        return 1\n",
      "    else:\n",
      "        return n * fact(n - 1)\n",
      "\n",
      "print(fact(6))"
     ],
     "language": "python",
     "metadata": {},
     "outputs": [
      {
       "json": {
        "code": "# dumb recursive factorial\ndef fact(n):\n    if (n <= 1):\n        return 1\n    else:\n        return n * fact(n - 1)\n\nprint(fact(6))",
        "handler": "pytutor",
        "trace": [
         {
          "event": "step_line",
          "func_name": "<module>",
          "globals": {},
          "heap": {},
          "line": 2,
          "ordered_globals": [],
          "stack_to_render": [],
          "stdout": ""
         },
         {
          "event": "step_line",
          "func_name": "<module>",
          "globals": {
           "fact": [
            "REF",
            1
           ]
          },
          "heap": {
           "1": [
            "FUNCTION",
            "fact(n)",
            null
           ]
          },
          "line": 8,
          "ordered_globals": [
           "fact"
          ],
          "stack_to_render": [],
          "stdout": ""
         },
         {
          "event": "call",
          "func_name": "fact",
          "globals": {
           "fact": [
            "REF",
            1
           ]
          },
          "heap": {
           "1": [
            "FUNCTION",
            "fact(n)",
            null
           ]
          },
          "line": 2,
          "ordered_globals": [
           "fact"
          ],
          "stack_to_render": [
           {
            "encoded_locals": {
             "n": 6
            },
            "frame_id": 1,
            "func_name": "fact",
            "is_highlighted": true,
            "is_parent": false,
            "is_zombie": false,
            "ordered_varnames": [
             "n"
            ],
            "parent_frame_id_list": [],
            "unique_hash": "fact_f1"
           }
          ],
          "stdout": ""
         },
         {
          "event": "step_line",
          "func_name": "fact",
          "globals": {
           "fact": [
            "REF",
            1
           ]
          },
          "heap": {
           "1": [
            "FUNCTION",
            "fact(n)",
            null
           ]
          },
          "line": 3,
          "ordered_globals": [
           "fact"
          ],
          "stack_to_render": [
           {
            "encoded_locals": {
             "n": 6
            },
            "frame_id": 1,
            "func_name": "fact",
            "is_highlighted": true,
            "is_parent": false,
            "is_zombie": false,
            "ordered_varnames": [
             "n"
            ],
            "parent_frame_id_list": [],
            "unique_hash": "fact_f1"
           }
          ],
          "stdout": ""
         },
         {
          "event": "step_line",
          "func_name": "fact",
          "globals": {
           "fact": [
            "REF",
            1
           ]
          },
          "heap": {
           "1": [
            "FUNCTION",
            "fact(n)",
            null
           ]
          },
          "line": 6,
          "ordered_globals": [
           "fact"
          ],
          "stack_to_render": [
           {
            "encoded_locals": {
             "n": 6
            },
            "frame_id": 1,
            "func_name": "fact",
            "is_highlighted": true,
            "is_parent": false,
            "is_zombie": false,
            "ordered_varnames": [
             "n"
            ],
            "parent_frame_id_list": [],
            "unique_hash": "fact_f1"
           }
          ],
          "stdout": ""
         },
         {
          "event": "call",
          "func_name": "fact",
          "globals": {
           "fact": [
            "REF",
            1
           ]
          },
          "heap": {
           "1": [
            "FUNCTION",
            "fact(n)",
            null
           ]
          },
          "line": 2,
          "ordered_globals": [
           "fact"
          ],
          "stack_to_render": [
           {
            "encoded_locals": {
             "n": 6
            },
            "frame_id": 1,
            "func_name": "fact",
            "is_highlighted": false,
            "is_parent": false,
            "is_zombie": false,
            "ordered_varnames": [
             "n"
            ],
            "parent_frame_id_list": [],
            "unique_hash": "fact_f1"
           },
           {
            "encoded_locals": {
             "n": 5
            },
            "frame_id": 2,
            "func_name": "fact",
            "is_highlighted": true,
            "is_parent": false,
            "is_zombie": false,
            "ordered_varnames": [
             "n"
            ],
            "parent_frame_id_list": [],
            "unique_hash": "fact_f2"
           }
          ],
          "stdout": ""
         },
         {
          "event": "step_line",
          "func_name": "fact",
          "globals": {
           "fact": [
            "REF",
            1
           ]
          },
          "heap": {
           "1": [
            "FUNCTION",
            "fact(n)",
            null
           ]
          },
          "line": 3,
          "ordered_globals": [
           "fact"
          ],
          "stack_to_render": [
           {
            "encoded_locals": {
             "n": 6
            },
            "frame_id": 1,
            "func_name": "fact",
            "is_highlighted": false,
            "is_parent": false,
            "is_zombie": false,
            "ordered_varnames": [
             "n"
            ],
            "parent_frame_id_list": [],
            "unique_hash": "fact_f1"
           },
           {
            "encoded_locals": {
             "n": 5
            },
            "frame_id": 2,
            "func_name": "fact",
            "is_highlighted": true,
            "is_parent": false,
            "is_zombie": false,
            "ordered_varnames": [
             "n"
            ],
            "parent_frame_id_list": [],
            "unique_hash": "fact_f2"
           }
          ],
          "stdout": ""
         },
         {
          "event": "step_line",
          "func_name": "fact",
          "globals": {
           "fact": [
            "REF",
            1
           ]
          },
          "heap": {
           "1": [
            "FUNCTION",
            "fact(n)",
            null
           ]
          },
          "line": 6,
          "ordered_globals": [
           "fact"
          ],
          "stack_to_render": [
           {
            "encoded_locals": {
             "n": 6
            },
            "frame_id": 1,
            "func_name": "fact",
            "is_highlighted": false,
            "is_parent": false,
            "is_zombie": false,
            "ordered_varnames": [
             "n"
            ],
            "parent_frame_id_list": [],
            "unique_hash": "fact_f1"
           },
           {
            "encoded_locals": {
             "n": 5
            },
            "frame_id": 2,
            "func_name": "fact",
            "is_highlighted": true,
            "is_parent": false,
            "is_zombie": false,
            "ordered_varnames": [
             "n"
            ],
            "parent_frame_id_list": [],
            "unique_hash": "fact_f2"
           }
          ],
          "stdout": ""
         },
         {
          "event": "call",
          "func_name": "fact",
          "globals": {
           "fact": [
            "REF",
            1
           ]
          },
          "heap": {
           "1": [
            "FUNCTION",
            "fact(n)",
            null
           ]
          },
          "line": 2,
          "ordered_globals": [
           "fact"
          ],
          "stack_to_render": [
           {
            "encoded_locals": {
             "n": 6
            },
            "frame_id": 1,
            "func_name": "fact",
            "is_highlighted": false,
            "is_parent": false,
            "is_zombie": false,
            "ordered_varnames": [
             "n"
            ],
            "parent_frame_id_list": [],
            "unique_hash": "fact_f1"
           },
           {
            "encoded_locals": {
             "n": 5
            },
            "frame_id": 2,
            "func_name": "fact",
            "is_highlighted": false,
            "is_parent": false,
            "is_zombie": false,
            "ordered_varnames": [
             "n"
            ],
            "parent_frame_id_list": [],
            "unique_hash": "fact_f2"
           },
           {
            "encoded_locals": {
             "n": 4
            },
            "frame_id": 3,
            "func_name": "fact",
            "is_highlighted": true,
            "is_parent": false,
            "is_zombie": false,
            "ordered_varnames": [
             "n"
            ],
            "parent_frame_id_list": [],
            "unique_hash": "fact_f3"
           }
          ],
          "stdout": ""
         },
         {
          "event": "step_line",
          "func_name": "fact",
          "globals": {
           "fact": [
            "REF",
            1
           ]
          },
          "heap": {
           "1": [
            "FUNCTION",
            "fact(n)",
            null
           ]
          },
          "line": 3,
          "ordered_globals": [
           "fact"
          ],
          "stack_to_render": [
           {
            "encoded_locals": {
             "n": 6
            },
            "frame_id": 1,
            "func_name": "fact",
            "is_highlighted": false,
            "is_parent": false,
            "is_zombie": false,
            "ordered_varnames": [
             "n"
            ],
            "parent_frame_id_list": [],
            "unique_hash": "fact_f1"
           },
           {
            "encoded_locals": {
             "n": 5
            },
            "frame_id": 2,
            "func_name": "fact",
            "is_highlighted": false,
            "is_parent": false,
            "is_zombie": false,
            "ordered_varnames": [
             "n"
            ],
            "parent_frame_id_list": [],
            "unique_hash": "fact_f2"
           },
           {
            "encoded_locals": {
             "n": 4
            },
            "frame_id": 3,
            "func_name": "fact",
            "is_highlighted": true,
            "is_parent": false,
            "is_zombie": false,
            "ordered_varnames": [
             "n"
            ],
            "parent_frame_id_list": [],
            "unique_hash": "fact_f3"
           }
          ],
          "stdout": ""
         },
         {
          "event": "step_line",
          "func_name": "fact",
          "globals": {
           "fact": [
            "REF",
            1
           ]
          },
          "heap": {
           "1": [
            "FUNCTION",
            "fact(n)",
            null
           ]
          },
          "line": 6,
          "ordered_globals": [
           "fact"
          ],
          "stack_to_render": [
           {
            "encoded_locals": {
             "n": 6
            },
            "frame_id": 1,
            "func_name": "fact",
            "is_highlighted": false,
            "is_parent": false,
            "is_zombie": false,
            "ordered_varnames": [
             "n"
            ],
            "parent_frame_id_list": [],
            "unique_hash": "fact_f1"
           },
           {
            "encoded_locals": {
             "n": 5
            },
            "frame_id": 2,
            "func_name": "fact",
            "is_highlighted": false,
            "is_parent": false,
            "is_zombie": false,
            "ordered_varnames": [
             "n"
            ],
            "parent_frame_id_list": [],
            "unique_hash": "fact_f2"
           },
           {
            "encoded_locals": {
             "n": 4
            },
            "frame_id": 3,
            "func_name": "fact",
            "is_highlighted": true,
            "is_parent": false,
            "is_zombie": false,
            "ordered_varnames": [
             "n"
            ],
            "parent_frame_id_list": [],
            "unique_hash": "fact_f3"
           }
          ],
          "stdout": ""
         },
         {
          "event": "call",
          "func_name": "fact",
          "globals": {
           "fact": [
            "REF",
            1
           ]
          },
          "heap": {
           "1": [
            "FUNCTION",
            "fact(n)",
            null
           ]
          },
          "line": 2,
          "ordered_globals": [
           "fact"
          ],
          "stack_to_render": [
           {
            "encoded_locals": {
             "n": 6
            },
            "frame_id": 1,
            "func_name": "fact",
            "is_highlighted": false,
            "is_parent": false,
            "is_zombie": false,
            "ordered_varnames": [
             "n"
            ],
            "parent_frame_id_list": [],
            "unique_hash": "fact_f1"
           },
           {
            "encoded_locals": {
             "n": 5
            },
            "frame_id": 2,
            "func_name": "fact",
            "is_highlighted": false,
            "is_parent": false,
            "is_zombie": false,
            "ordered_varnames": [
             "n"
            ],
            "parent_frame_id_list": [],
            "unique_hash": "fact_f2"
           },
           {
            "encoded_locals": {
             "n": 4
            },
            "frame_id": 3,
            "func_name": "fact",
            "is_highlighted": false,
            "is_parent": false,
            "is_zombie": false,
            "ordered_varnames": [
             "n"
            ],
            "parent_frame_id_list": [],
            "unique_hash": "fact_f3"
           },
           {
            "encoded_locals": {
             "n": 3
            },
            "frame_id": 4,
            "func_name": "fact",
            "is_highlighted": true,
            "is_parent": false,
            "is_zombie": false,
            "ordered_varnames": [
             "n"
            ],
            "parent_frame_id_list": [],
            "unique_hash": "fact_f4"
           }
          ],
          "stdout": ""
         },
         {
          "event": "step_line",
          "func_name": "fact",
          "globals": {
           "fact": [
            "REF",
            1
           ]
          },
          "heap": {
           "1": [
            "FUNCTION",
            "fact(n)",
            null
           ]
          },
          "line": 3,
          "ordered_globals": [
           "fact"
          ],
          "stack_to_render": [
           {
            "encoded_locals": {
             "n": 6
            },
            "frame_id": 1,
            "func_name": "fact",
            "is_highlighted": false,
            "is_parent": false,
            "is_zombie": false,
            "ordered_varnames": [
             "n"
            ],
            "parent_frame_id_list": [],
            "unique_hash": "fact_f1"
           },
           {
            "encoded_locals": {
             "n": 5
            },
            "frame_id": 2,
            "func_name": "fact",
            "is_highlighted": false,
            "is_parent": false,
            "is_zombie": false,
            "ordered_varnames": [
             "n"
            ],
            "parent_frame_id_list": [],
            "unique_hash": "fact_f2"
           },
           {
            "encoded_locals": {
             "n": 4
            },
            "frame_id": 3,
            "func_name": "fact",
            "is_highlighted": false,
            "is_parent": false,
            "is_zombie": false,
            "ordered_varnames": [
             "n"
            ],
            "parent_frame_id_list": [],
            "unique_hash": "fact_f3"
           },
           {
            "encoded_locals": {
             "n": 3
            },
            "frame_id": 4,
            "func_name": "fact",
            "is_highlighted": true,
            "is_parent": false,
            "is_zombie": false,
            "ordered_varnames": [
             "n"
            ],
            "parent_frame_id_list": [],
            "unique_hash": "fact_f4"
           }
          ],
          "stdout": ""
         },
         {
          "event": "step_line",
          "func_name": "fact",
          "globals": {
           "fact": [
            "REF",
            1
           ]
          },
          "heap": {
           "1": [
            "FUNCTION",
            "fact(n)",
            null
           ]
          },
          "line": 6,
          "ordered_globals": [
           "fact"
          ],
          "stack_to_render": [
           {
            "encoded_locals": {
             "n": 6
            },
            "frame_id": 1,
            "func_name": "fact",
            "is_highlighted": false,
            "is_parent": false,
            "is_zombie": false,
            "ordered_varnames": [
             "n"
            ],
            "parent_frame_id_list": [],
            "unique_hash": "fact_f1"
           },
           {
            "encoded_locals": {
             "n": 5
            },
            "frame_id": 2,
            "func_name": "fact",
            "is_highlighted": false,
            "is_parent": false,
            "is_zombie": false,
            "ordered_varnames": [
             "n"
            ],
            "parent_frame_id_list": [],
            "unique_hash": "fact_f2"
           },
           {
            "encoded_locals": {
             "n": 4
            },
            "frame_id": 3,
            "func_name": "fact",
            "is_highlighted": false,
            "is_parent": false,
            "is_zombie": false,
            "ordered_varnames": [
             "n"
            ],
            "parent_frame_id_list": [],
            "unique_hash": "fact_f3"
           },
           {
            "encoded_locals": {
             "n": 3
            },
            "frame_id": 4,
            "func_name": "fact",
            "is_highlighted": true,
            "is_parent": false,
            "is_zombie": false,
            "ordered_varnames": [
             "n"
            ],
            "parent_frame_id_list": [],
            "unique_hash": "fact_f4"
           }
          ],
          "stdout": ""
         },
         {
          "event": "call",
          "func_name": "fact",
          "globals": {
           "fact": [
            "REF",
            1
           ]
          },
          "heap": {
           "1": [
            "FUNCTION",
            "fact(n)",
            null
           ]
          },
          "line": 2,
          "ordered_globals": [
           "fact"
          ],
          "stack_to_render": [
           {
            "encoded_locals": {
             "n": 6
            },
            "frame_id": 1,
            "func_name": "fact",
            "is_highlighted": false,
            "is_parent": false,
            "is_zombie": false,
            "ordered_varnames": [
             "n"
            ],
            "parent_frame_id_list": [],
            "unique_hash": "fact_f1"
           },
           {
            "encoded_locals": {
             "n": 5
            },
            "frame_id": 2,
            "func_name": "fact",
            "is_highlighted": false,
            "is_parent": false,
            "is_zombie": false,
            "ordered_varnames": [
             "n"
            ],
            "parent_frame_id_list": [],
            "unique_hash": "fact_f2"
           },
           {
            "encoded_locals": {
             "n": 4
            },
            "frame_id": 3,
            "func_name": "fact",
            "is_highlighted": false,
            "is_parent": false,
            "is_zombie": false,
            "ordered_varnames": [
             "n"
            ],
            "parent_frame_id_list": [],
            "unique_hash": "fact_f3"
           },
           {
            "encoded_locals": {
             "n": 3
            },
            "frame_id": 4,
            "func_name": "fact",
            "is_highlighted": false,
            "is_parent": false,
            "is_zombie": false,
            "ordered_varnames": [
             "n"
            ],
            "parent_frame_id_list": [],
            "unique_hash": "fact_f4"
           },
           {
            "encoded_locals": {
             "n": 2
            },
            "frame_id": 5,
            "func_name": "fact",
            "is_highlighted": true,
            "is_parent": false,
            "is_zombie": false,
            "ordered_varnames": [
             "n"
            ],
            "parent_frame_id_list": [],
            "unique_hash": "fact_f5"
           }
          ],
          "stdout": ""
         },
         {
          "event": "step_line",
          "func_name": "fact",
          "globals": {
           "fact": [
            "REF",
            1
           ]
          },
          "heap": {
           "1": [
            "FUNCTION",
            "fact(n)",
            null
           ]
          },
          "line": 3,
          "ordered_globals": [
           "fact"
          ],
          "stack_to_render": [
           {
            "encoded_locals": {
             "n": 6
            },
            "frame_id": 1,
            "func_name": "fact",
            "is_highlighted": false,
            "is_parent": false,
            "is_zombie": false,
            "ordered_varnames": [
             "n"
            ],
            "parent_frame_id_list": [],
            "unique_hash": "fact_f1"
           },
           {
            "encoded_locals": {
             "n": 5
            },
            "frame_id": 2,
            "func_name": "fact",
            "is_highlighted": false,
            "is_parent": false,
            "is_zombie": false,
            "ordered_varnames": [
             "n"
            ],
            "parent_frame_id_list": [],
            "unique_hash": "fact_f2"
           },
           {
            "encoded_locals": {
             "n": 4
            },
            "frame_id": 3,
            "func_name": "fact",
            "is_highlighted": false,
            "is_parent": false,
            "is_zombie": false,
            "ordered_varnames": [
             "n"
            ],
            "parent_frame_id_list": [],
            "unique_hash": "fact_f3"
           },
           {
            "encoded_locals": {
             "n": 3
            },
            "frame_id": 4,
            "func_name": "fact",
            "is_highlighted": false,
            "is_parent": false,
            "is_zombie": false,
            "ordered_varnames": [
             "n"
            ],
            "parent_frame_id_list": [],
            "unique_hash": "fact_f4"
           },
           {
            "encoded_locals": {
             "n": 2
            },
            "frame_id": 5,
            "func_name": "fact",
            "is_highlighted": true,
            "is_parent": false,
            "is_zombie": false,
            "ordered_varnames": [
             "n"
            ],
            "parent_frame_id_list": [],
            "unique_hash": "fact_f5"
           }
          ],
          "stdout": ""
         },
         {
          "event": "step_line",
          "func_name": "fact",
          "globals": {
           "fact": [
            "REF",
            1
           ]
          },
          "heap": {
           "1": [
            "FUNCTION",
            "fact(n)",
            null
           ]
          },
          "line": 6,
          "ordered_globals": [
           "fact"
          ],
          "stack_to_render": [
           {
            "encoded_locals": {
             "n": 6
            },
            "frame_id": 1,
            "func_name": "fact",
            "is_highlighted": false,
            "is_parent": false,
            "is_zombie": false,
            "ordered_varnames": [
             "n"
            ],
            "parent_frame_id_list": [],
            "unique_hash": "fact_f1"
           },
           {
            "encoded_locals": {
             "n": 5
            },
            "frame_id": 2,
            "func_name": "fact",
            "is_highlighted": false,
            "is_parent": false,
            "is_zombie": false,
            "ordered_varnames": [
             "n"
            ],
            "parent_frame_id_list": [],
            "unique_hash": "fact_f2"
           },
           {
            "encoded_locals": {
             "n": 4
            },
            "frame_id": 3,
            "func_name": "fact",
            "is_highlighted": false,
            "is_parent": false,
            "is_zombie": false,
            "ordered_varnames": [
             "n"
            ],
            "parent_frame_id_list": [],
            "unique_hash": "fact_f3"
           },
           {
            "encoded_locals": {
             "n": 3
            },
            "frame_id": 4,
            "func_name": "fact",
            "is_highlighted": false,
            "is_parent": false,
            "is_zombie": false,
            "ordered_varnames": [
             "n"
            ],
            "parent_frame_id_list": [],
            "unique_hash": "fact_f4"
           },
           {
            "encoded_locals": {
             "n": 2
            },
            "frame_id": 5,
            "func_name": "fact",
            "is_highlighted": true,
            "is_parent": false,
            "is_zombie": false,
            "ordered_varnames": [
             "n"
            ],
            "parent_frame_id_list": [],
            "unique_hash": "fact_f5"
           }
          ],
          "stdout": ""
         },
         {
          "event": "call",
          "func_name": "fact",
          "globals": {
           "fact": [
            "REF",
            1
           ]
          },
          "heap": {
           "1": [
            "FUNCTION",
            "fact(n)",
            null
           ]
          },
          "line": 2,
          "ordered_globals": [
           "fact"
          ],
          "stack_to_render": [
           {
            "encoded_locals": {
             "n": 6
            },
            "frame_id": 1,
            "func_name": "fact",
            "is_highlighted": false,
            "is_parent": false,
            "is_zombie": false,
            "ordered_varnames": [
             "n"
            ],
            "parent_frame_id_list": [],
            "unique_hash": "fact_f1"
           },
           {
            "encoded_locals": {
             "n": 5
            },
            "frame_id": 2,
            "func_name": "fact",
            "is_highlighted": false,
            "is_parent": false,
            "is_zombie": false,
            "ordered_varnames": [
             "n"
            ],
            "parent_frame_id_list": [],
            "unique_hash": "fact_f2"
           },
           {
            "encoded_locals": {
             "n": 4
            },
            "frame_id": 3,
            "func_name": "fact",
            "is_highlighted": false,
            "is_parent": false,
            "is_zombie": false,
            "ordered_varnames": [
             "n"
            ],
            "parent_frame_id_list": [],
            "unique_hash": "fact_f3"
           },
           {
            "encoded_locals": {
             "n": 3
            },
            "frame_id": 4,
            "func_name": "fact",
            "is_highlighted": false,
            "is_parent": false,
            "is_zombie": false,
            "ordered_varnames": [
             "n"
            ],
            "parent_frame_id_list": [],
            "unique_hash": "fact_f4"
           },
           {
            "encoded_locals": {
             "n": 2
            },
            "frame_id": 5,
            "func_name": "fact",
            "is_highlighted": false,
            "is_parent": false,
            "is_zombie": false,
            "ordered_varnames": [
             "n"
            ],
            "parent_frame_id_list": [],
            "unique_hash": "fact_f5"
           },
           {
            "encoded_locals": {
             "n": 1
            },
            "frame_id": 6,
            "func_name": "fact",
            "is_highlighted": true,
            "is_parent": false,
            "is_zombie": false,
            "ordered_varnames": [
             "n"
            ],
            "parent_frame_id_list": [],
            "unique_hash": "fact_f6"
           }
          ],
          "stdout": ""
         },
         {
          "event": "step_line",
          "func_name": "fact",
          "globals": {
           "fact": [
            "REF",
            1
           ]
          },
          "heap": {
           "1": [
            "FUNCTION",
            "fact(n)",
            null
           ]
          },
          "line": 3,
          "ordered_globals": [
           "fact"
          ],
          "stack_to_render": [
           {
            "encoded_locals": {
             "n": 6
            },
            "frame_id": 1,
            "func_name": "fact",
            "is_highlighted": false,
            "is_parent": false,
            "is_zombie": false,
            "ordered_varnames": [
             "n"
            ],
            "parent_frame_id_list": [],
            "unique_hash": "fact_f1"
           },
           {
            "encoded_locals": {
             "n": 5
            },
            "frame_id": 2,
            "func_name": "fact",
            "is_highlighted": false,
            "is_parent": false,
            "is_zombie": false,
            "ordered_varnames": [
             "n"
            ],
            "parent_frame_id_list": [],
            "unique_hash": "fact_f2"
           },
           {
            "encoded_locals": {
             "n": 4
            },
            "frame_id": 3,
            "func_name": "fact",
            "is_highlighted": false,
            "is_parent": false,
            "is_zombie": false,
            "ordered_varnames": [
             "n"
            ],
            "parent_frame_id_list": [],
            "unique_hash": "fact_f3"
           },
           {
            "encoded_locals": {
             "n": 3
            },
            "frame_id": 4,
            "func_name": "fact",
            "is_highlighted": false,
            "is_parent": false,
            "is_zombie": false,
            "ordered_varnames": [
             "n"
            ],
            "parent_frame_id_list": [],
            "unique_hash": "fact_f4"
           },
           {
            "encoded_locals": {
             "n": 2
            },
            "frame_id": 5,
            "func_name": "fact",
            "is_highlighted": false,
            "is_parent": false,
            "is_zombie": false,
            "ordered_varnames": [
             "n"
            ],
            "parent_frame_id_list": [],
            "unique_hash": "fact_f5"
           },
           {
            "encoded_locals": {
             "n": 1
            },
            "frame_id": 6,
            "func_name": "fact",
            "is_highlighted": true,
            "is_parent": false,
            "is_zombie": false,
            "ordered_varnames": [
             "n"
            ],
            "parent_frame_id_list": [],
            "unique_hash": "fact_f6"
           }
          ],
          "stdout": ""
         },
         {
          "event": "step_line",
          "func_name": "fact",
          "globals": {
           "fact": [
            "REF",
            1
           ]
          },
          "heap": {
           "1": [
            "FUNCTION",
            "fact(n)",
            null
           ]
          },
          "line": 4,
          "ordered_globals": [
           "fact"
          ],
          "stack_to_render": [
           {
            "encoded_locals": {
             "n": 6
            },
            "frame_id": 1,
            "func_name": "fact",
            "is_highlighted": false,
            "is_parent": false,
            "is_zombie": false,
            "ordered_varnames": [
             "n"
            ],
            "parent_frame_id_list": [],
            "unique_hash": "fact_f1"
           },
           {
            "encoded_locals": {
             "n": 5
            },
            "frame_id": 2,
            "func_name": "fact",
            "is_highlighted": false,
            "is_parent": false,
            "is_zombie": false,
            "ordered_varnames": [
             "n"
            ],
            "parent_frame_id_list": [],
            "unique_hash": "fact_f2"
           },
           {
            "encoded_locals": {
             "n": 4
            },
            "frame_id": 3,
            "func_name": "fact",
            "is_highlighted": false,
            "is_parent": false,
            "is_zombie": false,
            "ordered_varnames": [
             "n"
            ],
            "parent_frame_id_list": [],
            "unique_hash": "fact_f3"
           },
           {
            "encoded_locals": {
             "n": 3
            },
            "frame_id": 4,
            "func_name": "fact",
            "is_highlighted": false,
            "is_parent": false,
            "is_zombie": false,
            "ordered_varnames": [
             "n"
            ],
            "parent_frame_id_list": [],
            "unique_hash": "fact_f4"
           },
           {
            "encoded_locals": {
             "n": 2
            },
            "frame_id": 5,
            "func_name": "fact",
            "is_highlighted": false,
            "is_parent": false,
            "is_zombie": false,
            "ordered_varnames": [
             "n"
            ],
            "parent_frame_id_list": [],
            "unique_hash": "fact_f5"
           },
           {
            "encoded_locals": {
             "n": 1
            },
            "frame_id": 6,
            "func_name": "fact",
            "is_highlighted": true,
            "is_parent": false,
            "is_zombie": false,
            "ordered_varnames": [
             "n"
            ],
            "parent_frame_id_list": [],
            "unique_hash": "fact_f6"
           }
          ],
          "stdout": ""
         },
         {
          "event": "return",
          "func_name": "fact",
          "globals": {
           "fact": [
            "REF",
            1
           ]
          },
          "heap": {
           "1": [
            "FUNCTION",
            "fact(n)",
            null
           ]
          },
          "line": 4,
          "ordered_globals": [
           "fact"
          ],
          "stack_to_render": [
           {
            "encoded_locals": {
             "n": 6
            },
            "frame_id": 1,
            "func_name": "fact",
            "is_highlighted": false,
            "is_parent": false,
            "is_zombie": false,
            "ordered_varnames": [
             "n"
            ],
            "parent_frame_id_list": [],
            "unique_hash": "fact_f1"
           },
           {
            "encoded_locals": {
             "n": 5
            },
            "frame_id": 2,
            "func_name": "fact",
            "is_highlighted": false,
            "is_parent": false,
            "is_zombie": false,
            "ordered_varnames": [
             "n"
            ],
            "parent_frame_id_list": [],
            "unique_hash": "fact_f2"
           },
           {
            "encoded_locals": {
             "n": 4
            },
            "frame_id": 3,
            "func_name": "fact",
            "is_highlighted": false,
            "is_parent": false,
            "is_zombie": false,
            "ordered_varnames": [
             "n"
            ],
            "parent_frame_id_list": [],
            "unique_hash": "fact_f3"
           },
           {
            "encoded_locals": {
             "n": 3
            },
            "frame_id": 4,
            "func_name": "fact",
            "is_highlighted": false,
            "is_parent": false,
            "is_zombie": false,
            "ordered_varnames": [
             "n"
            ],
            "parent_frame_id_list": [],
            "unique_hash": "fact_f4"
           },
           {
            "encoded_locals": {
             "n": 2
            },
            "frame_id": 5,
            "func_name": "fact",
            "is_highlighted": false,
            "is_parent": false,
            "is_zombie": false,
            "ordered_varnames": [
             "n"
            ],
            "parent_frame_id_list": [],
            "unique_hash": "fact_f5"
           },
           {
            "encoded_locals": {
             "__return__": 1,
             "n": 1
            },
            "frame_id": 6,
            "func_name": "fact",
            "is_highlighted": true,
            "is_parent": false,
            "is_zombie": false,
            "ordered_varnames": [
             "n",
             "__return__"
            ],
            "parent_frame_id_list": [],
            "unique_hash": "fact_f6"
           }
          ],
          "stdout": ""
         },
         {
          "event": "return",
          "func_name": "fact",
          "globals": {
           "fact": [
            "REF",
            1
           ]
          },
          "heap": {
           "1": [
            "FUNCTION",
            "fact(n)",
            null
           ]
          },
          "line": 6,
          "ordered_globals": [
           "fact"
          ],
          "stack_to_render": [
           {
            "encoded_locals": {
             "n": 6
            },
            "frame_id": 1,
            "func_name": "fact",
            "is_highlighted": false,
            "is_parent": false,
            "is_zombie": false,
            "ordered_varnames": [
             "n"
            ],
            "parent_frame_id_list": [],
            "unique_hash": "fact_f1"
           },
           {
            "encoded_locals": {
             "n": 5
            },
            "frame_id": 2,
            "func_name": "fact",
            "is_highlighted": false,
            "is_parent": false,
            "is_zombie": false,
            "ordered_varnames": [
             "n"
            ],
            "parent_frame_id_list": [],
            "unique_hash": "fact_f2"
           },
           {
            "encoded_locals": {
             "n": 4
            },
            "frame_id": 3,
            "func_name": "fact",
            "is_highlighted": false,
            "is_parent": false,
            "is_zombie": false,
            "ordered_varnames": [
             "n"
            ],
            "parent_frame_id_list": [],
            "unique_hash": "fact_f3"
           },
           {
            "encoded_locals": {
             "n": 3
            },
            "frame_id": 4,
            "func_name": "fact",
            "is_highlighted": false,
            "is_parent": false,
            "is_zombie": false,
            "ordered_varnames": [
             "n"
            ],
            "parent_frame_id_list": [],
            "unique_hash": "fact_f4"
           },
           {
            "encoded_locals": {
             "__return__": 2,
             "n": 2
            },
            "frame_id": 5,
            "func_name": "fact",
            "is_highlighted": true,
            "is_parent": false,
            "is_zombie": false,
            "ordered_varnames": [
             "n",
             "__return__"
            ],
            "parent_frame_id_list": [],
            "unique_hash": "fact_f5"
           }
          ],
          "stdout": ""
         },
         {
          "event": "return",
          "func_name": "fact",
          "globals": {
           "fact": [
            "REF",
            1
           ]
          },
          "heap": {
           "1": [
            "FUNCTION",
            "fact(n)",
            null
           ]
          },
          "line": 6,
          "ordered_globals": [
           "fact"
          ],
          "stack_to_render": [
           {
            "encoded_locals": {
             "n": 6
            },
            "frame_id": 1,
            "func_name": "fact",
            "is_highlighted": false,
            "is_parent": false,
            "is_zombie": false,
            "ordered_varnames": [
             "n"
            ],
            "parent_frame_id_list": [],
            "unique_hash": "fact_f1"
           },
           {
            "encoded_locals": {
             "n": 5
            },
            "frame_id": 2,
            "func_name": "fact",
            "is_highlighted": false,
            "is_parent": false,
            "is_zombie": false,
            "ordered_varnames": [
             "n"
            ],
            "parent_frame_id_list": [],
            "unique_hash": "fact_f2"
           },
           {
            "encoded_locals": {
             "n": 4
            },
            "frame_id": 3,
            "func_name": "fact",
            "is_highlighted": false,
            "is_parent": false,
            "is_zombie": false,
            "ordered_varnames": [
             "n"
            ],
            "parent_frame_id_list": [],
            "unique_hash": "fact_f3"
           },
           {
            "encoded_locals": {
             "__return__": 6,
             "n": 3
            },
            "frame_id": 4,
            "func_name": "fact",
            "is_highlighted": true,
            "is_parent": false,
            "is_zombie": false,
            "ordered_varnames": [
             "n",
             "__return__"
            ],
            "parent_frame_id_list": [],
            "unique_hash": "fact_f4"
           }
          ],
          "stdout": ""
         },
         {
          "event": "return",
          "func_name": "fact",
          "globals": {
           "fact": [
            "REF",
            1
           ]
          },
          "heap": {
           "1": [
            "FUNCTION",
            "fact(n)",
            null
           ]
          },
          "line": 6,
          "ordered_globals": [
           "fact"
          ],
          "stack_to_render": [
           {
            "encoded_locals": {
             "n": 6
            },
            "frame_id": 1,
            "func_name": "fact",
            "is_highlighted": false,
            "is_parent": false,
            "is_zombie": false,
            "ordered_varnames": [
             "n"
            ],
            "parent_frame_id_list": [],
            "unique_hash": "fact_f1"
           },
           {
            "encoded_locals": {
             "n": 5
            },
            "frame_id": 2,
            "func_name": "fact",
            "is_highlighted": false,
            "is_parent": false,
            "is_zombie": false,
            "ordered_varnames": [
             "n"
            ],
            "parent_frame_id_list": [],
            "unique_hash": "fact_f2"
           },
           {
            "encoded_locals": {
             "__return__": 24,
             "n": 4
            },
            "frame_id": 3,
            "func_name": "fact",
            "is_highlighted": true,
            "is_parent": false,
            "is_zombie": false,
            "ordered_varnames": [
             "n",
             "__return__"
            ],
            "parent_frame_id_list": [],
            "unique_hash": "fact_f3"
           }
          ],
          "stdout": ""
         },
         {
          "event": "return",
          "func_name": "fact",
          "globals": {
           "fact": [
            "REF",
            1
           ]
          },
          "heap": {
           "1": [
            "FUNCTION",
            "fact(n)",
            null
           ]
          },
          "line": 6,
          "ordered_globals": [
           "fact"
          ],
          "stack_to_render": [
           {
            "encoded_locals": {
             "n": 6
            },
            "frame_id": 1,
            "func_name": "fact",
            "is_highlighted": false,
            "is_parent": false,
            "is_zombie": false,
            "ordered_varnames": [
             "n"
            ],
            "parent_frame_id_list": [],
            "unique_hash": "fact_f1"
           },
           {
            "encoded_locals": {
             "__return__": 120,
             "n": 5
            },
            "frame_id": 2,
            "func_name": "fact",
            "is_highlighted": true,
            "is_parent": false,
            "is_zombie": false,
            "ordered_varnames": [
             "n",
             "__return__"
            ],
            "parent_frame_id_list": [],
            "unique_hash": "fact_f2"
           }
          ],
          "stdout": ""
         },
         {
          "event": "return",
          "func_name": "fact",
          "globals": {
           "fact": [
            "REF",
            1
           ]
          },
          "heap": {
           "1": [
            "FUNCTION",
            "fact(n)",
            null
           ]
          },
          "line": 6,
          "ordered_globals": [
           "fact"
          ],
          "stack_to_render": [
           {
            "encoded_locals": {
             "__return__": 720,
             "n": 6
            },
            "frame_id": 1,
            "func_name": "fact",
            "is_highlighted": true,
            "is_parent": false,
            "is_zombie": false,
            "ordered_varnames": [
             "n",
             "__return__"
            ],
            "parent_frame_id_list": [],
            "unique_hash": "fact_f1"
           }
          ],
          "stdout": ""
         },
         {
          "event": "return",
          "func_name": "<module>",
          "globals": {
           "fact": [
            "REF",
            1
           ]
          },
          "heap": {
           "1": [
            "FUNCTION",
            "fact(n)",
            null
           ]
          },
          "line": 8,
          "ordered_globals": [
           "fact"
          ],
          "stack_to_render": [],
          "stdout": "720\n"
         }
        ]
       },
       "output_type": "display_data"
      }
     ],
     "prompt_number": 5
    },
    {
     "cell_type": "heading",
     "level": 2,
     "metadata": {},
     "source": [
      "Square root"
     ]
    },
    {
     "cell_type": "code",
     "collapsed": false,
     "input": [
      "%%pytutor\n",
      "# Calculating square roots by Newton's method, inspired by SICP\n",
      "#   http://mitpress.mit.edu/sicp/full-text/book/book-Z-H-10.html#%_sec_1.1.7\n",
      "\n",
      "def sqrt(x):\n",
      "    def average(a, b):\n",
      "        return (a + b) / 2.0\n",
      "\n",
      "    def is_good_enough(guess):\n",
      "        return (abs((guess * guess) - x) < 0.001)\n",
      "\n",
      "    def improve(guess):\n",
      "        return average(guess, x / guess)\n",
      "\n",
      "    def sqrt_iter(guess):\n",
      "        if is_good_enough(guess):\n",
      "            return guess\n",
      "        else:\n",
      "            return sqrt_iter(improve(guess))\n",
      "\n",
      "    return sqrt_iter(1.0)\n",
      "\n",
      "\n",
      "ans = sqrt(9)"
     ],
     "language": "python",
     "metadata": {},
     "outputs": [
      {
       "json": {
        "code": "# Calculating square roots by Newton's method, inspired by SICP\n#   http://mitpress.mit.edu/sicp/full-text/book/book-Z-H-10.html#%_sec_1.1.7\n\ndef sqrt(x):\n    def average(a, b):\n        return (a + b) / 2.0\n\n    def is_good_enough(guess):\n        return (abs((guess * guess) - x) < 0.001)\n\n    def improve(guess):\n        return average(guess, x / guess)\n\n    def sqrt_iter(guess):\n        if is_good_enough(guess):\n            return guess\n        else:\n            return sqrt_iter(improve(guess))\n\n    return sqrt_iter(1.0)\n\n\nans = sqrt(9)",
        "handler": "pytutor",
        "trace": [
         {
          "event": "step_line",
          "func_name": "<module>",
          "globals": {},
          "heap": {},
          "line": 4,
          "ordered_globals": [],
          "stack_to_render": [],
          "stdout": ""
         },
         {
          "event": "step_line",
          "func_name": "<module>",
          "globals": {
           "sqrt": [
            "REF",
            1
           ]
          },
          "heap": {
           "1": [
            "FUNCTION",
            "sqrt(x)",
            null
           ]
          },
          "line": 23,
          "ordered_globals": [
           "sqrt"
          ],
          "stack_to_render": [],
          "stdout": ""
         },
         {
          "event": "call",
          "func_name": "sqrt",
          "globals": {
           "sqrt": [
            "REF",
            1
           ]
          },
          "heap": {
           "1": [
            "FUNCTION",
            "sqrt(x)",
            null
           ]
          },
          "line": 4,
          "ordered_globals": [
           "sqrt"
          ],
          "stack_to_render": [
           {
            "encoded_locals": {
             "x": 9
            },
            "frame_id": 1,
            "func_name": "sqrt",
            "is_highlighted": true,
            "is_parent": false,
            "is_zombie": false,
            "ordered_varnames": [
             "x"
            ],
            "parent_frame_id_list": [],
            "unique_hash": "sqrt_f1"
           }
          ],
          "stdout": ""
         },
         {
          "event": "step_line",
          "func_name": "sqrt",
          "globals": {
           "sqrt": [
            "REF",
            1
           ]
          },
          "heap": {
           "1": [
            "FUNCTION",
            "sqrt(x)",
            null
           ]
          },
          "line": 5,
          "ordered_globals": [
           "sqrt"
          ],
          "stack_to_render": [
           {
            "encoded_locals": {
             "x": 9
            },
            "frame_id": 1,
            "func_name": "sqrt",
            "is_highlighted": true,
            "is_parent": false,
            "is_zombie": false,
            "ordered_varnames": [
             "x"
            ],
            "parent_frame_id_list": [],
            "unique_hash": "sqrt_f1"
           }
          ],
          "stdout": ""
         },
         {
          "event": "step_line",
          "func_name": "sqrt",
          "globals": {
           "sqrt": [
            "REF",
            1
           ]
          },
          "heap": {
           "1": [
            "FUNCTION",
            "sqrt(x)",
            null
           ],
           "2": [
            "FUNCTION",
            "average(a, b)",
            1
           ]
          },
          "line": 8,
          "ordered_globals": [
           "sqrt"
          ],
          "stack_to_render": [
           {
            "encoded_locals": {
             "average": [
              "REF",
              2
             ],
             "x": 9
            },
            "frame_id": 1,
            "func_name": "sqrt",
            "is_highlighted": true,
            "is_parent": true,
            "is_zombie": false,
            "ordered_varnames": [
             "x",
             "average"
            ],
            "parent_frame_id_list": [],
            "unique_hash": "sqrt_f1_p"
           }
          ],
          "stdout": ""
         },
         {
          "event": "step_line",
          "func_name": "sqrt",
          "globals": {
           "sqrt": [
            "REF",
            1
           ]
          },
          "heap": {
           "1": [
            "FUNCTION",
            "sqrt(x)",
            null
           ],
           "2": [
            "FUNCTION",
            "average(a, b)",
            1
           ],
           "3": [
            "FUNCTION",
            "is_good_enough(guess)",
            1
           ]
          },
          "line": 11,
          "ordered_globals": [
           "sqrt"
          ],
          "stack_to_render": [
           {
            "encoded_locals": {
             "average": [
              "REF",
              2
             ],
             "is_good_enough": [
              "REF",
              3
             ],
             "x": 9
            },
            "frame_id": 1,
            "func_name": "sqrt",
            "is_highlighted": true,
            "is_parent": true,
            "is_zombie": false,
            "ordered_varnames": [
             "x",
             "average",
             "is_good_enough"
            ],
            "parent_frame_id_list": [],
            "unique_hash": "sqrt_f1_p"
           }
          ],
          "stdout": ""
         },
         {
          "event": "step_line",
          "func_name": "sqrt",
          "globals": {
           "sqrt": [
            "REF",
            1
           ]
          },
          "heap": {
           "1": [
            "FUNCTION",
            "sqrt(x)",
            null
           ],
           "2": [
            "FUNCTION",
            "average(a, b)",
            1
           ],
           "3": [
            "FUNCTION",
            "is_good_enough(guess)",
            1
           ],
           "4": [
            "FUNCTION",
            "improve(guess)",
            1
           ]
          },
          "line": 14,
          "ordered_globals": [
           "sqrt"
          ],
          "stack_to_render": [
           {
            "encoded_locals": {
             "average": [
              "REF",
              2
             ],
             "improve": [
              "REF",
              4
             ],
             "is_good_enough": [
              "REF",
              3
             ],
             "x": 9
            },
            "frame_id": 1,
            "func_name": "sqrt",
            "is_highlighted": true,
            "is_parent": true,
            "is_zombie": false,
            "ordered_varnames": [
             "x",
             "average",
             "improve",
             "is_good_enough"
            ],
            "parent_frame_id_list": [],
            "unique_hash": "sqrt_f1_p"
           }
          ],
          "stdout": ""
         },
         {
          "event": "step_line",
          "func_name": "sqrt",
          "globals": {
           "sqrt": [
            "REF",
            1
           ]
          },
          "heap": {
           "1": [
            "FUNCTION",
            "sqrt(x)",
            null
           ],
           "2": [
            "FUNCTION",
            "average(a, b)",
            1
           ],
           "3": [
            "FUNCTION",
            "is_good_enough(guess)",
            1
           ],
           "4": [
            "FUNCTION",
            "improve(guess)",
            1
           ],
           "5": [
            "FUNCTION",
            "sqrt_iter(guess)",
            1
           ]
          },
          "line": 20,
          "ordered_globals": [
           "sqrt"
          ],
          "stack_to_render": [
           {
            "encoded_locals": {
             "average": [
              "REF",
              2
             ],
             "improve": [
              "REF",
              4
             ],
             "is_good_enough": [
              "REF",
              3
             ],
             "sqrt_iter": [
              "REF",
              5
             ],
             "x": 9
            },
            "frame_id": 1,
            "func_name": "sqrt",
            "is_highlighted": true,
            "is_parent": true,
            "is_zombie": false,
            "ordered_varnames": [
             "x",
             "average",
             "improve",
             "is_good_enough",
             "sqrt_iter"
            ],
            "parent_frame_id_list": [],
            "unique_hash": "sqrt_f1_p"
           }
          ],
          "stdout": ""
         },
         {
          "event": "call",
          "func_name": "sqrt_iter",
          "globals": {
           "sqrt": [
            "REF",
            1
           ]
          },
          "heap": {
           "1": [
            "FUNCTION",
            "sqrt(x)",
            null
           ],
           "2": [
            "FUNCTION",
            "average(a, b)",
            1
           ],
           "3": [
            "FUNCTION",
            "is_good_enough(guess)",
            1
           ],
           "4": [
            "FUNCTION",
            "improve(guess)",
            1
           ],
           "5": [
            "FUNCTION",
            "sqrt_iter(guess)",
            1
           ]
          },
          "line": 14,
          "ordered_globals": [
           "sqrt"
          ],
          "stack_to_render": [
           {
            "encoded_locals": {
             "average": [
              "REF",
              2
             ],
             "improve": [
              "REF",
              4
             ],
             "is_good_enough": [
              "REF",
              3
             ],
             "sqrt_iter": [
              "REF",
              5
             ],
             "x": 9
            },
            "frame_id": 1,
            "func_name": "sqrt",
            "is_highlighted": false,
            "is_parent": true,
            "is_zombie": false,
            "ordered_varnames": [
             "x",
             "average",
             "improve",
             "is_good_enough",
             "sqrt_iter"
            ],
            "parent_frame_id_list": [],
            "unique_hash": "sqrt_f1_p"
           },
           {
            "encoded_locals": {
             "guess": 1
            },
            "frame_id": 2,
            "func_name": "sqrt_iter",
            "is_highlighted": true,
            "is_parent": false,
            "is_zombie": false,
            "ordered_varnames": [
             "guess"
            ],
            "parent_frame_id_list": [
             1
            ],
            "unique_hash": "sqrt_iter_f2"
           }
          ],
          "stdout": ""
         },
         {
          "event": "step_line",
          "func_name": "sqrt_iter",
          "globals": {
           "sqrt": [
            "REF",
            1
           ]
          },
          "heap": {
           "1": [
            "FUNCTION",
            "sqrt(x)",
            null
           ],
           "2": [
            "FUNCTION",
            "average(a, b)",
            1
           ],
           "3": [
            "FUNCTION",
            "is_good_enough(guess)",
            1
           ],
           "4": [
            "FUNCTION",
            "improve(guess)",
            1
           ],
           "5": [
            "FUNCTION",
            "sqrt_iter(guess)",
            1
           ]
          },
          "line": 15,
          "ordered_globals": [
           "sqrt"
          ],
          "stack_to_render": [
           {
            "encoded_locals": {
             "average": [
              "REF",
              2
             ],
             "improve": [
              "REF",
              4
             ],
             "is_good_enough": [
              "REF",
              3
             ],
             "sqrt_iter": [
              "REF",
              5
             ],
             "x": 9
            },
            "frame_id": 1,
            "func_name": "sqrt",
            "is_highlighted": false,
            "is_parent": true,
            "is_zombie": false,
            "ordered_varnames": [
             "x",
             "average",
             "improve",
             "is_good_enough",
             "sqrt_iter"
            ],
            "parent_frame_id_list": [],
            "unique_hash": "sqrt_f1_p"
           },
           {
            "encoded_locals": {
             "guess": 1
            },
            "frame_id": 2,
            "func_name": "sqrt_iter",
            "is_highlighted": true,
            "is_parent": false,
            "is_zombie": false,
            "ordered_varnames": [
             "guess"
            ],
            "parent_frame_id_list": [
             1
            ],
            "unique_hash": "sqrt_iter_f2"
           }
          ],
          "stdout": ""
         },
         {
          "event": "call",
          "func_name": "is_good_enough",
          "globals": {
           "sqrt": [
            "REF",
            1
           ]
          },
          "heap": {
           "1": [
            "FUNCTION",
            "sqrt(x)",
            null
           ],
           "2": [
            "FUNCTION",
            "average(a, b)",
            1
           ],
           "3": [
            "FUNCTION",
            "is_good_enough(guess)",
            1
           ],
           "4": [
            "FUNCTION",
            "improve(guess)",
            1
           ],
           "5": [
            "FUNCTION",
            "sqrt_iter(guess)",
            1
           ]
          },
          "line": 8,
          "ordered_globals": [
           "sqrt"
          ],
          "stack_to_render": [
           {
            "encoded_locals": {
             "average": [
              "REF",
              2
             ],
             "improve": [
              "REF",
              4
             ],
             "is_good_enough": [
              "REF",
              3
             ],
             "sqrt_iter": [
              "REF",
              5
             ],
             "x": 9
            },
            "frame_id": 1,
            "func_name": "sqrt",
            "is_highlighted": false,
            "is_parent": true,
            "is_zombie": false,
            "ordered_varnames": [
             "x",
             "average",
             "improve",
             "is_good_enough",
             "sqrt_iter"
            ],
            "parent_frame_id_list": [],
            "unique_hash": "sqrt_f1_p"
           },
           {
            "encoded_locals": {
             "guess": 1
            },
            "frame_id": 2,
            "func_name": "sqrt_iter",
            "is_highlighted": false,
            "is_parent": false,
            "is_zombie": false,
            "ordered_varnames": [
             "guess"
            ],
            "parent_frame_id_list": [
             1
            ],
            "unique_hash": "sqrt_iter_f2"
           },
           {
            "encoded_locals": {
             "guess": 1
            },
            "frame_id": 3,
            "func_name": "is_good_enough",
            "is_highlighted": true,
            "is_parent": false,
            "is_zombie": false,
            "ordered_varnames": [
             "guess"
            ],
            "parent_frame_id_list": [
             1
            ],
            "unique_hash": "is_good_enough_f3"
           }
          ],
          "stdout": ""
         },
         {
          "event": "step_line",
          "func_name": "is_good_enough",
          "globals": {
           "sqrt": [
            "REF",
            1
           ]
          },
          "heap": {
           "1": [
            "FUNCTION",
            "sqrt(x)",
            null
           ],
           "2": [
            "FUNCTION",
            "average(a, b)",
            1
           ],
           "3": [
            "FUNCTION",
            "is_good_enough(guess)",
            1
           ],
           "4": [
            "FUNCTION",
            "improve(guess)",
            1
           ],
           "5": [
            "FUNCTION",
            "sqrt_iter(guess)",
            1
           ]
          },
          "line": 9,
          "ordered_globals": [
           "sqrt"
          ],
          "stack_to_render": [
           {
            "encoded_locals": {
             "average": [
              "REF",
              2
             ],
             "improve": [
              "REF",
              4
             ],
             "is_good_enough": [
              "REF",
              3
             ],
             "sqrt_iter": [
              "REF",
              5
             ],
             "x": 9
            },
            "frame_id": 1,
            "func_name": "sqrt",
            "is_highlighted": false,
            "is_parent": true,
            "is_zombie": false,
            "ordered_varnames": [
             "x",
             "average",
             "improve",
             "is_good_enough",
             "sqrt_iter"
            ],
            "parent_frame_id_list": [],
            "unique_hash": "sqrt_f1_p"
           },
           {
            "encoded_locals": {
             "guess": 1
            },
            "frame_id": 2,
            "func_name": "sqrt_iter",
            "is_highlighted": false,
            "is_parent": false,
            "is_zombie": false,
            "ordered_varnames": [
             "guess"
            ],
            "parent_frame_id_list": [
             1
            ],
            "unique_hash": "sqrt_iter_f2"
           },
           {
            "encoded_locals": {
             "guess": 1
            },
            "frame_id": 3,
            "func_name": "is_good_enough",
            "is_highlighted": true,
            "is_parent": false,
            "is_zombie": false,
            "ordered_varnames": [
             "guess"
            ],
            "parent_frame_id_list": [
             1
            ],
            "unique_hash": "is_good_enough_f3"
           }
          ],
          "stdout": ""
         },
         {
          "event": "return",
          "func_name": "is_good_enough",
          "globals": {
           "sqrt": [
            "REF",
            1
           ]
          },
          "heap": {
           "1": [
            "FUNCTION",
            "sqrt(x)",
            null
           ],
           "2": [
            "FUNCTION",
            "average(a, b)",
            1
           ],
           "3": [
            "FUNCTION",
            "is_good_enough(guess)",
            1
           ],
           "4": [
            "FUNCTION",
            "improve(guess)",
            1
           ],
           "5": [
            "FUNCTION",
            "sqrt_iter(guess)",
            1
           ]
          },
          "line": 9,
          "ordered_globals": [
           "sqrt"
          ],
          "stack_to_render": [
           {
            "encoded_locals": {
             "average": [
              "REF",
              2
             ],
             "improve": [
              "REF",
              4
             ],
             "is_good_enough": [
              "REF",
              3
             ],
             "sqrt_iter": [
              "REF",
              5
             ],
             "x": 9
            },
            "frame_id": 1,
            "func_name": "sqrt",
            "is_highlighted": false,
            "is_parent": true,
            "is_zombie": false,
            "ordered_varnames": [
             "x",
             "average",
             "improve",
             "is_good_enough",
             "sqrt_iter"
            ],
            "parent_frame_id_list": [],
            "unique_hash": "sqrt_f1_p"
           },
           {
            "encoded_locals": {
             "guess": 1
            },
            "frame_id": 2,
            "func_name": "sqrt_iter",
            "is_highlighted": false,
            "is_parent": false,
            "is_zombie": false,
            "ordered_varnames": [
             "guess"
            ],
            "parent_frame_id_list": [
             1
            ],
            "unique_hash": "sqrt_iter_f2"
           },
           {
            "encoded_locals": {
             "__return__": false,
             "guess": 1
            },
            "frame_id": 3,
            "func_name": "is_good_enough",
            "is_highlighted": true,
            "is_parent": false,
            "is_zombie": false,
            "ordered_varnames": [
             "guess",
             "__return__"
            ],
            "parent_frame_id_list": [
             1
            ],
            "unique_hash": "is_good_enough_f3"
           }
          ],
          "stdout": ""
         },
         {
          "event": "step_line",
          "func_name": "sqrt_iter",
          "globals": {
           "sqrt": [
            "REF",
            1
           ]
          },
          "heap": {
           "1": [
            "FUNCTION",
            "sqrt(x)",
            null
           ],
           "2": [
            "FUNCTION",
            "average(a, b)",
            1
           ],
           "3": [
            "FUNCTION",
            "is_good_enough(guess)",
            1
           ],
           "4": [
            "FUNCTION",
            "improve(guess)",
            1
           ],
           "5": [
            "FUNCTION",
            "sqrt_iter(guess)",
            1
           ]
          },
          "line": 18,
          "ordered_globals": [
           "sqrt"
          ],
          "stack_to_render": [
           {
            "encoded_locals": {
             "average": [
              "REF",
              2
             ],
             "improve": [
              "REF",
              4
             ],
             "is_good_enough": [
              "REF",
              3
             ],
             "sqrt_iter": [
              "REF",
              5
             ],
             "x": 9
            },
            "frame_id": 1,
            "func_name": "sqrt",
            "is_highlighted": false,
            "is_parent": true,
            "is_zombie": false,
            "ordered_varnames": [
             "x",
             "average",
             "improve",
             "is_good_enough",
             "sqrt_iter"
            ],
            "parent_frame_id_list": [],
            "unique_hash": "sqrt_f1_p"
           },
           {
            "encoded_locals": {
             "guess": 1
            },
            "frame_id": 2,
            "func_name": "sqrt_iter",
            "is_highlighted": true,
            "is_parent": false,
            "is_zombie": false,
            "ordered_varnames": [
             "guess"
            ],
            "parent_frame_id_list": [
             1
            ],
            "unique_hash": "sqrt_iter_f2"
           }
          ],
          "stdout": ""
         },
         {
          "event": "call",
          "func_name": "improve",
          "globals": {
           "sqrt": [
            "REF",
            1
           ]
          },
          "heap": {
           "1": [
            "FUNCTION",
            "sqrt(x)",
            null
           ],
           "2": [
            "FUNCTION",
            "average(a, b)",
            1
           ],
           "3": [
            "FUNCTION",
            "is_good_enough(guess)",
            1
           ],
           "4": [
            "FUNCTION",
            "improve(guess)",
            1
           ],
           "5": [
            "FUNCTION",
            "sqrt_iter(guess)",
            1
           ]
          },
          "line": 11,
          "ordered_globals": [
           "sqrt"
          ],
          "stack_to_render": [
           {
            "encoded_locals": {
             "average": [
              "REF",
              2
             ],
             "improve": [
              "REF",
              4
             ],
             "is_good_enough": [
              "REF",
              3
             ],
             "sqrt_iter": [
              "REF",
              5
             ],
             "x": 9
            },
            "frame_id": 1,
            "func_name": "sqrt",
            "is_highlighted": false,
            "is_parent": true,
            "is_zombie": false,
            "ordered_varnames": [
             "x",
             "average",
             "improve",
             "is_good_enough",
             "sqrt_iter"
            ],
            "parent_frame_id_list": [],
            "unique_hash": "sqrt_f1_p"
           },
           {
            "encoded_locals": {
             "guess": 1
            },
            "frame_id": 2,
            "func_name": "sqrt_iter",
            "is_highlighted": false,
            "is_parent": false,
            "is_zombie": false,
            "ordered_varnames": [
             "guess"
            ],
            "parent_frame_id_list": [
             1
            ],
            "unique_hash": "sqrt_iter_f2"
           },
           {
            "encoded_locals": {
             "guess": 1
            },
            "frame_id": 4,
            "func_name": "improve",
            "is_highlighted": true,
            "is_parent": false,
            "is_zombie": false,
            "ordered_varnames": [
             "guess"
            ],
            "parent_frame_id_list": [
             1
            ],
            "unique_hash": "improve_f4"
           }
          ],
          "stdout": ""
         },
         {
          "event": "step_line",
          "func_name": "improve",
          "globals": {
           "sqrt": [
            "REF",
            1
           ]
          },
          "heap": {
           "1": [
            "FUNCTION",
            "sqrt(x)",
            null
           ],
           "2": [
            "FUNCTION",
            "average(a, b)",
            1
           ],
           "3": [
            "FUNCTION",
            "is_good_enough(guess)",
            1
           ],
           "4": [
            "FUNCTION",
            "improve(guess)",
            1
           ],
           "5": [
            "FUNCTION",
            "sqrt_iter(guess)",
            1
           ]
          },
          "line": 12,
          "ordered_globals": [
           "sqrt"
          ],
          "stack_to_render": [
           {
            "encoded_locals": {
             "average": [
              "REF",
              2
             ],
             "improve": [
              "REF",
              4
             ],
             "is_good_enough": [
              "REF",
              3
             ],
             "sqrt_iter": [
              "REF",
              5
             ],
             "x": 9
            },
            "frame_id": 1,
            "func_name": "sqrt",
            "is_highlighted": false,
            "is_parent": true,
            "is_zombie": false,
            "ordered_varnames": [
             "x",
             "average",
             "improve",
             "is_good_enough",
             "sqrt_iter"
            ],
            "parent_frame_id_list": [],
            "unique_hash": "sqrt_f1_p"
           },
           {
            "encoded_locals": {
             "guess": 1
            },
            "frame_id": 2,
            "func_name": "sqrt_iter",
            "is_highlighted": false,
            "is_parent": false,
            "is_zombie": false,
            "ordered_varnames": [
             "guess"
            ],
            "parent_frame_id_list": [
             1
            ],
            "unique_hash": "sqrt_iter_f2"
           },
           {
            "encoded_locals": {
             "guess": 1
            },
            "frame_id": 4,
            "func_name": "improve",
            "is_highlighted": true,
            "is_parent": false,
            "is_zombie": false,
            "ordered_varnames": [
             "guess"
            ],
            "parent_frame_id_list": [
             1
            ],
            "unique_hash": "improve_f4"
           }
          ],
          "stdout": ""
         },
         {
          "event": "call",
          "func_name": "average",
          "globals": {
           "sqrt": [
            "REF",
            1
           ]
          },
          "heap": {
           "1": [
            "FUNCTION",
            "sqrt(x)",
            null
           ],
           "2": [
            "FUNCTION",
            "average(a, b)",
            1
           ],
           "3": [
            "FUNCTION",
            "is_good_enough(guess)",
            1
           ],
           "4": [
            "FUNCTION",
            "improve(guess)",
            1
           ],
           "5": [
            "FUNCTION",
            "sqrt_iter(guess)",
            1
           ]
          },
          "line": 5,
          "ordered_globals": [
           "sqrt"
          ],
          "stack_to_render": [
           {
            "encoded_locals": {
             "average": [
              "REF",
              2
             ],
             "improve": [
              "REF",
              4
             ],
             "is_good_enough": [
              "REF",
              3
             ],
             "sqrt_iter": [
              "REF",
              5
             ],
             "x": 9
            },
            "frame_id": 1,
            "func_name": "sqrt",
            "is_highlighted": false,
            "is_parent": true,
            "is_zombie": false,
            "ordered_varnames": [
             "x",
             "average",
             "improve",
             "is_good_enough",
             "sqrt_iter"
            ],
            "parent_frame_id_list": [],
            "unique_hash": "sqrt_f1_p"
           },
           {
            "encoded_locals": {
             "guess": 1
            },
            "frame_id": 2,
            "func_name": "sqrt_iter",
            "is_highlighted": false,
            "is_parent": false,
            "is_zombie": false,
            "ordered_varnames": [
             "guess"
            ],
            "parent_frame_id_list": [
             1
            ],
            "unique_hash": "sqrt_iter_f2"
           },
           {
            "encoded_locals": {
             "guess": 1
            },
            "frame_id": 4,
            "func_name": "improve",
            "is_highlighted": false,
            "is_parent": false,
            "is_zombie": false,
            "ordered_varnames": [
             "guess"
            ],
            "parent_frame_id_list": [
             1
            ],
            "unique_hash": "improve_f4"
           },
           {
            "encoded_locals": {
             "a": 1,
             "b": 9
            },
            "frame_id": 5,
            "func_name": "average",
            "is_highlighted": true,
            "is_parent": false,
            "is_zombie": false,
            "ordered_varnames": [
             "a",
             "b"
            ],
            "parent_frame_id_list": [
             1
            ],
            "unique_hash": "average_f5"
           }
          ],
          "stdout": ""
         },
         {
          "event": "step_line",
          "func_name": "average",
          "globals": {
           "sqrt": [
            "REF",
            1
           ]
          },
          "heap": {
           "1": [
            "FUNCTION",
            "sqrt(x)",
            null
           ],
           "2": [
            "FUNCTION",
            "average(a, b)",
            1
           ],
           "3": [
            "FUNCTION",
            "is_good_enough(guess)",
            1
           ],
           "4": [
            "FUNCTION",
            "improve(guess)",
            1
           ],
           "5": [
            "FUNCTION",
            "sqrt_iter(guess)",
            1
           ]
          },
          "line": 6,
          "ordered_globals": [
           "sqrt"
          ],
          "stack_to_render": [
           {
            "encoded_locals": {
             "average": [
              "REF",
              2
             ],
             "improve": [
              "REF",
              4
             ],
             "is_good_enough": [
              "REF",
              3
             ],
             "sqrt_iter": [
              "REF",
              5
             ],
             "x": 9
            },
            "frame_id": 1,
            "func_name": "sqrt",
            "is_highlighted": false,
            "is_parent": true,
            "is_zombie": false,
            "ordered_varnames": [
             "x",
             "average",
             "improve",
             "is_good_enough",
             "sqrt_iter"
            ],
            "parent_frame_id_list": [],
            "unique_hash": "sqrt_f1_p"
           },
           {
            "encoded_locals": {
             "guess": 1
            },
            "frame_id": 2,
            "func_name": "sqrt_iter",
            "is_highlighted": false,
            "is_parent": false,
            "is_zombie": false,
            "ordered_varnames": [
             "guess"
            ],
            "parent_frame_id_list": [
             1
            ],
            "unique_hash": "sqrt_iter_f2"
           },
           {
            "encoded_locals": {
             "guess": 1
            },
            "frame_id": 4,
            "func_name": "improve",
            "is_highlighted": false,
            "is_parent": false,
            "is_zombie": false,
            "ordered_varnames": [
             "guess"
            ],
            "parent_frame_id_list": [
             1
            ],
            "unique_hash": "improve_f4"
           },
           {
            "encoded_locals": {
             "a": 1,
             "b": 9
            },
            "frame_id": 5,
            "func_name": "average",
            "is_highlighted": true,
            "is_parent": false,
            "is_zombie": false,
            "ordered_varnames": [
             "a",
             "b"
            ],
            "parent_frame_id_list": [
             1
            ],
            "unique_hash": "average_f5"
           }
          ],
          "stdout": ""
         },
         {
          "event": "return",
          "func_name": "average",
          "globals": {
           "sqrt": [
            "REF",
            1
           ]
          },
          "heap": {
           "1": [
            "FUNCTION",
            "sqrt(x)",
            null
           ],
           "2": [
            "FUNCTION",
            "average(a, b)",
            1
           ],
           "3": [
            "FUNCTION",
            "is_good_enough(guess)",
            1
           ],
           "4": [
            "FUNCTION",
            "improve(guess)",
            1
           ],
           "5": [
            "FUNCTION",
            "sqrt_iter(guess)",
            1
           ]
          },
          "line": 6,
          "ordered_globals": [
           "sqrt"
          ],
          "stack_to_render": [
           {
            "encoded_locals": {
             "average": [
              "REF",
              2
             ],
             "improve": [
              "REF",
              4
             ],
             "is_good_enough": [
              "REF",
              3
             ],
             "sqrt_iter": [
              "REF",
              5
             ],
             "x": 9
            },
            "frame_id": 1,
            "func_name": "sqrt",
            "is_highlighted": false,
            "is_parent": true,
            "is_zombie": false,
            "ordered_varnames": [
             "x",
             "average",
             "improve",
             "is_good_enough",
             "sqrt_iter"
            ],
            "parent_frame_id_list": [],
            "unique_hash": "sqrt_f1_p"
           },
           {
            "encoded_locals": {
             "guess": 1
            },
            "frame_id": 2,
            "func_name": "sqrt_iter",
            "is_highlighted": false,
            "is_parent": false,
            "is_zombie": false,
            "ordered_varnames": [
             "guess"
            ],
            "parent_frame_id_list": [
             1
            ],
            "unique_hash": "sqrt_iter_f2"
           },
           {
            "encoded_locals": {
             "guess": 1
            },
            "frame_id": 4,
            "func_name": "improve",
            "is_highlighted": false,
            "is_parent": false,
            "is_zombie": false,
            "ordered_varnames": [
             "guess"
            ],
            "parent_frame_id_list": [
             1
            ],
            "unique_hash": "improve_f4"
           },
           {
            "encoded_locals": {
             "__return__": 5,
             "a": 1,
             "b": 9
            },
            "frame_id": 5,
            "func_name": "average",
            "is_highlighted": true,
            "is_parent": false,
            "is_zombie": false,
            "ordered_varnames": [
             "a",
             "b",
             "__return__"
            ],
            "parent_frame_id_list": [
             1
            ],
            "unique_hash": "average_f5"
           }
          ],
          "stdout": ""
         },
         {
          "event": "return",
          "func_name": "improve",
          "globals": {
           "sqrt": [
            "REF",
            1
           ]
          },
          "heap": {
           "1": [
            "FUNCTION",
            "sqrt(x)",
            null
           ],
           "2": [
            "FUNCTION",
            "average(a, b)",
            1
           ],
           "3": [
            "FUNCTION",
            "is_good_enough(guess)",
            1
           ],
           "4": [
            "FUNCTION",
            "improve(guess)",
            1
           ],
           "5": [
            "FUNCTION",
            "sqrt_iter(guess)",
            1
           ]
          },
          "line": 12,
          "ordered_globals": [
           "sqrt"
          ],
          "stack_to_render": [
           {
            "encoded_locals": {
             "average": [
              "REF",
              2
             ],
             "improve": [
              "REF",
              4
             ],
             "is_good_enough": [
              "REF",
              3
             ],
             "sqrt_iter": [
              "REF",
              5
             ],
             "x": 9
            },
            "frame_id": 1,
            "func_name": "sqrt",
            "is_highlighted": false,
            "is_parent": true,
            "is_zombie": false,
            "ordered_varnames": [
             "x",
             "average",
             "improve",
             "is_good_enough",
             "sqrt_iter"
            ],
            "parent_frame_id_list": [],
            "unique_hash": "sqrt_f1_p"
           },
           {
            "encoded_locals": {
             "guess": 1
            },
            "frame_id": 2,
            "func_name": "sqrt_iter",
            "is_highlighted": false,
            "is_parent": false,
            "is_zombie": false,
            "ordered_varnames": [
             "guess"
            ],
            "parent_frame_id_list": [
             1
            ],
            "unique_hash": "sqrt_iter_f2"
           },
           {
            "encoded_locals": {
             "__return__": 5,
             "guess": 1
            },
            "frame_id": 4,
            "func_name": "improve",
            "is_highlighted": true,
            "is_parent": false,
            "is_zombie": false,
            "ordered_varnames": [
             "guess",
             "__return__"
            ],
            "parent_frame_id_list": [
             1
            ],
            "unique_hash": "improve_f4"
           }
          ],
          "stdout": ""
         },
         {
          "event": "call",
          "func_name": "sqrt_iter",
          "globals": {
           "sqrt": [
            "REF",
            1
           ]
          },
          "heap": {
           "1": [
            "FUNCTION",
            "sqrt(x)",
            null
           ],
           "2": [
            "FUNCTION",
            "average(a, b)",
            1
           ],
           "3": [
            "FUNCTION",
            "is_good_enough(guess)",
            1
           ],
           "4": [
            "FUNCTION",
            "improve(guess)",
            1
           ],
           "5": [
            "FUNCTION",
            "sqrt_iter(guess)",
            1
           ]
          },
          "line": 14,
          "ordered_globals": [
           "sqrt"
          ],
          "stack_to_render": [
           {
            "encoded_locals": {
             "average": [
              "REF",
              2
             ],
             "improve": [
              "REF",
              4
             ],
             "is_good_enough": [
              "REF",
              3
             ],
             "sqrt_iter": [
              "REF",
              5
             ],
             "x": 9
            },
            "frame_id": 1,
            "func_name": "sqrt",
            "is_highlighted": false,
            "is_parent": true,
            "is_zombie": false,
            "ordered_varnames": [
             "x",
             "average",
             "improve",
             "is_good_enough",
             "sqrt_iter"
            ],
            "parent_frame_id_list": [],
            "unique_hash": "sqrt_f1_p"
           },
           {
            "encoded_locals": {
             "guess": 1
            },
            "frame_id": 2,
            "func_name": "sqrt_iter",
            "is_highlighted": false,
            "is_parent": false,
            "is_zombie": false,
            "ordered_varnames": [
             "guess"
            ],
            "parent_frame_id_list": [
             1
            ],
            "unique_hash": "sqrt_iter_f2"
           },
           {
            "encoded_locals": {
             "guess": 5
            },
            "frame_id": 6,
            "func_name": "sqrt_iter",
            "is_highlighted": true,
            "is_parent": false,
            "is_zombie": false,
            "ordered_varnames": [
             "guess"
            ],
            "parent_frame_id_list": [
             1
            ],
            "unique_hash": "sqrt_iter_f6"
           }
          ],
          "stdout": ""
         },
         {
          "event": "step_line",
          "func_name": "sqrt_iter",
          "globals": {
           "sqrt": [
            "REF",
            1
           ]
          },
          "heap": {
           "1": [
            "FUNCTION",
            "sqrt(x)",
            null
           ],
           "2": [
            "FUNCTION",
            "average(a, b)",
            1
           ],
           "3": [
            "FUNCTION",
            "is_good_enough(guess)",
            1
           ],
           "4": [
            "FUNCTION",
            "improve(guess)",
            1
           ],
           "5": [
            "FUNCTION",
            "sqrt_iter(guess)",
            1
           ]
          },
          "line": 15,
          "ordered_globals": [
           "sqrt"
          ],
          "stack_to_render": [
           {
            "encoded_locals": {
             "average": [
              "REF",
              2
             ],
             "improve": [
              "REF",
              4
             ],
             "is_good_enough": [
              "REF",
              3
             ],
             "sqrt_iter": [
              "REF",
              5
             ],
             "x": 9
            },
            "frame_id": 1,
            "func_name": "sqrt",
            "is_highlighted": false,
            "is_parent": true,
            "is_zombie": false,
            "ordered_varnames": [
             "x",
             "average",
             "improve",
             "is_good_enough",
             "sqrt_iter"
            ],
            "parent_frame_id_list": [],
            "unique_hash": "sqrt_f1_p"
           },
           {
            "encoded_locals": {
             "guess": 1
            },
            "frame_id": 2,
            "func_name": "sqrt_iter",
            "is_highlighted": false,
            "is_parent": false,
            "is_zombie": false,
            "ordered_varnames": [
             "guess"
            ],
            "parent_frame_id_list": [
             1
            ],
            "unique_hash": "sqrt_iter_f2"
           },
           {
            "encoded_locals": {
             "guess": 5
            },
            "frame_id": 6,
            "func_name": "sqrt_iter",
            "is_highlighted": true,
            "is_parent": false,
            "is_zombie": false,
            "ordered_varnames": [
             "guess"
            ],
            "parent_frame_id_list": [
             1
            ],
            "unique_hash": "sqrt_iter_f6"
           }
          ],
          "stdout": ""
         },
         {
          "event": "call",
          "func_name": "is_good_enough",
          "globals": {
           "sqrt": [
            "REF",
            1
           ]
          },
          "heap": {
           "1": [
            "FUNCTION",
            "sqrt(x)",
            null
           ],
           "2": [
            "FUNCTION",
            "average(a, b)",
            1
           ],
           "3": [
            "FUNCTION",
            "is_good_enough(guess)",
            1
           ],
           "4": [
            "FUNCTION",
            "improve(guess)",
            1
           ],
           "5": [
            "FUNCTION",
            "sqrt_iter(guess)",
            1
           ]
          },
          "line": 8,
          "ordered_globals": [
           "sqrt"
          ],
          "stack_to_render": [
           {
            "encoded_locals": {
             "average": [
              "REF",
              2
             ],
             "improve": [
              "REF",
              4
             ],
             "is_good_enough": [
              "REF",
              3
             ],
             "sqrt_iter": [
              "REF",
              5
             ],
             "x": 9
            },
            "frame_id": 1,
            "func_name": "sqrt",
            "is_highlighted": false,
            "is_parent": true,
            "is_zombie": false,
            "ordered_varnames": [
             "x",
             "average",
             "improve",
             "is_good_enough",
             "sqrt_iter"
            ],
            "parent_frame_id_list": [],
            "unique_hash": "sqrt_f1_p"
           },
           {
            "encoded_locals": {
             "guess": 1
            },
            "frame_id": 2,
            "func_name": "sqrt_iter",
            "is_highlighted": false,
            "is_parent": false,
            "is_zombie": false,
            "ordered_varnames": [
             "guess"
            ],
            "parent_frame_id_list": [
             1
            ],
            "unique_hash": "sqrt_iter_f2"
           },
           {
            "encoded_locals": {
             "guess": 5
            },
            "frame_id": 6,
            "func_name": "sqrt_iter",
            "is_highlighted": false,
            "is_parent": false,
            "is_zombie": false,
            "ordered_varnames": [
             "guess"
            ],
            "parent_frame_id_list": [
             1
            ],
            "unique_hash": "sqrt_iter_f6"
           },
           {
            "encoded_locals": {
             "guess": 5
            },
            "frame_id": 7,
            "func_name": "is_good_enough",
            "is_highlighted": true,
            "is_parent": false,
            "is_zombie": false,
            "ordered_varnames": [
             "guess"
            ],
            "parent_frame_id_list": [
             1
            ],
            "unique_hash": "is_good_enough_f7"
           }
          ],
          "stdout": ""
         },
         {
          "event": "step_line",
          "func_name": "is_good_enough",
          "globals": {
           "sqrt": [
            "REF",
            1
           ]
          },
          "heap": {
           "1": [
            "FUNCTION",
            "sqrt(x)",
            null
           ],
           "2": [
            "FUNCTION",
            "average(a, b)",
            1
           ],
           "3": [
            "FUNCTION",
            "is_good_enough(guess)",
            1
           ],
           "4": [
            "FUNCTION",
            "improve(guess)",
            1
           ],
           "5": [
            "FUNCTION",
            "sqrt_iter(guess)",
            1
           ]
          },
          "line": 9,
          "ordered_globals": [
           "sqrt"
          ],
          "stack_to_render": [
           {
            "encoded_locals": {
             "average": [
              "REF",
              2
             ],
             "improve": [
              "REF",
              4
             ],
             "is_good_enough": [
              "REF",
              3
             ],
             "sqrt_iter": [
              "REF",
              5
             ],
             "x": 9
            },
            "frame_id": 1,
            "func_name": "sqrt",
            "is_highlighted": false,
            "is_parent": true,
            "is_zombie": false,
            "ordered_varnames": [
             "x",
             "average",
             "improve",
             "is_good_enough",
             "sqrt_iter"
            ],
            "parent_frame_id_list": [],
            "unique_hash": "sqrt_f1_p"
           },
           {
            "encoded_locals": {
             "guess": 1
            },
            "frame_id": 2,
            "func_name": "sqrt_iter",
            "is_highlighted": false,
            "is_parent": false,
            "is_zombie": false,
            "ordered_varnames": [
             "guess"
            ],
            "parent_frame_id_list": [
             1
            ],
            "unique_hash": "sqrt_iter_f2"
           },
           {
            "encoded_locals": {
             "guess": 5
            },
            "frame_id": 6,
            "func_name": "sqrt_iter",
            "is_highlighted": false,
            "is_parent": false,
            "is_zombie": false,
            "ordered_varnames": [
             "guess"
            ],
            "parent_frame_id_list": [
             1
            ],
            "unique_hash": "sqrt_iter_f6"
           },
           {
            "encoded_locals": {
             "guess": 5
            },
            "frame_id": 7,
            "func_name": "is_good_enough",
            "is_highlighted": true,
            "is_parent": false,
            "is_zombie": false,
            "ordered_varnames": [
             "guess"
            ],
            "parent_frame_id_list": [
             1
            ],
            "unique_hash": "is_good_enough_f7"
           }
          ],
          "stdout": ""
         },
         {
          "event": "return",
          "func_name": "is_good_enough",
          "globals": {
           "sqrt": [
            "REF",
            1
           ]
          },
          "heap": {
           "1": [
            "FUNCTION",
            "sqrt(x)",
            null
           ],
           "2": [
            "FUNCTION",
            "average(a, b)",
            1
           ],
           "3": [
            "FUNCTION",
            "is_good_enough(guess)",
            1
           ],
           "4": [
            "FUNCTION",
            "improve(guess)",
            1
           ],
           "5": [
            "FUNCTION",
            "sqrt_iter(guess)",
            1
           ]
          },
          "line": 9,
          "ordered_globals": [
           "sqrt"
          ],
          "stack_to_render": [
           {
            "encoded_locals": {
             "average": [
              "REF",
              2
             ],
             "improve": [
              "REF",
              4
             ],
             "is_good_enough": [
              "REF",
              3
             ],
             "sqrt_iter": [
              "REF",
              5
             ],
             "x": 9
            },
            "frame_id": 1,
            "func_name": "sqrt",
            "is_highlighted": false,
            "is_parent": true,
            "is_zombie": false,
            "ordered_varnames": [
             "x",
             "average",
             "improve",
             "is_good_enough",
             "sqrt_iter"
            ],
            "parent_frame_id_list": [],
            "unique_hash": "sqrt_f1_p"
           },
           {
            "encoded_locals": {
             "guess": 1
            },
            "frame_id": 2,
            "func_name": "sqrt_iter",
            "is_highlighted": false,
            "is_parent": false,
            "is_zombie": false,
            "ordered_varnames": [
             "guess"
            ],
            "parent_frame_id_list": [
             1
            ],
            "unique_hash": "sqrt_iter_f2"
           },
           {
            "encoded_locals": {
             "guess": 5
            },
            "frame_id": 6,
            "func_name": "sqrt_iter",
            "is_highlighted": false,
            "is_parent": false,
            "is_zombie": false,
            "ordered_varnames": [
             "guess"
            ],
            "parent_frame_id_list": [
             1
            ],
            "unique_hash": "sqrt_iter_f6"
           },
           {
            "encoded_locals": {
             "__return__": false,
             "guess": 5
            },
            "frame_id": 7,
            "func_name": "is_good_enough",
            "is_highlighted": true,
            "is_parent": false,
            "is_zombie": false,
            "ordered_varnames": [
             "guess",
             "__return__"
            ],
            "parent_frame_id_list": [
             1
            ],
            "unique_hash": "is_good_enough_f7"
           }
          ],
          "stdout": ""
         },
         {
          "event": "step_line",
          "func_name": "sqrt_iter",
          "globals": {
           "sqrt": [
            "REF",
            1
           ]
          },
          "heap": {
           "1": [
            "FUNCTION",
            "sqrt(x)",
            null
           ],
           "2": [
            "FUNCTION",
            "average(a, b)",
            1
           ],
           "3": [
            "FUNCTION",
            "is_good_enough(guess)",
            1
           ],
           "4": [
            "FUNCTION",
            "improve(guess)",
            1
           ],
           "5": [
            "FUNCTION",
            "sqrt_iter(guess)",
            1
           ]
          },
          "line": 18,
          "ordered_globals": [
           "sqrt"
          ],
          "stack_to_render": [
           {
            "encoded_locals": {
             "average": [
              "REF",
              2
             ],
             "improve": [
              "REF",
              4
             ],
             "is_good_enough": [
              "REF",
              3
             ],
             "sqrt_iter": [
              "REF",
              5
             ],
             "x": 9
            },
            "frame_id": 1,
            "func_name": "sqrt",
            "is_highlighted": false,
            "is_parent": true,
            "is_zombie": false,
            "ordered_varnames": [
             "x",
             "average",
             "improve",
             "is_good_enough",
             "sqrt_iter"
            ],
            "parent_frame_id_list": [],
            "unique_hash": "sqrt_f1_p"
           },
           {
            "encoded_locals": {
             "guess": 1
            },
            "frame_id": 2,
            "func_name": "sqrt_iter",
            "is_highlighted": false,
            "is_parent": false,
            "is_zombie": false,
            "ordered_varnames": [
             "guess"
            ],
            "parent_frame_id_list": [
             1
            ],
            "unique_hash": "sqrt_iter_f2"
           },
           {
            "encoded_locals": {
             "guess": 5
            },
            "frame_id": 6,
            "func_name": "sqrt_iter",
            "is_highlighted": true,
            "is_parent": false,
            "is_zombie": false,
            "ordered_varnames": [
             "guess"
            ],
            "parent_frame_id_list": [
             1
            ],
            "unique_hash": "sqrt_iter_f6"
           }
          ],
          "stdout": ""
         },
         {
          "event": "call",
          "func_name": "improve",
          "globals": {
           "sqrt": [
            "REF",
            1
           ]
          },
          "heap": {
           "1": [
            "FUNCTION",
            "sqrt(x)",
            null
           ],
           "2": [
            "FUNCTION",
            "average(a, b)",
            1
           ],
           "3": [
            "FUNCTION",
            "is_good_enough(guess)",
            1
           ],
           "4": [
            "FUNCTION",
            "improve(guess)",
            1
           ],
           "5": [
            "FUNCTION",
            "sqrt_iter(guess)",
            1
           ]
          },
          "line": 11,
          "ordered_globals": [
           "sqrt"
          ],
          "stack_to_render": [
           {
            "encoded_locals": {
             "average": [
              "REF",
              2
             ],
             "improve": [
              "REF",
              4
             ],
             "is_good_enough": [
              "REF",
              3
             ],
             "sqrt_iter": [
              "REF",
              5
             ],
             "x": 9
            },
            "frame_id": 1,
            "func_name": "sqrt",
            "is_highlighted": false,
            "is_parent": true,
            "is_zombie": false,
            "ordered_varnames": [
             "x",
             "average",
             "improve",
             "is_good_enough",
             "sqrt_iter"
            ],
            "parent_frame_id_list": [],
            "unique_hash": "sqrt_f1_p"
           },
           {
            "encoded_locals": {
             "guess": 1
            },
            "frame_id": 2,
            "func_name": "sqrt_iter",
            "is_highlighted": false,
            "is_parent": false,
            "is_zombie": false,
            "ordered_varnames": [
             "guess"
            ],
            "parent_frame_id_list": [
             1
            ],
            "unique_hash": "sqrt_iter_f2"
           },
           {
            "encoded_locals": {
             "guess": 5
            },
            "frame_id": 6,
            "func_name": "sqrt_iter",
            "is_highlighted": false,
            "is_parent": false,
            "is_zombie": false,
            "ordered_varnames": [
             "guess"
            ],
            "parent_frame_id_list": [
             1
            ],
            "unique_hash": "sqrt_iter_f6"
           },
           {
            "encoded_locals": {
             "guess": 5
            },
            "frame_id": 8,
            "func_name": "improve",
            "is_highlighted": true,
            "is_parent": false,
            "is_zombie": false,
            "ordered_varnames": [
             "guess"
            ],
            "parent_frame_id_list": [
             1
            ],
            "unique_hash": "improve_f8"
           }
          ],
          "stdout": ""
         },
         {
          "event": "step_line",
          "func_name": "improve",
          "globals": {
           "sqrt": [
            "REF",
            1
           ]
          },
          "heap": {
           "1": [
            "FUNCTION",
            "sqrt(x)",
            null
           ],
           "2": [
            "FUNCTION",
            "average(a, b)",
            1
           ],
           "3": [
            "FUNCTION",
            "is_good_enough(guess)",
            1
           ],
           "4": [
            "FUNCTION",
            "improve(guess)",
            1
           ],
           "5": [
            "FUNCTION",
            "sqrt_iter(guess)",
            1
           ]
          },
          "line": 12,
          "ordered_globals": [
           "sqrt"
          ],
          "stack_to_render": [
           {
            "encoded_locals": {
             "average": [
              "REF",
              2
             ],
             "improve": [
              "REF",
              4
             ],
             "is_good_enough": [
              "REF",
              3
             ],
             "sqrt_iter": [
              "REF",
              5
             ],
             "x": 9
            },
            "frame_id": 1,
            "func_name": "sqrt",
            "is_highlighted": false,
            "is_parent": true,
            "is_zombie": false,
            "ordered_varnames": [
             "x",
             "average",
             "improve",
             "is_good_enough",
             "sqrt_iter"
            ],
            "parent_frame_id_list": [],
            "unique_hash": "sqrt_f1_p"
           },
           {
            "encoded_locals": {
             "guess": 1
            },
            "frame_id": 2,
            "func_name": "sqrt_iter",
            "is_highlighted": false,
            "is_parent": false,
            "is_zombie": false,
            "ordered_varnames": [
             "guess"
            ],
            "parent_frame_id_list": [
             1
            ],
            "unique_hash": "sqrt_iter_f2"
           },
           {
            "encoded_locals": {
             "guess": 5
            },
            "frame_id": 6,
            "func_name": "sqrt_iter",
            "is_highlighted": false,
            "is_parent": false,
            "is_zombie": false,
            "ordered_varnames": [
             "guess"
            ],
            "parent_frame_id_list": [
             1
            ],
            "unique_hash": "sqrt_iter_f6"
           },
           {
            "encoded_locals": {
             "guess": 5
            },
            "frame_id": 8,
            "func_name": "improve",
            "is_highlighted": true,
            "is_parent": false,
            "is_zombie": false,
            "ordered_varnames": [
             "guess"
            ],
            "parent_frame_id_list": [
             1
            ],
            "unique_hash": "improve_f8"
           }
          ],
          "stdout": ""
         },
         {
          "event": "call",
          "func_name": "average",
          "globals": {
           "sqrt": [
            "REF",
            1
           ]
          },
          "heap": {
           "1": [
            "FUNCTION",
            "sqrt(x)",
            null
           ],
           "2": [
            "FUNCTION",
            "average(a, b)",
            1
           ],
           "3": [
            "FUNCTION",
            "is_good_enough(guess)",
            1
           ],
           "4": [
            "FUNCTION",
            "improve(guess)",
            1
           ],
           "5": [
            "FUNCTION",
            "sqrt_iter(guess)",
            1
           ]
          },
          "line": 5,
          "ordered_globals": [
           "sqrt"
          ],
          "stack_to_render": [
           {
            "encoded_locals": {
             "average": [
              "REF",
              2
             ],
             "improve": [
              "REF",
              4
             ],
             "is_good_enough": [
              "REF",
              3
             ],
             "sqrt_iter": [
              "REF",
              5
             ],
             "x": 9
            },
            "frame_id": 1,
            "func_name": "sqrt",
            "is_highlighted": false,
            "is_parent": true,
            "is_zombie": false,
            "ordered_varnames": [
             "x",
             "average",
             "improve",
             "is_good_enough",
             "sqrt_iter"
            ],
            "parent_frame_id_list": [],
            "unique_hash": "sqrt_f1_p"
           },
           {
            "encoded_locals": {
             "guess": 1
            },
            "frame_id": 2,
            "func_name": "sqrt_iter",
            "is_highlighted": false,
            "is_parent": false,
            "is_zombie": false,
            "ordered_varnames": [
             "guess"
            ],
            "parent_frame_id_list": [
             1
            ],
            "unique_hash": "sqrt_iter_f2"
           },
           {
            "encoded_locals": {
             "guess": 5
            },
            "frame_id": 6,
            "func_name": "sqrt_iter",
            "is_highlighted": false,
            "is_parent": false,
            "is_zombie": false,
            "ordered_varnames": [
             "guess"
            ],
            "parent_frame_id_list": [
             1
            ],
            "unique_hash": "sqrt_iter_f6"
           },
           {
            "encoded_locals": {
             "guess": 5
            },
            "frame_id": 8,
            "func_name": "improve",
            "is_highlighted": false,
            "is_parent": false,
            "is_zombie": false,
            "ordered_varnames": [
             "guess"
            ],
            "parent_frame_id_list": [
             1
            ],
            "unique_hash": "improve_f8"
           },
           {
            "encoded_locals": {
             "a": 5,
             "b": 1.8
            },
            "frame_id": 9,
            "func_name": "average",
            "is_highlighted": true,
            "is_parent": false,
            "is_zombie": false,
            "ordered_varnames": [
             "a",
             "b"
            ],
            "parent_frame_id_list": [
             1
            ],
            "unique_hash": "average_f9"
           }
          ],
          "stdout": ""
         },
         {
          "event": "step_line",
          "func_name": "average",
          "globals": {
           "sqrt": [
            "REF",
            1
           ]
          },
          "heap": {
           "1": [
            "FUNCTION",
            "sqrt(x)",
            null
           ],
           "2": [
            "FUNCTION",
            "average(a, b)",
            1
           ],
           "3": [
            "FUNCTION",
            "is_good_enough(guess)",
            1
           ],
           "4": [
            "FUNCTION",
            "improve(guess)",
            1
           ],
           "5": [
            "FUNCTION",
            "sqrt_iter(guess)",
            1
           ]
          },
          "line": 6,
          "ordered_globals": [
           "sqrt"
          ],
          "stack_to_render": [
           {
            "encoded_locals": {
             "average": [
              "REF",
              2
             ],
             "improve": [
              "REF",
              4
             ],
             "is_good_enough": [
              "REF",
              3
             ],
             "sqrt_iter": [
              "REF",
              5
             ],
             "x": 9
            },
            "frame_id": 1,
            "func_name": "sqrt",
            "is_highlighted": false,
            "is_parent": true,
            "is_zombie": false,
            "ordered_varnames": [
             "x",
             "average",
             "improve",
             "is_good_enough",
             "sqrt_iter"
            ],
            "parent_frame_id_list": [],
            "unique_hash": "sqrt_f1_p"
           },
           {
            "encoded_locals": {
             "guess": 1
            },
            "frame_id": 2,
            "func_name": "sqrt_iter",
            "is_highlighted": false,
            "is_parent": false,
            "is_zombie": false,
            "ordered_varnames": [
             "guess"
            ],
            "parent_frame_id_list": [
             1
            ],
            "unique_hash": "sqrt_iter_f2"
           },
           {
            "encoded_locals": {
             "guess": 5
            },
            "frame_id": 6,
            "func_name": "sqrt_iter",
            "is_highlighted": false,
            "is_parent": false,
            "is_zombie": false,
            "ordered_varnames": [
             "guess"
            ],
            "parent_frame_id_list": [
             1
            ],
            "unique_hash": "sqrt_iter_f6"
           },
           {
            "encoded_locals": {
             "guess": 5
            },
            "frame_id": 8,
            "func_name": "improve",
            "is_highlighted": false,
            "is_parent": false,
            "is_zombie": false,
            "ordered_varnames": [
             "guess"
            ],
            "parent_frame_id_list": [
             1
            ],
            "unique_hash": "improve_f8"
           },
           {
            "encoded_locals": {
             "a": 5,
             "b": 1.8
            },
            "frame_id": 9,
            "func_name": "average",
            "is_highlighted": true,
            "is_parent": false,
            "is_zombie": false,
            "ordered_varnames": [
             "a",
             "b"
            ],
            "parent_frame_id_list": [
             1
            ],
            "unique_hash": "average_f9"
           }
          ],
          "stdout": ""
         },
         {
          "event": "return",
          "func_name": "average",
          "globals": {
           "sqrt": [
            "REF",
            1
           ]
          },
          "heap": {
           "1": [
            "FUNCTION",
            "sqrt(x)",
            null
           ],
           "2": [
            "FUNCTION",
            "average(a, b)",
            1
           ],
           "3": [
            "FUNCTION",
            "is_good_enough(guess)",
            1
           ],
           "4": [
            "FUNCTION",
            "improve(guess)",
            1
           ],
           "5": [
            "FUNCTION",
            "sqrt_iter(guess)",
            1
           ]
          },
          "line": 6,
          "ordered_globals": [
           "sqrt"
          ],
          "stack_to_render": [
           {
            "encoded_locals": {
             "average": [
              "REF",
              2
             ],
             "improve": [
              "REF",
              4
             ],
             "is_good_enough": [
              "REF",
              3
             ],
             "sqrt_iter": [
              "REF",
              5
             ],
             "x": 9
            },
            "frame_id": 1,
            "func_name": "sqrt",
            "is_highlighted": false,
            "is_parent": true,
            "is_zombie": false,
            "ordered_varnames": [
             "x",
             "average",
             "improve",
             "is_good_enough",
             "sqrt_iter"
            ],
            "parent_frame_id_list": [],
            "unique_hash": "sqrt_f1_p"
           },
           {
            "encoded_locals": {
             "guess": 1
            },
            "frame_id": 2,
            "func_name": "sqrt_iter",
            "is_highlighted": false,
            "is_parent": false,
            "is_zombie": false,
            "ordered_varnames": [
             "guess"
            ],
            "parent_frame_id_list": [
             1
            ],
            "unique_hash": "sqrt_iter_f2"
           },
           {
            "encoded_locals": {
             "guess": 5
            },
            "frame_id": 6,
            "func_name": "sqrt_iter",
            "is_highlighted": false,
            "is_parent": false,
            "is_zombie": false,
            "ordered_varnames": [
             "guess"
            ],
            "parent_frame_id_list": [
             1
            ],
            "unique_hash": "sqrt_iter_f6"
           },
           {
            "encoded_locals": {
             "guess": 5
            },
            "frame_id": 8,
            "func_name": "improve",
            "is_highlighted": false,
            "is_parent": false,
            "is_zombie": false,
            "ordered_varnames": [
             "guess"
            ],
            "parent_frame_id_list": [
             1
            ],
            "unique_hash": "improve_f8"
           },
           {
            "encoded_locals": {
             "__return__": 3.4,
             "a": 5,
             "b": 1.8
            },
            "frame_id": 9,
            "func_name": "average",
            "is_highlighted": true,
            "is_parent": false,
            "is_zombie": false,
            "ordered_varnames": [
             "a",
             "b",
             "__return__"
            ],
            "parent_frame_id_list": [
             1
            ],
            "unique_hash": "average_f9"
           }
          ],
          "stdout": ""
         },
         {
          "event": "return",
          "func_name": "improve",
          "globals": {
           "sqrt": [
            "REF",
            1
           ]
          },
          "heap": {
           "1": [
            "FUNCTION",
            "sqrt(x)",
            null
           ],
           "2": [
            "FUNCTION",
            "average(a, b)",
            1
           ],
           "3": [
            "FUNCTION",
            "is_good_enough(guess)",
            1
           ],
           "4": [
            "FUNCTION",
            "improve(guess)",
            1
           ],
           "5": [
            "FUNCTION",
            "sqrt_iter(guess)",
            1
           ]
          },
          "line": 12,
          "ordered_globals": [
           "sqrt"
          ],
          "stack_to_render": [
           {
            "encoded_locals": {
             "average": [
              "REF",
              2
             ],
             "improve": [
              "REF",
              4
             ],
             "is_good_enough": [
              "REF",
              3
             ],
             "sqrt_iter": [
              "REF",
              5
             ],
             "x": 9
            },
            "frame_id": 1,
            "func_name": "sqrt",
            "is_highlighted": false,
            "is_parent": true,
            "is_zombie": false,
            "ordered_varnames": [
             "x",
             "average",
             "improve",
             "is_good_enough",
             "sqrt_iter"
            ],
            "parent_frame_id_list": [],
            "unique_hash": "sqrt_f1_p"
           },
           {
            "encoded_locals": {
             "guess": 1
            },
            "frame_id": 2,
            "func_name": "sqrt_iter",
            "is_highlighted": false,
            "is_parent": false,
            "is_zombie": false,
            "ordered_varnames": [
             "guess"
            ],
            "parent_frame_id_list": [
             1
            ],
            "unique_hash": "sqrt_iter_f2"
           },
           {
            "encoded_locals": {
             "guess": 5
            },
            "frame_id": 6,
            "func_name": "sqrt_iter",
            "is_highlighted": false,
            "is_parent": false,
            "is_zombie": false,
            "ordered_varnames": [
             "guess"
            ],
            "parent_frame_id_list": [
             1
            ],
            "unique_hash": "sqrt_iter_f6"
           },
           {
            "encoded_locals": {
             "__return__": 3.4,
             "guess": 5
            },
            "frame_id": 8,
            "func_name": "improve",
            "is_highlighted": true,
            "is_parent": false,
            "is_zombie": false,
            "ordered_varnames": [
             "guess",
             "__return__"
            ],
            "parent_frame_id_list": [
             1
            ],
            "unique_hash": "improve_f8"
           }
          ],
          "stdout": ""
         },
         {
          "event": "call",
          "func_name": "sqrt_iter",
          "globals": {
           "sqrt": [
            "REF",
            1
           ]
          },
          "heap": {
           "1": [
            "FUNCTION",
            "sqrt(x)",
            null
           ],
           "2": [
            "FUNCTION",
            "average(a, b)",
            1
           ],
           "3": [
            "FUNCTION",
            "is_good_enough(guess)",
            1
           ],
           "4": [
            "FUNCTION",
            "improve(guess)",
            1
           ],
           "5": [
            "FUNCTION",
            "sqrt_iter(guess)",
            1
           ]
          },
          "line": 14,
          "ordered_globals": [
           "sqrt"
          ],
          "stack_to_render": [
           {
            "encoded_locals": {
             "average": [
              "REF",
              2
             ],
             "improve": [
              "REF",
              4
             ],
             "is_good_enough": [
              "REF",
              3
             ],
             "sqrt_iter": [
              "REF",
              5
             ],
             "x": 9
            },
            "frame_id": 1,
            "func_name": "sqrt",
            "is_highlighted": false,
            "is_parent": true,
            "is_zombie": false,
            "ordered_varnames": [
             "x",
             "average",
             "improve",
             "is_good_enough",
             "sqrt_iter"
            ],
            "parent_frame_id_list": [],
            "unique_hash": "sqrt_f1_p"
           },
           {
            "encoded_locals": {
             "guess": 1
            },
            "frame_id": 2,
            "func_name": "sqrt_iter",
            "is_highlighted": false,
            "is_parent": false,
            "is_zombie": false,
            "ordered_varnames": [
             "guess"
            ],
            "parent_frame_id_list": [
             1
            ],
            "unique_hash": "sqrt_iter_f2"
           },
           {
            "encoded_locals": {
             "guess": 5
            },
            "frame_id": 6,
            "func_name": "sqrt_iter",
            "is_highlighted": false,
            "is_parent": false,
            "is_zombie": false,
            "ordered_varnames": [
             "guess"
            ],
            "parent_frame_id_list": [
             1
            ],
            "unique_hash": "sqrt_iter_f6"
           },
           {
            "encoded_locals": {
             "guess": 3.4
            },
            "frame_id": 10,
            "func_name": "sqrt_iter",
            "is_highlighted": true,
            "is_parent": false,
            "is_zombie": false,
            "ordered_varnames": [
             "guess"
            ],
            "parent_frame_id_list": [
             1
            ],
            "unique_hash": "sqrt_iter_f10"
           }
          ],
          "stdout": ""
         },
         {
          "event": "step_line",
          "func_name": "sqrt_iter",
          "globals": {
           "sqrt": [
            "REF",
            1
           ]
          },
          "heap": {
           "1": [
            "FUNCTION",
            "sqrt(x)",
            null
           ],
           "2": [
            "FUNCTION",
            "average(a, b)",
            1
           ],
           "3": [
            "FUNCTION",
            "is_good_enough(guess)",
            1
           ],
           "4": [
            "FUNCTION",
            "improve(guess)",
            1
           ],
           "5": [
            "FUNCTION",
            "sqrt_iter(guess)",
            1
           ]
          },
          "line": 15,
          "ordered_globals": [
           "sqrt"
          ],
          "stack_to_render": [
           {
            "encoded_locals": {
             "average": [
              "REF",
              2
             ],
             "improve": [
              "REF",
              4
             ],
             "is_good_enough": [
              "REF",
              3
             ],
             "sqrt_iter": [
              "REF",
              5
             ],
             "x": 9
            },
            "frame_id": 1,
            "func_name": "sqrt",
            "is_highlighted": false,
            "is_parent": true,
            "is_zombie": false,
            "ordered_varnames": [
             "x",
             "average",
             "improve",
             "is_good_enough",
             "sqrt_iter"
            ],
            "parent_frame_id_list": [],
            "unique_hash": "sqrt_f1_p"
           },
           {
            "encoded_locals": {
             "guess": 1
            },
            "frame_id": 2,
            "func_name": "sqrt_iter",
            "is_highlighted": false,
            "is_parent": false,
            "is_zombie": false,
            "ordered_varnames": [
             "guess"
            ],
            "parent_frame_id_list": [
             1
            ],
            "unique_hash": "sqrt_iter_f2"
           },
           {
            "encoded_locals": {
             "guess": 5
            },
            "frame_id": 6,
            "func_name": "sqrt_iter",
            "is_highlighted": false,
            "is_parent": false,
            "is_zombie": false,
            "ordered_varnames": [
             "guess"
            ],
            "parent_frame_id_list": [
             1
            ],
            "unique_hash": "sqrt_iter_f6"
           },
           {
            "encoded_locals": {
             "guess": 3.4
            },
            "frame_id": 10,
            "func_name": "sqrt_iter",
            "is_highlighted": true,
            "is_parent": false,
            "is_zombie": false,
            "ordered_varnames": [
             "guess"
            ],
            "parent_frame_id_list": [
             1
            ],
            "unique_hash": "sqrt_iter_f10"
           }
          ],
          "stdout": ""
         },
         {
          "event": "call",
          "func_name": "is_good_enough",
          "globals": {
           "sqrt": [
            "REF",
            1
           ]
          },
          "heap": {
           "1": [
            "FUNCTION",
            "sqrt(x)",
            null
           ],
           "2": [
            "FUNCTION",
            "average(a, b)",
            1
           ],
           "3": [
            "FUNCTION",
            "is_good_enough(guess)",
            1
           ],
           "4": [
            "FUNCTION",
            "improve(guess)",
            1
           ],
           "5": [
            "FUNCTION",
            "sqrt_iter(guess)",
            1
           ]
          },
          "line": 8,
          "ordered_globals": [
           "sqrt"
          ],
          "stack_to_render": [
           {
            "encoded_locals": {
             "average": [
              "REF",
              2
             ],
             "improve": [
              "REF",
              4
             ],
             "is_good_enough": [
              "REF",
              3
             ],
             "sqrt_iter": [
              "REF",
              5
             ],
             "x": 9
            },
            "frame_id": 1,
            "func_name": "sqrt",
            "is_highlighted": false,
            "is_parent": true,
            "is_zombie": false,
            "ordered_varnames": [
             "x",
             "average",
             "improve",
             "is_good_enough",
             "sqrt_iter"
            ],
            "parent_frame_id_list": [],
            "unique_hash": "sqrt_f1_p"
           },
           {
            "encoded_locals": {
             "guess": 1
            },
            "frame_id": 2,
            "func_name": "sqrt_iter",
            "is_highlighted": false,
            "is_parent": false,
            "is_zombie": false,
            "ordered_varnames": [
             "guess"
            ],
            "parent_frame_id_list": [
             1
            ],
            "unique_hash": "sqrt_iter_f2"
           },
           {
            "encoded_locals": {
             "guess": 5
            },
            "frame_id": 6,
            "func_name": "sqrt_iter",
            "is_highlighted": false,
            "is_parent": false,
            "is_zombie": false,
            "ordered_varnames": [
             "guess"
            ],
            "parent_frame_id_list": [
             1
            ],
            "unique_hash": "sqrt_iter_f6"
           },
           {
            "encoded_locals": {
             "guess": 3.4
            },
            "frame_id": 10,
            "func_name": "sqrt_iter",
            "is_highlighted": false,
            "is_parent": false,
            "is_zombie": false,
            "ordered_varnames": [
             "guess"
            ],
            "parent_frame_id_list": [
             1
            ],
            "unique_hash": "sqrt_iter_f10"
           },
           {
            "encoded_locals": {
             "guess": 3.4
            },
            "frame_id": 11,
            "func_name": "is_good_enough",
            "is_highlighted": true,
            "is_parent": false,
            "is_zombie": false,
            "ordered_varnames": [
             "guess"
            ],
            "parent_frame_id_list": [
             1
            ],
            "unique_hash": "is_good_enough_f11"
           }
          ],
          "stdout": ""
         },
         {
          "event": "step_line",
          "func_name": "is_good_enough",
          "globals": {
           "sqrt": [
            "REF",
            1
           ]
          },
          "heap": {
           "1": [
            "FUNCTION",
            "sqrt(x)",
            null
           ],
           "2": [
            "FUNCTION",
            "average(a, b)",
            1
           ],
           "3": [
            "FUNCTION",
            "is_good_enough(guess)",
            1
           ],
           "4": [
            "FUNCTION",
            "improve(guess)",
            1
           ],
           "5": [
            "FUNCTION",
            "sqrt_iter(guess)",
            1
           ]
          },
          "line": 9,
          "ordered_globals": [
           "sqrt"
          ],
          "stack_to_render": [
           {
            "encoded_locals": {
             "average": [
              "REF",
              2
             ],
             "improve": [
              "REF",
              4
             ],
             "is_good_enough": [
              "REF",
              3
             ],
             "sqrt_iter": [
              "REF",
              5
             ],
             "x": 9
            },
            "frame_id": 1,
            "func_name": "sqrt",
            "is_highlighted": false,
            "is_parent": true,
            "is_zombie": false,
            "ordered_varnames": [
             "x",
             "average",
             "improve",
             "is_good_enough",
             "sqrt_iter"
            ],
            "parent_frame_id_list": [],
            "unique_hash": "sqrt_f1_p"
           },
           {
            "encoded_locals": {
             "guess": 1
            },
            "frame_id": 2,
            "func_name": "sqrt_iter",
            "is_highlighted": false,
            "is_parent": false,
            "is_zombie": false,
            "ordered_varnames": [
             "guess"
            ],
            "parent_frame_id_list": [
             1
            ],
            "unique_hash": "sqrt_iter_f2"
           },
           {
            "encoded_locals": {
             "guess": 5
            },
            "frame_id": 6,
            "func_name": "sqrt_iter",
            "is_highlighted": false,
            "is_parent": false,
            "is_zombie": false,
            "ordered_varnames": [
             "guess"
            ],
            "parent_frame_id_list": [
             1
            ],
            "unique_hash": "sqrt_iter_f6"
           },
           {
            "encoded_locals": {
             "guess": 3.4
            },
            "frame_id": 10,
            "func_name": "sqrt_iter",
            "is_highlighted": false,
            "is_parent": false,
            "is_zombie": false,
            "ordered_varnames": [
             "guess"
            ],
            "parent_frame_id_list": [
             1
            ],
            "unique_hash": "sqrt_iter_f10"
           },
           {
            "encoded_locals": {
             "guess": 3.4
            },
            "frame_id": 11,
            "func_name": "is_good_enough",
            "is_highlighted": true,
            "is_parent": false,
            "is_zombie": false,
            "ordered_varnames": [
             "guess"
            ],
            "parent_frame_id_list": [
             1
            ],
            "unique_hash": "is_good_enough_f11"
           }
          ],
          "stdout": ""
         },
         {
          "event": "return",
          "func_name": "is_good_enough",
          "globals": {
           "sqrt": [
            "REF",
            1
           ]
          },
          "heap": {
           "1": [
            "FUNCTION",
            "sqrt(x)",
            null
           ],
           "2": [
            "FUNCTION",
            "average(a, b)",
            1
           ],
           "3": [
            "FUNCTION",
            "is_good_enough(guess)",
            1
           ],
           "4": [
            "FUNCTION",
            "improve(guess)",
            1
           ],
           "5": [
            "FUNCTION",
            "sqrt_iter(guess)",
            1
           ]
          },
          "line": 9,
          "ordered_globals": [
           "sqrt"
          ],
          "stack_to_render": [
           {
            "encoded_locals": {
             "average": [
              "REF",
              2
             ],
             "improve": [
              "REF",
              4
             ],
             "is_good_enough": [
              "REF",
              3
             ],
             "sqrt_iter": [
              "REF",
              5
             ],
             "x": 9
            },
            "frame_id": 1,
            "func_name": "sqrt",
            "is_highlighted": false,
            "is_parent": true,
            "is_zombie": false,
            "ordered_varnames": [
             "x",
             "average",
             "improve",
             "is_good_enough",
             "sqrt_iter"
            ],
            "parent_frame_id_list": [],
            "unique_hash": "sqrt_f1_p"
           },
           {
            "encoded_locals": {
             "guess": 1
            },
            "frame_id": 2,
            "func_name": "sqrt_iter",
            "is_highlighted": false,
            "is_parent": false,
            "is_zombie": false,
            "ordered_varnames": [
             "guess"
            ],
            "parent_frame_id_list": [
             1
            ],
            "unique_hash": "sqrt_iter_f2"
           },
           {
            "encoded_locals": {
             "guess": 5
            },
            "frame_id": 6,
            "func_name": "sqrt_iter",
            "is_highlighted": false,
            "is_parent": false,
            "is_zombie": false,
            "ordered_varnames": [
             "guess"
            ],
            "parent_frame_id_list": [
             1
            ],
            "unique_hash": "sqrt_iter_f6"
           },
           {
            "encoded_locals": {
             "guess": 3.4
            },
            "frame_id": 10,
            "func_name": "sqrt_iter",
            "is_highlighted": false,
            "is_parent": false,
            "is_zombie": false,
            "ordered_varnames": [
             "guess"
            ],
            "parent_frame_id_list": [
             1
            ],
            "unique_hash": "sqrt_iter_f10"
           },
           {
            "encoded_locals": {
             "__return__": false,
             "guess": 3.4
            },
            "frame_id": 11,
            "func_name": "is_good_enough",
            "is_highlighted": true,
            "is_parent": false,
            "is_zombie": false,
            "ordered_varnames": [
             "guess",
             "__return__"
            ],
            "parent_frame_id_list": [
             1
            ],
            "unique_hash": "is_good_enough_f11"
           }
          ],
          "stdout": ""
         },
         {
          "event": "step_line",
          "func_name": "sqrt_iter",
          "globals": {
           "sqrt": [
            "REF",
            1
           ]
          },
          "heap": {
           "1": [
            "FUNCTION",
            "sqrt(x)",
            null
           ],
           "2": [
            "FUNCTION",
            "average(a, b)",
            1
           ],
           "3": [
            "FUNCTION",
            "is_good_enough(guess)",
            1
           ],
           "4": [
            "FUNCTION",
            "improve(guess)",
            1
           ],
           "5": [
            "FUNCTION",
            "sqrt_iter(guess)",
            1
           ]
          },
          "line": 18,
          "ordered_globals": [
           "sqrt"
          ],
          "stack_to_render": [
           {
            "encoded_locals": {
             "average": [
              "REF",
              2
             ],
             "improve": [
              "REF",
              4
             ],
             "is_good_enough": [
              "REF",
              3
             ],
             "sqrt_iter": [
              "REF",
              5
             ],
             "x": 9
            },
            "frame_id": 1,
            "func_name": "sqrt",
            "is_highlighted": false,
            "is_parent": true,
            "is_zombie": false,
            "ordered_varnames": [
             "x",
             "average",
             "improve",
             "is_good_enough",
             "sqrt_iter"
            ],
            "parent_frame_id_list": [],
            "unique_hash": "sqrt_f1_p"
           },
           {
            "encoded_locals": {
             "guess": 1
            },
            "frame_id": 2,
            "func_name": "sqrt_iter",
            "is_highlighted": false,
            "is_parent": false,
            "is_zombie": false,
            "ordered_varnames": [
             "guess"
            ],
            "parent_frame_id_list": [
             1
            ],
            "unique_hash": "sqrt_iter_f2"
           },
           {
            "encoded_locals": {
             "guess": 5
            },
            "frame_id": 6,
            "func_name": "sqrt_iter",
            "is_highlighted": false,
            "is_parent": false,
            "is_zombie": false,
            "ordered_varnames": [
             "guess"
            ],
            "parent_frame_id_list": [
             1
            ],
            "unique_hash": "sqrt_iter_f6"
           },
           {
            "encoded_locals": {
             "guess": 3.4
            },
            "frame_id": 10,
            "func_name": "sqrt_iter",
            "is_highlighted": true,
            "is_parent": false,
            "is_zombie": false,
            "ordered_varnames": [
             "guess"
            ],
            "parent_frame_id_list": [
             1
            ],
            "unique_hash": "sqrt_iter_f10"
           }
          ],
          "stdout": ""
         },
         {
          "event": "call",
          "func_name": "improve",
          "globals": {
           "sqrt": [
            "REF",
            1
           ]
          },
          "heap": {
           "1": [
            "FUNCTION",
            "sqrt(x)",
            null
           ],
           "2": [
            "FUNCTION",
            "average(a, b)",
            1
           ],
           "3": [
            "FUNCTION",
            "is_good_enough(guess)",
            1
           ],
           "4": [
            "FUNCTION",
            "improve(guess)",
            1
           ],
           "5": [
            "FUNCTION",
            "sqrt_iter(guess)",
            1
           ]
          },
          "line": 11,
          "ordered_globals": [
           "sqrt"
          ],
          "stack_to_render": [
           {
            "encoded_locals": {
             "average": [
              "REF",
              2
             ],
             "improve": [
              "REF",
              4
             ],
             "is_good_enough": [
              "REF",
              3
             ],
             "sqrt_iter": [
              "REF",
              5
             ],
             "x": 9
            },
            "frame_id": 1,
            "func_name": "sqrt",
            "is_highlighted": false,
            "is_parent": true,
            "is_zombie": false,
            "ordered_varnames": [
             "x",
             "average",
             "improve",
             "is_good_enough",
             "sqrt_iter"
            ],
            "parent_frame_id_list": [],
            "unique_hash": "sqrt_f1_p"
           },
           {
            "encoded_locals": {
             "guess": 1
            },
            "frame_id": 2,
            "func_name": "sqrt_iter",
            "is_highlighted": false,
            "is_parent": false,
            "is_zombie": false,
            "ordered_varnames": [
             "guess"
            ],
            "parent_frame_id_list": [
             1
            ],
            "unique_hash": "sqrt_iter_f2"
           },
           {
            "encoded_locals": {
             "guess": 5
            },
            "frame_id": 6,
            "func_name": "sqrt_iter",
            "is_highlighted": false,
            "is_parent": false,
            "is_zombie": false,
            "ordered_varnames": [
             "guess"
            ],
            "parent_frame_id_list": [
             1
            ],
            "unique_hash": "sqrt_iter_f6"
           },
           {
            "encoded_locals": {
             "guess": 3.4
            },
            "frame_id": 10,
            "func_name": "sqrt_iter",
            "is_highlighted": false,
            "is_parent": false,
            "is_zombie": false,
            "ordered_varnames": [
             "guess"
            ],
            "parent_frame_id_list": [
             1
            ],
            "unique_hash": "sqrt_iter_f10"
           },
           {
            "encoded_locals": {
             "guess": 3.4
            },
            "frame_id": 12,
            "func_name": "improve",
            "is_highlighted": true,
            "is_parent": false,
            "is_zombie": false,
            "ordered_varnames": [
             "guess"
            ],
            "parent_frame_id_list": [
             1
            ],
            "unique_hash": "improve_f12"
           }
          ],
          "stdout": ""
         },
         {
          "event": "step_line",
          "func_name": "improve",
          "globals": {
           "sqrt": [
            "REF",
            1
           ]
          },
          "heap": {
           "1": [
            "FUNCTION",
            "sqrt(x)",
            null
           ],
           "2": [
            "FUNCTION",
            "average(a, b)",
            1
           ],
           "3": [
            "FUNCTION",
            "is_good_enough(guess)",
            1
           ],
           "4": [
            "FUNCTION",
            "improve(guess)",
            1
           ],
           "5": [
            "FUNCTION",
            "sqrt_iter(guess)",
            1
           ]
          },
          "line": 12,
          "ordered_globals": [
           "sqrt"
          ],
          "stack_to_render": [
           {
            "encoded_locals": {
             "average": [
              "REF",
              2
             ],
             "improve": [
              "REF",
              4
             ],
             "is_good_enough": [
              "REF",
              3
             ],
             "sqrt_iter": [
              "REF",
              5
             ],
             "x": 9
            },
            "frame_id": 1,
            "func_name": "sqrt",
            "is_highlighted": false,
            "is_parent": true,
            "is_zombie": false,
            "ordered_varnames": [
             "x",
             "average",
             "improve",
             "is_good_enough",
             "sqrt_iter"
            ],
            "parent_frame_id_list": [],
            "unique_hash": "sqrt_f1_p"
           },
           {
            "encoded_locals": {
             "guess": 1
            },
            "frame_id": 2,
            "func_name": "sqrt_iter",
            "is_highlighted": false,
            "is_parent": false,
            "is_zombie": false,
            "ordered_varnames": [
             "guess"
            ],
            "parent_frame_id_list": [
             1
            ],
            "unique_hash": "sqrt_iter_f2"
           },
           {
            "encoded_locals": {
             "guess": 5
            },
            "frame_id": 6,
            "func_name": "sqrt_iter",
            "is_highlighted": false,
            "is_parent": false,
            "is_zombie": false,
            "ordered_varnames": [
             "guess"
            ],
            "parent_frame_id_list": [
             1
            ],
            "unique_hash": "sqrt_iter_f6"
           },
           {
            "encoded_locals": {
             "guess": 3.4
            },
            "frame_id": 10,
            "func_name": "sqrt_iter",
            "is_highlighted": false,
            "is_parent": false,
            "is_zombie": false,
            "ordered_varnames": [
             "guess"
            ],
            "parent_frame_id_list": [
             1
            ],
            "unique_hash": "sqrt_iter_f10"
           },
           {
            "encoded_locals": {
             "guess": 3.4
            },
            "frame_id": 12,
            "func_name": "improve",
            "is_highlighted": true,
            "is_parent": false,
            "is_zombie": false,
            "ordered_varnames": [
             "guess"
            ],
            "parent_frame_id_list": [
             1
            ],
            "unique_hash": "improve_f12"
           }
          ],
          "stdout": ""
         },
         {
          "event": "call",
          "func_name": "average",
          "globals": {
           "sqrt": [
            "REF",
            1
           ]
          },
          "heap": {
           "1": [
            "FUNCTION",
            "sqrt(x)",
            null
           ],
           "2": [
            "FUNCTION",
            "average(a, b)",
            1
           ],
           "3": [
            "FUNCTION",
            "is_good_enough(guess)",
            1
           ],
           "4": [
            "FUNCTION",
            "improve(guess)",
            1
           ],
           "5": [
            "FUNCTION",
            "sqrt_iter(guess)",
            1
           ]
          },
          "line": 5,
          "ordered_globals": [
           "sqrt"
          ],
          "stack_to_render": [
           {
            "encoded_locals": {
             "average": [
              "REF",
              2
             ],
             "improve": [
              "REF",
              4
             ],
             "is_good_enough": [
              "REF",
              3
             ],
             "sqrt_iter": [
              "REF",
              5
             ],
             "x": 9
            },
            "frame_id": 1,
            "func_name": "sqrt",
            "is_highlighted": false,
            "is_parent": true,
            "is_zombie": false,
            "ordered_varnames": [
             "x",
             "average",
             "improve",
             "is_good_enough",
             "sqrt_iter"
            ],
            "parent_frame_id_list": [],
            "unique_hash": "sqrt_f1_p"
           },
           {
            "encoded_locals": {
             "guess": 1
            },
            "frame_id": 2,
            "func_name": "sqrt_iter",
            "is_highlighted": false,
            "is_parent": false,
            "is_zombie": false,
            "ordered_varnames": [
             "guess"
            ],
            "parent_frame_id_list": [
             1
            ],
            "unique_hash": "sqrt_iter_f2"
           },
           {
            "encoded_locals": {
             "guess": 5
            },
            "frame_id": 6,
            "func_name": "sqrt_iter",
            "is_highlighted": false,
            "is_parent": false,
            "is_zombie": false,
            "ordered_varnames": [
             "guess"
            ],
            "parent_frame_id_list": [
             1
            ],
            "unique_hash": "sqrt_iter_f6"
           },
           {
            "encoded_locals": {
             "guess": 3.4
            },
            "frame_id": 10,
            "func_name": "sqrt_iter",
            "is_highlighted": false,
            "is_parent": false,
            "is_zombie": false,
            "ordered_varnames": [
             "guess"
            ],
            "parent_frame_id_list": [
             1
            ],
            "unique_hash": "sqrt_iter_f10"
           },
           {
            "encoded_locals": {
             "guess": 3.4
            },
            "frame_id": 12,
            "func_name": "improve",
            "is_highlighted": false,
            "is_parent": false,
            "is_zombie": false,
            "ordered_varnames": [
             "guess"
            ],
            "parent_frame_id_list": [
             1
            ],
            "unique_hash": "improve_f12"
           },
           {
            "encoded_locals": {
             "a": 3.4,
             "b": 2.6471
            },
            "frame_id": 13,
            "func_name": "average",
            "is_highlighted": true,
            "is_parent": false,
            "is_zombie": false,
            "ordered_varnames": [
             "a",
             "b"
            ],
            "parent_frame_id_list": [
             1
            ],
            "unique_hash": "average_f13"
           }
          ],
          "stdout": ""
         },
         {
          "event": "step_line",
          "func_name": "average",
          "globals": {
           "sqrt": [
            "REF",
            1
           ]
          },
          "heap": {
           "1": [
            "FUNCTION",
            "sqrt(x)",
            null
           ],
           "2": [
            "FUNCTION",
            "average(a, b)",
            1
           ],
           "3": [
            "FUNCTION",
            "is_good_enough(guess)",
            1
           ],
           "4": [
            "FUNCTION",
            "improve(guess)",
            1
           ],
           "5": [
            "FUNCTION",
            "sqrt_iter(guess)",
            1
           ]
          },
          "line": 6,
          "ordered_globals": [
           "sqrt"
          ],
          "stack_to_render": [
           {
            "encoded_locals": {
             "average": [
              "REF",
              2
             ],
             "improve": [
              "REF",
              4
             ],
             "is_good_enough": [
              "REF",
              3
             ],
             "sqrt_iter": [
              "REF",
              5
             ],
             "x": 9
            },
            "frame_id": 1,
            "func_name": "sqrt",
            "is_highlighted": false,
            "is_parent": true,
            "is_zombie": false,
            "ordered_varnames": [
             "x",
             "average",
             "improve",
             "is_good_enough",
             "sqrt_iter"
            ],
            "parent_frame_id_list": [],
            "unique_hash": "sqrt_f1_p"
           },
           {
            "encoded_locals": {
             "guess": 1
            },
            "frame_id": 2,
            "func_name": "sqrt_iter",
            "is_highlighted": false,
            "is_parent": false,
            "is_zombie": false,
            "ordered_varnames": [
             "guess"
            ],
            "parent_frame_id_list": [
             1
            ],
            "unique_hash": "sqrt_iter_f2"
           },
           {
            "encoded_locals": {
             "guess": 5
            },
            "frame_id": 6,
            "func_name": "sqrt_iter",
            "is_highlighted": false,
            "is_parent": false,
            "is_zombie": false,
            "ordered_varnames": [
             "guess"
            ],
            "parent_frame_id_list": [
             1
            ],
            "unique_hash": "sqrt_iter_f6"
           },
           {
            "encoded_locals": {
             "guess": 3.4
            },
            "frame_id": 10,
            "func_name": "sqrt_iter",
            "is_highlighted": false,
            "is_parent": false,
            "is_zombie": false,
            "ordered_varnames": [
             "guess"
            ],
            "parent_frame_id_list": [
             1
            ],
            "unique_hash": "sqrt_iter_f10"
           },
           {
            "encoded_locals": {
             "guess": 3.4
            },
            "frame_id": 12,
            "func_name": "improve",
            "is_highlighted": false,
            "is_parent": false,
            "is_zombie": false,
            "ordered_varnames": [
             "guess"
            ],
            "parent_frame_id_list": [
             1
            ],
            "unique_hash": "improve_f12"
           },
           {
            "encoded_locals": {
             "a": 3.4,
             "b": 2.6471
            },
            "frame_id": 13,
            "func_name": "average",
            "is_highlighted": true,
            "is_parent": false,
            "is_zombie": false,
            "ordered_varnames": [
             "a",
             "b"
            ],
            "parent_frame_id_list": [
             1
            ],
            "unique_hash": "average_f13"
           }
          ],
          "stdout": ""
         },
         {
          "event": "return",
          "func_name": "average",
          "globals": {
           "sqrt": [
            "REF",
            1
           ]
          },
          "heap": {
           "1": [
            "FUNCTION",
            "sqrt(x)",
            null
           ],
           "2": [
            "FUNCTION",
            "average(a, b)",
            1
           ],
           "3": [
            "FUNCTION",
            "is_good_enough(guess)",
            1
           ],
           "4": [
            "FUNCTION",
            "improve(guess)",
            1
           ],
           "5": [
            "FUNCTION",
            "sqrt_iter(guess)",
            1
           ]
          },
          "line": 6,
          "ordered_globals": [
           "sqrt"
          ],
          "stack_to_render": [
           {
            "encoded_locals": {
             "average": [
              "REF",
              2
             ],
             "improve": [
              "REF",
              4
             ],
             "is_good_enough": [
              "REF",
              3
             ],
             "sqrt_iter": [
              "REF",
              5
             ],
             "x": 9
            },
            "frame_id": 1,
            "func_name": "sqrt",
            "is_highlighted": false,
            "is_parent": true,
            "is_zombie": false,
            "ordered_varnames": [
             "x",
             "average",
             "improve",
             "is_good_enough",
             "sqrt_iter"
            ],
            "parent_frame_id_list": [],
            "unique_hash": "sqrt_f1_p"
           },
           {
            "encoded_locals": {
             "guess": 1
            },
            "frame_id": 2,
            "func_name": "sqrt_iter",
            "is_highlighted": false,
            "is_parent": false,
            "is_zombie": false,
            "ordered_varnames": [
             "guess"
            ],
            "parent_frame_id_list": [
             1
            ],
            "unique_hash": "sqrt_iter_f2"
           },
           {
            "encoded_locals": {
             "guess": 5
            },
            "frame_id": 6,
            "func_name": "sqrt_iter",
            "is_highlighted": false,
            "is_parent": false,
            "is_zombie": false,
            "ordered_varnames": [
             "guess"
            ],
            "parent_frame_id_list": [
             1
            ],
            "unique_hash": "sqrt_iter_f6"
           },
           {
            "encoded_locals": {
             "guess": 3.4
            },
            "frame_id": 10,
            "func_name": "sqrt_iter",
            "is_highlighted": false,
            "is_parent": false,
            "is_zombie": false,
            "ordered_varnames": [
             "guess"
            ],
            "parent_frame_id_list": [
             1
            ],
            "unique_hash": "sqrt_iter_f10"
           },
           {
            "encoded_locals": {
             "guess": 3.4
            },
            "frame_id": 12,
            "func_name": "improve",
            "is_highlighted": false,
            "is_parent": false,
            "is_zombie": false,
            "ordered_varnames": [
             "guess"
            ],
            "parent_frame_id_list": [
             1
            ],
            "unique_hash": "improve_f12"
           },
           {
            "encoded_locals": {
             "__return__": 3.0235,
             "a": 3.4,
             "b": 2.6471
            },
            "frame_id": 13,
            "func_name": "average",
            "is_highlighted": true,
            "is_parent": false,
            "is_zombie": false,
            "ordered_varnames": [
             "a",
             "b",
             "__return__"
            ],
            "parent_frame_id_list": [
             1
            ],
            "unique_hash": "average_f13"
           }
          ],
          "stdout": ""
         },
         {
          "event": "return",
          "func_name": "improve",
          "globals": {
           "sqrt": [
            "REF",
            1
           ]
          },
          "heap": {
           "1": [
            "FUNCTION",
            "sqrt(x)",
            null
           ],
           "2": [
            "FUNCTION",
            "average(a, b)",
            1
           ],
           "3": [
            "FUNCTION",
            "is_good_enough(guess)",
            1
           ],
           "4": [
            "FUNCTION",
            "improve(guess)",
            1
           ],
           "5": [
            "FUNCTION",
            "sqrt_iter(guess)",
            1
           ]
          },
          "line": 12,
          "ordered_globals": [
           "sqrt"
          ],
          "stack_to_render": [
           {
            "encoded_locals": {
             "average": [
              "REF",
              2
             ],
             "improve": [
              "REF",
              4
             ],
             "is_good_enough": [
              "REF",
              3
             ],
             "sqrt_iter": [
              "REF",
              5
             ],
             "x": 9
            },
            "frame_id": 1,
            "func_name": "sqrt",
            "is_highlighted": false,
            "is_parent": true,
            "is_zombie": false,
            "ordered_varnames": [
             "x",
             "average",
             "improve",
             "is_good_enough",
             "sqrt_iter"
            ],
            "parent_frame_id_list": [],
            "unique_hash": "sqrt_f1_p"
           },
           {
            "encoded_locals": {
             "guess": 1
            },
            "frame_id": 2,
            "func_name": "sqrt_iter",
            "is_highlighted": false,
            "is_parent": false,
            "is_zombie": false,
            "ordered_varnames": [
             "guess"
            ],
            "parent_frame_id_list": [
             1
            ],
            "unique_hash": "sqrt_iter_f2"
           },
           {
            "encoded_locals": {
             "guess": 5
            },
            "frame_id": 6,
            "func_name": "sqrt_iter",
            "is_highlighted": false,
            "is_parent": false,
            "is_zombie": false,
            "ordered_varnames": [
             "guess"
            ],
            "parent_frame_id_list": [
             1
            ],
            "unique_hash": "sqrt_iter_f6"
           },
           {
            "encoded_locals": {
             "guess": 3.4
            },
            "frame_id": 10,
            "func_name": "sqrt_iter",
            "is_highlighted": false,
            "is_parent": false,
            "is_zombie": false,
            "ordered_varnames": [
             "guess"
            ],
            "parent_frame_id_list": [
             1
            ],
            "unique_hash": "sqrt_iter_f10"
           },
           {
            "encoded_locals": {
             "__return__": 3.0235,
             "guess": 3.4
            },
            "frame_id": 12,
            "func_name": "improve",
            "is_highlighted": true,
            "is_parent": false,
            "is_zombie": false,
            "ordered_varnames": [
             "guess",
             "__return__"
            ],
            "parent_frame_id_list": [
             1
            ],
            "unique_hash": "improve_f12"
           }
          ],
          "stdout": ""
         },
         {
          "event": "call",
          "func_name": "sqrt_iter",
          "globals": {
           "sqrt": [
            "REF",
            1
           ]
          },
          "heap": {
           "1": [
            "FUNCTION",
            "sqrt(x)",
            null
           ],
           "2": [
            "FUNCTION",
            "average(a, b)",
            1
           ],
           "3": [
            "FUNCTION",
            "is_good_enough(guess)",
            1
           ],
           "4": [
            "FUNCTION",
            "improve(guess)",
            1
           ],
           "5": [
            "FUNCTION",
            "sqrt_iter(guess)",
            1
           ]
          },
          "line": 14,
          "ordered_globals": [
           "sqrt"
          ],
          "stack_to_render": [
           {
            "encoded_locals": {
             "average": [
              "REF",
              2
             ],
             "improve": [
              "REF",
              4
             ],
             "is_good_enough": [
              "REF",
              3
             ],
             "sqrt_iter": [
              "REF",
              5
             ],
             "x": 9
            },
            "frame_id": 1,
            "func_name": "sqrt",
            "is_highlighted": false,
            "is_parent": true,
            "is_zombie": false,
            "ordered_varnames": [
             "x",
             "average",
             "improve",
             "is_good_enough",
             "sqrt_iter"
            ],
            "parent_frame_id_list": [],
            "unique_hash": "sqrt_f1_p"
           },
           {
            "encoded_locals": {
             "guess": 1
            },
            "frame_id": 2,
            "func_name": "sqrt_iter",
            "is_highlighted": false,
            "is_parent": false,
            "is_zombie": false,
            "ordered_varnames": [
             "guess"
            ],
            "parent_frame_id_list": [
             1
            ],
            "unique_hash": "sqrt_iter_f2"
           },
           {
            "encoded_locals": {
             "guess": 5
            },
            "frame_id": 6,
            "func_name": "sqrt_iter",
            "is_highlighted": false,
            "is_parent": false,
            "is_zombie": false,
            "ordered_varnames": [
             "guess"
            ],
            "parent_frame_id_list": [
             1
            ],
            "unique_hash": "sqrt_iter_f6"
           },
           {
            "encoded_locals": {
             "guess": 3.4
            },
            "frame_id": 10,
            "func_name": "sqrt_iter",
            "is_highlighted": false,
            "is_parent": false,
            "is_zombie": false,
            "ordered_varnames": [
             "guess"
            ],
            "parent_frame_id_list": [
             1
            ],
            "unique_hash": "sqrt_iter_f10"
           },
           {
            "encoded_locals": {
             "guess": 3.0235
            },
            "frame_id": 14,
            "func_name": "sqrt_iter",
            "is_highlighted": true,
            "is_parent": false,
            "is_zombie": false,
            "ordered_varnames": [
             "guess"
            ],
            "parent_frame_id_list": [
             1
            ],
            "unique_hash": "sqrt_iter_f14"
           }
          ],
          "stdout": ""
         },
         {
          "event": "step_line",
          "func_name": "sqrt_iter",
          "globals": {
           "sqrt": [
            "REF",
            1
           ]
          },
          "heap": {
           "1": [
            "FUNCTION",
            "sqrt(x)",
            null
           ],
           "2": [
            "FUNCTION",
            "average(a, b)",
            1
           ],
           "3": [
            "FUNCTION",
            "is_good_enough(guess)",
            1
           ],
           "4": [
            "FUNCTION",
            "improve(guess)",
            1
           ],
           "5": [
            "FUNCTION",
            "sqrt_iter(guess)",
            1
           ]
          },
          "line": 15,
          "ordered_globals": [
           "sqrt"
          ],
          "stack_to_render": [
           {
            "encoded_locals": {
             "average": [
              "REF",
              2
             ],
             "improve": [
              "REF",
              4
             ],
             "is_good_enough": [
              "REF",
              3
             ],
             "sqrt_iter": [
              "REF",
              5
             ],
             "x": 9
            },
            "frame_id": 1,
            "func_name": "sqrt",
            "is_highlighted": false,
            "is_parent": true,
            "is_zombie": false,
            "ordered_varnames": [
             "x",
             "average",
             "improve",
             "is_good_enough",
             "sqrt_iter"
            ],
            "parent_frame_id_list": [],
            "unique_hash": "sqrt_f1_p"
           },
           {
            "encoded_locals": {
             "guess": 1
            },
            "frame_id": 2,
            "func_name": "sqrt_iter",
            "is_highlighted": false,
            "is_parent": false,
            "is_zombie": false,
            "ordered_varnames": [
             "guess"
            ],
            "parent_frame_id_list": [
             1
            ],
            "unique_hash": "sqrt_iter_f2"
           },
           {
            "encoded_locals": {
             "guess": 5
            },
            "frame_id": 6,
            "func_name": "sqrt_iter",
            "is_highlighted": false,
            "is_parent": false,
            "is_zombie": false,
            "ordered_varnames": [
             "guess"
            ],
            "parent_frame_id_list": [
             1
            ],
            "unique_hash": "sqrt_iter_f6"
           },
           {
            "encoded_locals": {
             "guess": 3.4
            },
            "frame_id": 10,
            "func_name": "sqrt_iter",
            "is_highlighted": false,
            "is_parent": false,
            "is_zombie": false,
            "ordered_varnames": [
             "guess"
            ],
            "parent_frame_id_list": [
             1
            ],
            "unique_hash": "sqrt_iter_f10"
           },
           {
            "encoded_locals": {
             "guess": 3.0235
            },
            "frame_id": 14,
            "func_name": "sqrt_iter",
            "is_highlighted": true,
            "is_parent": false,
            "is_zombie": false,
            "ordered_varnames": [
             "guess"
            ],
            "parent_frame_id_list": [
             1
            ],
            "unique_hash": "sqrt_iter_f14"
           }
          ],
          "stdout": ""
         },
         {
          "event": "call",
          "func_name": "is_good_enough",
          "globals": {
           "sqrt": [
            "REF",
            1
           ]
          },
          "heap": {
           "1": [
            "FUNCTION",
            "sqrt(x)",
            null
           ],
           "2": [
            "FUNCTION",
            "average(a, b)",
            1
           ],
           "3": [
            "FUNCTION",
            "is_good_enough(guess)",
            1
           ],
           "4": [
            "FUNCTION",
            "improve(guess)",
            1
           ],
           "5": [
            "FUNCTION",
            "sqrt_iter(guess)",
            1
           ]
          },
          "line": 8,
          "ordered_globals": [
           "sqrt"
          ],
          "stack_to_render": [
           {
            "encoded_locals": {
             "average": [
              "REF",
              2
             ],
             "improve": [
              "REF",
              4
             ],
             "is_good_enough": [
              "REF",
              3
             ],
             "sqrt_iter": [
              "REF",
              5
             ],
             "x": 9
            },
            "frame_id": 1,
            "func_name": "sqrt",
            "is_highlighted": false,
            "is_parent": true,
            "is_zombie": false,
            "ordered_varnames": [
             "x",
             "average",
             "improve",
             "is_good_enough",
             "sqrt_iter"
            ],
            "parent_frame_id_list": [],
            "unique_hash": "sqrt_f1_p"
           },
           {
            "encoded_locals": {
             "guess": 1
            },
            "frame_id": 2,
            "func_name": "sqrt_iter",
            "is_highlighted": false,
            "is_parent": false,
            "is_zombie": false,
            "ordered_varnames": [
             "guess"
            ],
            "parent_frame_id_list": [
             1
            ],
            "unique_hash": "sqrt_iter_f2"
           },
           {
            "encoded_locals": {
             "guess": 5
            },
            "frame_id": 6,
            "func_name": "sqrt_iter",
            "is_highlighted": false,
            "is_parent": false,
            "is_zombie": false,
            "ordered_varnames": [
             "guess"
            ],
            "parent_frame_id_list": [
             1
            ],
            "unique_hash": "sqrt_iter_f6"
           },
           {
            "encoded_locals": {
             "guess": 3.4
            },
            "frame_id": 10,
            "func_name": "sqrt_iter",
            "is_highlighted": false,
            "is_parent": false,
            "is_zombie": false,
            "ordered_varnames": [
             "guess"
            ],
            "parent_frame_id_list": [
             1
            ],
            "unique_hash": "sqrt_iter_f10"
           },
           {
            "encoded_locals": {
             "guess": 3.0235
            },
            "frame_id": 14,
            "func_name": "sqrt_iter",
            "is_highlighted": false,
            "is_parent": false,
            "is_zombie": false,
            "ordered_varnames": [
             "guess"
            ],
            "parent_frame_id_list": [
             1
            ],
            "unique_hash": "sqrt_iter_f14"
           },
           {
            "encoded_locals": {
             "guess": 3.0235
            },
            "frame_id": 15,
            "func_name": "is_good_enough",
            "is_highlighted": true,
            "is_parent": false,
            "is_zombie": false,
            "ordered_varnames": [
             "guess"
            ],
            "parent_frame_id_list": [
             1
            ],
            "unique_hash": "is_good_enough_f15"
           }
          ],
          "stdout": ""
         },
         {
          "event": "step_line",
          "func_name": "is_good_enough",
          "globals": {
           "sqrt": [
            "REF",
            1
           ]
          },
          "heap": {
           "1": [
            "FUNCTION",
            "sqrt(x)",
            null
           ],
           "2": [
            "FUNCTION",
            "average(a, b)",
            1
           ],
           "3": [
            "FUNCTION",
            "is_good_enough(guess)",
            1
           ],
           "4": [
            "FUNCTION",
            "improve(guess)",
            1
           ],
           "5": [
            "FUNCTION",
            "sqrt_iter(guess)",
            1
           ]
          },
          "line": 9,
          "ordered_globals": [
           "sqrt"
          ],
          "stack_to_render": [
           {
            "encoded_locals": {
             "average": [
              "REF",
              2
             ],
             "improve": [
              "REF",
              4
             ],
             "is_good_enough": [
              "REF",
              3
             ],
             "sqrt_iter": [
              "REF",
              5
             ],
             "x": 9
            },
            "frame_id": 1,
            "func_name": "sqrt",
            "is_highlighted": false,
            "is_parent": true,
            "is_zombie": false,
            "ordered_varnames": [
             "x",
             "average",
             "improve",
             "is_good_enough",
             "sqrt_iter"
            ],
            "parent_frame_id_list": [],
            "unique_hash": "sqrt_f1_p"
           },
           {
            "encoded_locals": {
             "guess": 1
            },
            "frame_id": 2,
            "func_name": "sqrt_iter",
            "is_highlighted": false,
            "is_parent": false,
            "is_zombie": false,
            "ordered_varnames": [
             "guess"
            ],
            "parent_frame_id_list": [
             1
            ],
            "unique_hash": "sqrt_iter_f2"
           },
           {
            "encoded_locals": {
             "guess": 5
            },
            "frame_id": 6,
            "func_name": "sqrt_iter",
            "is_highlighted": false,
            "is_parent": false,
            "is_zombie": false,
            "ordered_varnames": [
             "guess"
            ],
            "parent_frame_id_list": [
             1
            ],
            "unique_hash": "sqrt_iter_f6"
           },
           {
            "encoded_locals": {
             "guess": 3.4
            },
            "frame_id": 10,
            "func_name": "sqrt_iter",
            "is_highlighted": false,
            "is_parent": false,
            "is_zombie": false,
            "ordered_varnames": [
             "guess"
            ],
            "parent_frame_id_list": [
             1
            ],
            "unique_hash": "sqrt_iter_f10"
           },
           {
            "encoded_locals": {
             "guess": 3.0235
            },
            "frame_id": 14,
            "func_name": "sqrt_iter",
            "is_highlighted": false,
            "is_parent": false,
            "is_zombie": false,
            "ordered_varnames": [
             "guess"
            ],
            "parent_frame_id_list": [
             1
            ],
            "unique_hash": "sqrt_iter_f14"
           },
           {
            "encoded_locals": {
             "guess": 3.0235
            },
            "frame_id": 15,
            "func_name": "is_good_enough",
            "is_highlighted": true,
            "is_parent": false,
            "is_zombie": false,
            "ordered_varnames": [
             "guess"
            ],
            "parent_frame_id_list": [
             1
            ],
            "unique_hash": "is_good_enough_f15"
           }
          ],
          "stdout": ""
         },
         {
          "event": "return",
          "func_name": "is_good_enough",
          "globals": {
           "sqrt": [
            "REF",
            1
           ]
          },
          "heap": {
           "1": [
            "FUNCTION",
            "sqrt(x)",
            null
           ],
           "2": [
            "FUNCTION",
            "average(a, b)",
            1
           ],
           "3": [
            "FUNCTION",
            "is_good_enough(guess)",
            1
           ],
           "4": [
            "FUNCTION",
            "improve(guess)",
            1
           ],
           "5": [
            "FUNCTION",
            "sqrt_iter(guess)",
            1
           ]
          },
          "line": 9,
          "ordered_globals": [
           "sqrt"
          ],
          "stack_to_render": [
           {
            "encoded_locals": {
             "average": [
              "REF",
              2
             ],
             "improve": [
              "REF",
              4
             ],
             "is_good_enough": [
              "REF",
              3
             ],
             "sqrt_iter": [
              "REF",
              5
             ],
             "x": 9
            },
            "frame_id": 1,
            "func_name": "sqrt",
            "is_highlighted": false,
            "is_parent": true,
            "is_zombie": false,
            "ordered_varnames": [
             "x",
             "average",
             "improve",
             "is_good_enough",
             "sqrt_iter"
            ],
            "parent_frame_id_list": [],
            "unique_hash": "sqrt_f1_p"
           },
           {
            "encoded_locals": {
             "guess": 1
            },
            "frame_id": 2,
            "func_name": "sqrt_iter",
            "is_highlighted": false,
            "is_parent": false,
            "is_zombie": false,
            "ordered_varnames": [
             "guess"
            ],
            "parent_frame_id_list": [
             1
            ],
            "unique_hash": "sqrt_iter_f2"
           },
           {
            "encoded_locals": {
             "guess": 5
            },
            "frame_id": 6,
            "func_name": "sqrt_iter",
            "is_highlighted": false,
            "is_parent": false,
            "is_zombie": false,
            "ordered_varnames": [
             "guess"
            ],
            "parent_frame_id_list": [
             1
            ],
            "unique_hash": "sqrt_iter_f6"
           },
           {
            "encoded_locals": {
             "guess": 3.4
            },
            "frame_id": 10,
            "func_name": "sqrt_iter",
            "is_highlighted": false,
            "is_parent": false,
            "is_zombie": false,
            "ordered_varnames": [
             "guess"
            ],
            "parent_frame_id_list": [
             1
            ],
            "unique_hash": "sqrt_iter_f10"
           },
           {
            "encoded_locals": {
             "guess": 3.0235
            },
            "frame_id": 14,
            "func_name": "sqrt_iter",
            "is_highlighted": false,
            "is_parent": false,
            "is_zombie": false,
            "ordered_varnames": [
             "guess"
            ],
            "parent_frame_id_list": [
             1
            ],
            "unique_hash": "sqrt_iter_f14"
           },
           {
            "encoded_locals": {
             "__return__": false,
             "guess": 3.0235
            },
            "frame_id": 15,
            "func_name": "is_good_enough",
            "is_highlighted": true,
            "is_parent": false,
            "is_zombie": false,
            "ordered_varnames": [
             "guess",
             "__return__"
            ],
            "parent_frame_id_list": [
             1
            ],
            "unique_hash": "is_good_enough_f15"
           }
          ],
          "stdout": ""
         },
         {
          "event": "step_line",
          "func_name": "sqrt_iter",
          "globals": {
           "sqrt": [
            "REF",
            1
           ]
          },
          "heap": {
           "1": [
            "FUNCTION",
            "sqrt(x)",
            null
           ],
           "2": [
            "FUNCTION",
            "average(a, b)",
            1
           ],
           "3": [
            "FUNCTION",
            "is_good_enough(guess)",
            1
           ],
           "4": [
            "FUNCTION",
            "improve(guess)",
            1
           ],
           "5": [
            "FUNCTION",
            "sqrt_iter(guess)",
            1
           ]
          },
          "line": 18,
          "ordered_globals": [
           "sqrt"
          ],
          "stack_to_render": [
           {
            "encoded_locals": {
             "average": [
              "REF",
              2
             ],
             "improve": [
              "REF",
              4
             ],
             "is_good_enough": [
              "REF",
              3
             ],
             "sqrt_iter": [
              "REF",
              5
             ],
             "x": 9
            },
            "frame_id": 1,
            "func_name": "sqrt",
            "is_highlighted": false,
            "is_parent": true,
            "is_zombie": false,
            "ordered_varnames": [
             "x",
             "average",
             "improve",
             "is_good_enough",
             "sqrt_iter"
            ],
            "parent_frame_id_list": [],
            "unique_hash": "sqrt_f1_p"
           },
           {
            "encoded_locals": {
             "guess": 1
            },
            "frame_id": 2,
            "func_name": "sqrt_iter",
            "is_highlighted": false,
            "is_parent": false,
            "is_zombie": false,
            "ordered_varnames": [
             "guess"
            ],
            "parent_frame_id_list": [
             1
            ],
            "unique_hash": "sqrt_iter_f2"
           },
           {
            "encoded_locals": {
             "guess": 5
            },
            "frame_id": 6,
            "func_name": "sqrt_iter",
            "is_highlighted": false,
            "is_parent": false,
            "is_zombie": false,
            "ordered_varnames": [
             "guess"
            ],
            "parent_frame_id_list": [
             1
            ],
            "unique_hash": "sqrt_iter_f6"
           },
           {
            "encoded_locals": {
             "guess": 3.4
            },
            "frame_id": 10,
            "func_name": "sqrt_iter",
            "is_highlighted": false,
            "is_parent": false,
            "is_zombie": false,
            "ordered_varnames": [
             "guess"
            ],
            "parent_frame_id_list": [
             1
            ],
            "unique_hash": "sqrt_iter_f10"
           },
           {
            "encoded_locals": {
             "guess": 3.0235
            },
            "frame_id": 14,
            "func_name": "sqrt_iter",
            "is_highlighted": true,
            "is_parent": false,
            "is_zombie": false,
            "ordered_varnames": [
             "guess"
            ],
            "parent_frame_id_list": [
             1
            ],
            "unique_hash": "sqrt_iter_f14"
           }
          ],
          "stdout": ""
         },
         {
          "event": "call",
          "func_name": "improve",
          "globals": {
           "sqrt": [
            "REF",
            1
           ]
          },
          "heap": {
           "1": [
            "FUNCTION",
            "sqrt(x)",
            null
           ],
           "2": [
            "FUNCTION",
            "average(a, b)",
            1
           ],
           "3": [
            "FUNCTION",
            "is_good_enough(guess)",
            1
           ],
           "4": [
            "FUNCTION",
            "improve(guess)",
            1
           ],
           "5": [
            "FUNCTION",
            "sqrt_iter(guess)",
            1
           ]
          },
          "line": 11,
          "ordered_globals": [
           "sqrt"
          ],
          "stack_to_render": [
           {
            "encoded_locals": {
             "average": [
              "REF",
              2
             ],
             "improve": [
              "REF",
              4
             ],
             "is_good_enough": [
              "REF",
              3
             ],
             "sqrt_iter": [
              "REF",
              5
             ],
             "x": 9
            },
            "frame_id": 1,
            "func_name": "sqrt",
            "is_highlighted": false,
            "is_parent": true,
            "is_zombie": false,
            "ordered_varnames": [
             "x",
             "average",
             "improve",
             "is_good_enough",
             "sqrt_iter"
            ],
            "parent_frame_id_list": [],
            "unique_hash": "sqrt_f1_p"
           },
           {
            "encoded_locals": {
             "guess": 1
            },
            "frame_id": 2,
            "func_name": "sqrt_iter",
            "is_highlighted": false,
            "is_parent": false,
            "is_zombie": false,
            "ordered_varnames": [
             "guess"
            ],
            "parent_frame_id_list": [
             1
            ],
            "unique_hash": "sqrt_iter_f2"
           },
           {
            "encoded_locals": {
             "guess": 5
            },
            "frame_id": 6,
            "func_name": "sqrt_iter",
            "is_highlighted": false,
            "is_parent": false,
            "is_zombie": false,
            "ordered_varnames": [
             "guess"
            ],
            "parent_frame_id_list": [
             1
            ],
            "unique_hash": "sqrt_iter_f6"
           },
           {
            "encoded_locals": {
             "guess": 3.4
            },
            "frame_id": 10,
            "func_name": "sqrt_iter",
            "is_highlighted": false,
            "is_parent": false,
            "is_zombie": false,
            "ordered_varnames": [
             "guess"
            ],
            "parent_frame_id_list": [
             1
            ],
            "unique_hash": "sqrt_iter_f10"
           },
           {
            "encoded_locals": {
             "guess": 3.0235
            },
            "frame_id": 14,
            "func_name": "sqrt_iter",
            "is_highlighted": false,
            "is_parent": false,
            "is_zombie": false,
            "ordered_varnames": [
             "guess"
            ],
            "parent_frame_id_list": [
             1
            ],
            "unique_hash": "sqrt_iter_f14"
           },
           {
            "encoded_locals": {
             "guess": 3.0235
            },
            "frame_id": 16,
            "func_name": "improve",
            "is_highlighted": true,
            "is_parent": false,
            "is_zombie": false,
            "ordered_varnames": [
             "guess"
            ],
            "parent_frame_id_list": [
             1
            ],
            "unique_hash": "improve_f16"
           }
          ],
          "stdout": ""
         },
         {
          "event": "step_line",
          "func_name": "improve",
          "globals": {
           "sqrt": [
            "REF",
            1
           ]
          },
          "heap": {
           "1": [
            "FUNCTION",
            "sqrt(x)",
            null
           ],
           "2": [
            "FUNCTION",
            "average(a, b)",
            1
           ],
           "3": [
            "FUNCTION",
            "is_good_enough(guess)",
            1
           ],
           "4": [
            "FUNCTION",
            "improve(guess)",
            1
           ],
           "5": [
            "FUNCTION",
            "sqrt_iter(guess)",
            1
           ]
          },
          "line": 12,
          "ordered_globals": [
           "sqrt"
          ],
          "stack_to_render": [
           {
            "encoded_locals": {
             "average": [
              "REF",
              2
             ],
             "improve": [
              "REF",
              4
             ],
             "is_good_enough": [
              "REF",
              3
             ],
             "sqrt_iter": [
              "REF",
              5
             ],
             "x": 9
            },
            "frame_id": 1,
            "func_name": "sqrt",
            "is_highlighted": false,
            "is_parent": true,
            "is_zombie": false,
            "ordered_varnames": [
             "x",
             "average",
             "improve",
             "is_good_enough",
             "sqrt_iter"
            ],
            "parent_frame_id_list": [],
            "unique_hash": "sqrt_f1_p"
           },
           {
            "encoded_locals": {
             "guess": 1
            },
            "frame_id": 2,
            "func_name": "sqrt_iter",
            "is_highlighted": false,
            "is_parent": false,
            "is_zombie": false,
            "ordered_varnames": [
             "guess"
            ],
            "parent_frame_id_list": [
             1
            ],
            "unique_hash": "sqrt_iter_f2"
           },
           {
            "encoded_locals": {
             "guess": 5
            },
            "frame_id": 6,
            "func_name": "sqrt_iter",
            "is_highlighted": false,
            "is_parent": false,
            "is_zombie": false,
            "ordered_varnames": [
             "guess"
            ],
            "parent_frame_id_list": [
             1
            ],
            "unique_hash": "sqrt_iter_f6"
           },
           {
            "encoded_locals": {
             "guess": 3.4
            },
            "frame_id": 10,
            "func_name": "sqrt_iter",
            "is_highlighted": false,
            "is_parent": false,
            "is_zombie": false,
            "ordered_varnames": [
             "guess"
            ],
            "parent_frame_id_list": [
             1
            ],
            "unique_hash": "sqrt_iter_f10"
           },
           {
            "encoded_locals": {
             "guess": 3.0235
            },
            "frame_id": 14,
            "func_name": "sqrt_iter",
            "is_highlighted": false,
            "is_parent": false,
            "is_zombie": false,
            "ordered_varnames": [
             "guess"
            ],
            "parent_frame_id_list": [
             1
            ],
            "unique_hash": "sqrt_iter_f14"
           },
           {
            "encoded_locals": {
             "guess": 3.0235
            },
            "frame_id": 16,
            "func_name": "improve",
            "is_highlighted": true,
            "is_parent": false,
            "is_zombie": false,
            "ordered_varnames": [
             "guess"
            ],
            "parent_frame_id_list": [
             1
            ],
            "unique_hash": "improve_f16"
           }
          ],
          "stdout": ""
         },
         {
          "event": "call",
          "func_name": "average",
          "globals": {
           "sqrt": [
            "REF",
            1
           ]
          },
          "heap": {
           "1": [
            "FUNCTION",
            "sqrt(x)",
            null
           ],
           "2": [
            "FUNCTION",
            "average(a, b)",
            1
           ],
           "3": [
            "FUNCTION",
            "is_good_enough(guess)",
            1
           ],
           "4": [
            "FUNCTION",
            "improve(guess)",
            1
           ],
           "5": [
            "FUNCTION",
            "sqrt_iter(guess)",
            1
           ]
          },
          "line": 5,
          "ordered_globals": [
           "sqrt"
          ],
          "stack_to_render": [
           {
            "encoded_locals": {
             "average": [
              "REF",
              2
             ],
             "improve": [
              "REF",
              4
             ],
             "is_good_enough": [
              "REF",
              3
             ],
             "sqrt_iter": [
              "REF",
              5
             ],
             "x": 9
            },
            "frame_id": 1,
            "func_name": "sqrt",
            "is_highlighted": false,
            "is_parent": true,
            "is_zombie": false,
            "ordered_varnames": [
             "x",
             "average",
             "improve",
             "is_good_enough",
             "sqrt_iter"
            ],
            "parent_frame_id_list": [],
            "unique_hash": "sqrt_f1_p"
           },
           {
            "encoded_locals": {
             "guess": 1
            },
            "frame_id": 2,
            "func_name": "sqrt_iter",
            "is_highlighted": false,
            "is_parent": false,
            "is_zombie": false,
            "ordered_varnames": [
             "guess"
            ],
            "parent_frame_id_list": [
             1
            ],
            "unique_hash": "sqrt_iter_f2"
           },
           {
            "encoded_locals": {
             "guess": 5
            },
            "frame_id": 6,
            "func_name": "sqrt_iter",
            "is_highlighted": false,
            "is_parent": false,
            "is_zombie": false,
            "ordered_varnames": [
             "guess"
            ],
            "parent_frame_id_list": [
             1
            ],
            "unique_hash": "sqrt_iter_f6"
           },
           {
            "encoded_locals": {
             "guess": 3.4
            },
            "frame_id": 10,
            "func_name": "sqrt_iter",
            "is_highlighted": false,
            "is_parent": false,
            "is_zombie": false,
            "ordered_varnames": [
             "guess"
            ],
            "parent_frame_id_list": [
             1
            ],
            "unique_hash": "sqrt_iter_f10"
           },
           {
            "encoded_locals": {
             "guess": 3.0235
            },
            "frame_id": 14,
            "func_name": "sqrt_iter",
            "is_highlighted": false,
            "is_parent": false,
            "is_zombie": false,
            "ordered_varnames": [
             "guess"
            ],
            "parent_frame_id_list": [
             1
            ],
            "unique_hash": "sqrt_iter_f14"
           },
           {
            "encoded_locals": {
             "guess": 3.0235
            },
            "frame_id": 16,
            "func_name": "improve",
            "is_highlighted": false,
            "is_parent": false,
            "is_zombie": false,
            "ordered_varnames": [
             "guess"
            ],
            "parent_frame_id_list": [
             1
            ],
            "unique_hash": "improve_f16"
           },
           {
            "encoded_locals": {
             "a": 3.0235,
             "b": 2.9767
            },
            "frame_id": 17,
            "func_name": "average",
            "is_highlighted": true,
            "is_parent": false,
            "is_zombie": false,
            "ordered_varnames": [
             "a",
             "b"
            ],
            "parent_frame_id_list": [
             1
            ],
            "unique_hash": "average_f17"
           }
          ],
          "stdout": ""
         },
         {
          "event": "step_line",
          "func_name": "average",
          "globals": {
           "sqrt": [
            "REF",
            1
           ]
          },
          "heap": {
           "1": [
            "FUNCTION",
            "sqrt(x)",
            null
           ],
           "2": [
            "FUNCTION",
            "average(a, b)",
            1
           ],
           "3": [
            "FUNCTION",
            "is_good_enough(guess)",
            1
           ],
           "4": [
            "FUNCTION",
            "improve(guess)",
            1
           ],
           "5": [
            "FUNCTION",
            "sqrt_iter(guess)",
            1
           ]
          },
          "line": 6,
          "ordered_globals": [
           "sqrt"
          ],
          "stack_to_render": [
           {
            "encoded_locals": {
             "average": [
              "REF",
              2
             ],
             "improve": [
              "REF",
              4
             ],
             "is_good_enough": [
              "REF",
              3
             ],
             "sqrt_iter": [
              "REF",
              5
             ],
             "x": 9
            },
            "frame_id": 1,
            "func_name": "sqrt",
            "is_highlighted": false,
            "is_parent": true,
            "is_zombie": false,
            "ordered_varnames": [
             "x",
             "average",
             "improve",
             "is_good_enough",
             "sqrt_iter"
            ],
            "parent_frame_id_list": [],
            "unique_hash": "sqrt_f1_p"
           },
           {
            "encoded_locals": {
             "guess": 1
            },
            "frame_id": 2,
            "func_name": "sqrt_iter",
            "is_highlighted": false,
            "is_parent": false,
            "is_zombie": false,
            "ordered_varnames": [
             "guess"
            ],
            "parent_frame_id_list": [
             1
            ],
            "unique_hash": "sqrt_iter_f2"
           },
           {
            "encoded_locals": {
             "guess": 5
            },
            "frame_id": 6,
            "func_name": "sqrt_iter",
            "is_highlighted": false,
            "is_parent": false,
            "is_zombie": false,
            "ordered_varnames": [
             "guess"
            ],
            "parent_frame_id_list": [
             1
            ],
            "unique_hash": "sqrt_iter_f6"
           },
           {
            "encoded_locals": {
             "guess": 3.4
            },
            "frame_id": 10,
            "func_name": "sqrt_iter",
            "is_highlighted": false,
            "is_parent": false,
            "is_zombie": false,
            "ordered_varnames": [
             "guess"
            ],
            "parent_frame_id_list": [
             1
            ],
            "unique_hash": "sqrt_iter_f10"
           },
           {
            "encoded_locals": {
             "guess": 3.0235
            },
            "frame_id": 14,
            "func_name": "sqrt_iter",
            "is_highlighted": false,
            "is_parent": false,
            "is_zombie": false,
            "ordered_varnames": [
             "guess"
            ],
            "parent_frame_id_list": [
             1
            ],
            "unique_hash": "sqrt_iter_f14"
           },
           {
            "encoded_locals": {
             "guess": 3.0235
            },
            "frame_id": 16,
            "func_name": "improve",
            "is_highlighted": false,
            "is_parent": false,
            "is_zombie": false,
            "ordered_varnames": [
             "guess"
            ],
            "parent_frame_id_list": [
             1
            ],
            "unique_hash": "improve_f16"
           },
           {
            "encoded_locals": {
             "a": 3.0235,
             "b": 2.9767
            },
            "frame_id": 17,
            "func_name": "average",
            "is_highlighted": true,
            "is_parent": false,
            "is_zombie": false,
            "ordered_varnames": [
             "a",
             "b"
            ],
            "parent_frame_id_list": [
             1
            ],
            "unique_hash": "average_f17"
           }
          ],
          "stdout": ""
         },
         {
          "event": "return",
          "func_name": "average",
          "globals": {
           "sqrt": [
            "REF",
            1
           ]
          },
          "heap": {
           "1": [
            "FUNCTION",
            "sqrt(x)",
            null
           ],
           "2": [
            "FUNCTION",
            "average(a, b)",
            1
           ],
           "3": [
            "FUNCTION",
            "is_good_enough(guess)",
            1
           ],
           "4": [
            "FUNCTION",
            "improve(guess)",
            1
           ],
           "5": [
            "FUNCTION",
            "sqrt_iter(guess)",
            1
           ]
          },
          "line": 6,
          "ordered_globals": [
           "sqrt"
          ],
          "stack_to_render": [
           {
            "encoded_locals": {
             "average": [
              "REF",
              2
             ],
             "improve": [
              "REF",
              4
             ],
             "is_good_enough": [
              "REF",
              3
             ],
             "sqrt_iter": [
              "REF",
              5
             ],
             "x": 9
            },
            "frame_id": 1,
            "func_name": "sqrt",
            "is_highlighted": false,
            "is_parent": true,
            "is_zombie": false,
            "ordered_varnames": [
             "x",
             "average",
             "improve",
             "is_good_enough",
             "sqrt_iter"
            ],
            "parent_frame_id_list": [],
            "unique_hash": "sqrt_f1_p"
           },
           {
            "encoded_locals": {
             "guess": 1
            },
            "frame_id": 2,
            "func_name": "sqrt_iter",
            "is_highlighted": false,
            "is_parent": false,
            "is_zombie": false,
            "ordered_varnames": [
             "guess"
            ],
            "parent_frame_id_list": [
             1
            ],
            "unique_hash": "sqrt_iter_f2"
           },
           {
            "encoded_locals": {
             "guess": 5
            },
            "frame_id": 6,
            "func_name": "sqrt_iter",
            "is_highlighted": false,
            "is_parent": false,
            "is_zombie": false,
            "ordered_varnames": [
             "guess"
            ],
            "parent_frame_id_list": [
             1
            ],
            "unique_hash": "sqrt_iter_f6"
           },
           {
            "encoded_locals": {
             "guess": 3.4
            },
            "frame_id": 10,
            "func_name": "sqrt_iter",
            "is_highlighted": false,
            "is_parent": false,
            "is_zombie": false,
            "ordered_varnames": [
             "guess"
            ],
            "parent_frame_id_list": [
             1
            ],
            "unique_hash": "sqrt_iter_f10"
           },
           {
            "encoded_locals": {
             "guess": 3.0235
            },
            "frame_id": 14,
            "func_name": "sqrt_iter",
            "is_highlighted": false,
            "is_parent": false,
            "is_zombie": false,
            "ordered_varnames": [
             "guess"
            ],
            "parent_frame_id_list": [
             1
            ],
            "unique_hash": "sqrt_iter_f14"
           },
           {
            "encoded_locals": {
             "guess": 3.0235
            },
            "frame_id": 16,
            "func_name": "improve",
            "is_highlighted": false,
            "is_parent": false,
            "is_zombie": false,
            "ordered_varnames": [
             "guess"
            ],
            "parent_frame_id_list": [
             1
            ],
            "unique_hash": "improve_f16"
           },
           {
            "encoded_locals": {
             "__return__": 3.0001,
             "a": 3.0235,
             "b": 2.9767
            },
            "frame_id": 17,
            "func_name": "average",
            "is_highlighted": true,
            "is_parent": false,
            "is_zombie": false,
            "ordered_varnames": [
             "a",
             "b",
             "__return__"
            ],
            "parent_frame_id_list": [
             1
            ],
            "unique_hash": "average_f17"
           }
          ],
          "stdout": ""
         },
         {
          "event": "return",
          "func_name": "improve",
          "globals": {
           "sqrt": [
            "REF",
            1
           ]
          },
          "heap": {
           "1": [
            "FUNCTION",
            "sqrt(x)",
            null
           ],
           "2": [
            "FUNCTION",
            "average(a, b)",
            1
           ],
           "3": [
            "FUNCTION",
            "is_good_enough(guess)",
            1
           ],
           "4": [
            "FUNCTION",
            "improve(guess)",
            1
           ],
           "5": [
            "FUNCTION",
            "sqrt_iter(guess)",
            1
           ]
          },
          "line": 12,
          "ordered_globals": [
           "sqrt"
          ],
          "stack_to_render": [
           {
            "encoded_locals": {
             "average": [
              "REF",
              2
             ],
             "improve": [
              "REF",
              4
             ],
             "is_good_enough": [
              "REF",
              3
             ],
             "sqrt_iter": [
              "REF",
              5
             ],
             "x": 9
            },
            "frame_id": 1,
            "func_name": "sqrt",
            "is_highlighted": false,
            "is_parent": true,
            "is_zombie": false,
            "ordered_varnames": [
             "x",
             "average",
             "improve",
             "is_good_enough",
             "sqrt_iter"
            ],
            "parent_frame_id_list": [],
            "unique_hash": "sqrt_f1_p"
           },
           {
            "encoded_locals": {
             "guess": 1
            },
            "frame_id": 2,
            "func_name": "sqrt_iter",
            "is_highlighted": false,
            "is_parent": false,
            "is_zombie": false,
            "ordered_varnames": [
             "guess"
            ],
            "parent_frame_id_list": [
             1
            ],
            "unique_hash": "sqrt_iter_f2"
           },
           {
            "encoded_locals": {
             "guess": 5
            },
            "frame_id": 6,
            "func_name": "sqrt_iter",
            "is_highlighted": false,
            "is_parent": false,
            "is_zombie": false,
            "ordered_varnames": [
             "guess"
            ],
            "parent_frame_id_list": [
             1
            ],
            "unique_hash": "sqrt_iter_f6"
           },
           {
            "encoded_locals": {
             "guess": 3.4
            },
            "frame_id": 10,
            "func_name": "sqrt_iter",
            "is_highlighted": false,
            "is_parent": false,
            "is_zombie": false,
            "ordered_varnames": [
             "guess"
            ],
            "parent_frame_id_list": [
             1
            ],
            "unique_hash": "sqrt_iter_f10"
           },
           {
            "encoded_locals": {
             "guess": 3.0235
            },
            "frame_id": 14,
            "func_name": "sqrt_iter",
            "is_highlighted": false,
            "is_parent": false,
            "is_zombie": false,
            "ordered_varnames": [
             "guess"
            ],
            "parent_frame_id_list": [
             1
            ],
            "unique_hash": "sqrt_iter_f14"
           },
           {
            "encoded_locals": {
             "__return__": 3.0001,
             "guess": 3.0235
            },
            "frame_id": 16,
            "func_name": "improve",
            "is_highlighted": true,
            "is_parent": false,
            "is_zombie": false,
            "ordered_varnames": [
             "guess",
             "__return__"
            ],
            "parent_frame_id_list": [
             1
            ],
            "unique_hash": "improve_f16"
           }
          ],
          "stdout": ""
         },
         {
          "event": "call",
          "func_name": "sqrt_iter",
          "globals": {
           "sqrt": [
            "REF",
            1
           ]
          },
          "heap": {
           "1": [
            "FUNCTION",
            "sqrt(x)",
            null
           ],
           "2": [
            "FUNCTION",
            "average(a, b)",
            1
           ],
           "3": [
            "FUNCTION",
            "is_good_enough(guess)",
            1
           ],
           "4": [
            "FUNCTION",
            "improve(guess)",
            1
           ],
           "5": [
            "FUNCTION",
            "sqrt_iter(guess)",
            1
           ]
          },
          "line": 14,
          "ordered_globals": [
           "sqrt"
          ],
          "stack_to_render": [
           {
            "encoded_locals": {
             "average": [
              "REF",
              2
             ],
             "improve": [
              "REF",
              4
             ],
             "is_good_enough": [
              "REF",
              3
             ],
             "sqrt_iter": [
              "REF",
              5
             ],
             "x": 9
            },
            "frame_id": 1,
            "func_name": "sqrt",
            "is_highlighted": false,
            "is_parent": true,
            "is_zombie": false,
            "ordered_varnames": [
             "x",
             "average",
             "improve",
             "is_good_enough",
             "sqrt_iter"
            ],
            "parent_frame_id_list": [],
            "unique_hash": "sqrt_f1_p"
           },
           {
            "encoded_locals": {
             "guess": 1
            },
            "frame_id": 2,
            "func_name": "sqrt_iter",
            "is_highlighted": false,
            "is_parent": false,
            "is_zombie": false,
            "ordered_varnames": [
             "guess"
            ],
            "parent_frame_id_list": [
             1
            ],
            "unique_hash": "sqrt_iter_f2"
           },
           {
            "encoded_locals": {
             "guess": 5
            },
            "frame_id": 6,
            "func_name": "sqrt_iter",
            "is_highlighted": false,
            "is_parent": false,
            "is_zombie": false,
            "ordered_varnames": [
             "guess"
            ],
            "parent_frame_id_list": [
             1
            ],
            "unique_hash": "sqrt_iter_f6"
           },
           {
            "encoded_locals": {
             "guess": 3.4
            },
            "frame_id": 10,
            "func_name": "sqrt_iter",
            "is_highlighted": false,
            "is_parent": false,
            "is_zombie": false,
            "ordered_varnames": [
             "guess"
            ],
            "parent_frame_id_list": [
             1
            ],
            "unique_hash": "sqrt_iter_f10"
           },
           {
            "encoded_locals": {
             "guess": 3.0235
            },
            "frame_id": 14,
            "func_name": "sqrt_iter",
            "is_highlighted": false,
            "is_parent": false,
            "is_zombie": false,
            "ordered_varnames": [
             "guess"
            ],
            "parent_frame_id_list": [
             1
            ],
            "unique_hash": "sqrt_iter_f14"
           },
           {
            "encoded_locals": {
             "guess": 3.0001
            },
            "frame_id": 18,
            "func_name": "sqrt_iter",
            "is_highlighted": true,
            "is_parent": false,
            "is_zombie": false,
            "ordered_varnames": [
             "guess"
            ],
            "parent_frame_id_list": [
             1
            ],
            "unique_hash": "sqrt_iter_f18"
           }
          ],
          "stdout": ""
         },
         {
          "event": "step_line",
          "func_name": "sqrt_iter",
          "globals": {
           "sqrt": [
            "REF",
            1
           ]
          },
          "heap": {
           "1": [
            "FUNCTION",
            "sqrt(x)",
            null
           ],
           "2": [
            "FUNCTION",
            "average(a, b)",
            1
           ],
           "3": [
            "FUNCTION",
            "is_good_enough(guess)",
            1
           ],
           "4": [
            "FUNCTION",
            "improve(guess)",
            1
           ],
           "5": [
            "FUNCTION",
            "sqrt_iter(guess)",
            1
           ]
          },
          "line": 15,
          "ordered_globals": [
           "sqrt"
          ],
          "stack_to_render": [
           {
            "encoded_locals": {
             "average": [
              "REF",
              2
             ],
             "improve": [
              "REF",
              4
             ],
             "is_good_enough": [
              "REF",
              3
             ],
             "sqrt_iter": [
              "REF",
              5
             ],
             "x": 9
            },
            "frame_id": 1,
            "func_name": "sqrt",
            "is_highlighted": false,
            "is_parent": true,
            "is_zombie": false,
            "ordered_varnames": [
             "x",
             "average",
             "improve",
             "is_good_enough",
             "sqrt_iter"
            ],
            "parent_frame_id_list": [],
            "unique_hash": "sqrt_f1_p"
           },
           {
            "encoded_locals": {
             "guess": 1
            },
            "frame_id": 2,
            "func_name": "sqrt_iter",
            "is_highlighted": false,
            "is_parent": false,
            "is_zombie": false,
            "ordered_varnames": [
             "guess"
            ],
            "parent_frame_id_list": [
             1
            ],
            "unique_hash": "sqrt_iter_f2"
           },
           {
            "encoded_locals": {
             "guess": 5
            },
            "frame_id": 6,
            "func_name": "sqrt_iter",
            "is_highlighted": false,
            "is_parent": false,
            "is_zombie": false,
            "ordered_varnames": [
             "guess"
            ],
            "parent_frame_id_list": [
             1
            ],
            "unique_hash": "sqrt_iter_f6"
           },
           {
            "encoded_locals": {
             "guess": 3.4
            },
            "frame_id": 10,
            "func_name": "sqrt_iter",
            "is_highlighted": false,
            "is_parent": false,
            "is_zombie": false,
            "ordered_varnames": [
             "guess"
            ],
            "parent_frame_id_list": [
             1
            ],
            "unique_hash": "sqrt_iter_f10"
           },
           {
            "encoded_locals": {
             "guess": 3.0235
            },
            "frame_id": 14,
            "func_name": "sqrt_iter",
            "is_highlighted": false,
            "is_parent": false,
            "is_zombie": false,
            "ordered_varnames": [
             "guess"
            ],
            "parent_frame_id_list": [
             1
            ],
            "unique_hash": "sqrt_iter_f14"
           },
           {
            "encoded_locals": {
             "guess": 3.0001
            },
            "frame_id": 18,
            "func_name": "sqrt_iter",
            "is_highlighted": true,
            "is_parent": false,
            "is_zombie": false,
            "ordered_varnames": [
             "guess"
            ],
            "parent_frame_id_list": [
             1
            ],
            "unique_hash": "sqrt_iter_f18"
           }
          ],
          "stdout": ""
         },
         {
          "event": "call",
          "func_name": "is_good_enough",
          "globals": {
           "sqrt": [
            "REF",
            1
           ]
          },
          "heap": {
           "1": [
            "FUNCTION",
            "sqrt(x)",
            null
           ],
           "2": [
            "FUNCTION",
            "average(a, b)",
            1
           ],
           "3": [
            "FUNCTION",
            "is_good_enough(guess)",
            1
           ],
           "4": [
            "FUNCTION",
            "improve(guess)",
            1
           ],
           "5": [
            "FUNCTION",
            "sqrt_iter(guess)",
            1
           ]
          },
          "line": 8,
          "ordered_globals": [
           "sqrt"
          ],
          "stack_to_render": [
           {
            "encoded_locals": {
             "average": [
              "REF",
              2
             ],
             "improve": [
              "REF",
              4
             ],
             "is_good_enough": [
              "REF",
              3
             ],
             "sqrt_iter": [
              "REF",
              5
             ],
             "x": 9
            },
            "frame_id": 1,
            "func_name": "sqrt",
            "is_highlighted": false,
            "is_parent": true,
            "is_zombie": false,
            "ordered_varnames": [
             "x",
             "average",
             "improve",
             "is_good_enough",
             "sqrt_iter"
            ],
            "parent_frame_id_list": [],
            "unique_hash": "sqrt_f1_p"
           },
           {
            "encoded_locals": {
             "guess": 1
            },
            "frame_id": 2,
            "func_name": "sqrt_iter",
            "is_highlighted": false,
            "is_parent": false,
            "is_zombie": false,
            "ordered_varnames": [
             "guess"
            ],
            "parent_frame_id_list": [
             1
            ],
            "unique_hash": "sqrt_iter_f2"
           },
           {
            "encoded_locals": {
             "guess": 5
            },
            "frame_id": 6,
            "func_name": "sqrt_iter",
            "is_highlighted": false,
            "is_parent": false,
            "is_zombie": false,
            "ordered_varnames": [
             "guess"
            ],
            "parent_frame_id_list": [
             1
            ],
            "unique_hash": "sqrt_iter_f6"
           },
           {
            "encoded_locals": {
             "guess": 3.4
            },
            "frame_id": 10,
            "func_name": "sqrt_iter",
            "is_highlighted": false,
            "is_parent": false,
            "is_zombie": false,
            "ordered_varnames": [
             "guess"
            ],
            "parent_frame_id_list": [
             1
            ],
            "unique_hash": "sqrt_iter_f10"
           },
           {
            "encoded_locals": {
             "guess": 3.0235
            },
            "frame_id": 14,
            "func_name": "sqrt_iter",
            "is_highlighted": false,
            "is_parent": false,
            "is_zombie": false,
            "ordered_varnames": [
             "guess"
            ],
            "parent_frame_id_list": [
             1
            ],
            "unique_hash": "sqrt_iter_f14"
           },
           {
            "encoded_locals": {
             "guess": 3.0001
            },
            "frame_id": 18,
            "func_name": "sqrt_iter",
            "is_highlighted": false,
            "is_parent": false,
            "is_zombie": false,
            "ordered_varnames": [
             "guess"
            ],
            "parent_frame_id_list": [
             1
            ],
            "unique_hash": "sqrt_iter_f18"
           },
           {
            "encoded_locals": {
             "guess": 3.0001
            },
            "frame_id": 19,
            "func_name": "is_good_enough",
            "is_highlighted": true,
            "is_parent": false,
            "is_zombie": false,
            "ordered_varnames": [
             "guess"
            ],
            "parent_frame_id_list": [
             1
            ],
            "unique_hash": "is_good_enough_f19"
           }
          ],
          "stdout": ""
         },
         {
          "event": "step_line",
          "func_name": "is_good_enough",
          "globals": {
           "sqrt": [
            "REF",
            1
           ]
          },
          "heap": {
           "1": [
            "FUNCTION",
            "sqrt(x)",
            null
           ],
           "2": [
            "FUNCTION",
            "average(a, b)",
            1
           ],
           "3": [
            "FUNCTION",
            "is_good_enough(guess)",
            1
           ],
           "4": [
            "FUNCTION",
            "improve(guess)",
            1
           ],
           "5": [
            "FUNCTION",
            "sqrt_iter(guess)",
            1
           ]
          },
          "line": 9,
          "ordered_globals": [
           "sqrt"
          ],
          "stack_to_render": [
           {
            "encoded_locals": {
             "average": [
              "REF",
              2
             ],
             "improve": [
              "REF",
              4
             ],
             "is_good_enough": [
              "REF",
              3
             ],
             "sqrt_iter": [
              "REF",
              5
             ],
             "x": 9
            },
            "frame_id": 1,
            "func_name": "sqrt",
            "is_highlighted": false,
            "is_parent": true,
            "is_zombie": false,
            "ordered_varnames": [
             "x",
             "average",
             "improve",
             "is_good_enough",
             "sqrt_iter"
            ],
            "parent_frame_id_list": [],
            "unique_hash": "sqrt_f1_p"
           },
           {
            "encoded_locals": {
             "guess": 1
            },
            "frame_id": 2,
            "func_name": "sqrt_iter",
            "is_highlighted": false,
            "is_parent": false,
            "is_zombie": false,
            "ordered_varnames": [
             "guess"
            ],
            "parent_frame_id_list": [
             1
            ],
            "unique_hash": "sqrt_iter_f2"
           },
           {
            "encoded_locals": {
             "guess": 5
            },
            "frame_id": 6,
            "func_name": "sqrt_iter",
            "is_highlighted": false,
            "is_parent": false,
            "is_zombie": false,
            "ordered_varnames": [
             "guess"
            ],
            "parent_frame_id_list": [
             1
            ],
            "unique_hash": "sqrt_iter_f6"
           },
           {
            "encoded_locals": {
             "guess": 3.4
            },
            "frame_id": 10,
            "func_name": "sqrt_iter",
            "is_highlighted": false,
            "is_parent": false,
            "is_zombie": false,
            "ordered_varnames": [
             "guess"
            ],
            "parent_frame_id_list": [
             1
            ],
            "unique_hash": "sqrt_iter_f10"
           },
           {
            "encoded_locals": {
             "guess": 3.0235
            },
            "frame_id": 14,
            "func_name": "sqrt_iter",
            "is_highlighted": false,
            "is_parent": false,
            "is_zombie": false,
            "ordered_varnames": [
             "guess"
            ],
            "parent_frame_id_list": [
             1
            ],
            "unique_hash": "sqrt_iter_f14"
           },
           {
            "encoded_locals": {
             "guess": 3.0001
            },
            "frame_id": 18,
            "func_name": "sqrt_iter",
            "is_highlighted": false,
            "is_parent": false,
            "is_zombie": false,
            "ordered_varnames": [
             "guess"
            ],
            "parent_frame_id_list": [
             1
            ],
            "unique_hash": "sqrt_iter_f18"
           },
           {
            "encoded_locals": {
             "guess": 3.0001
            },
            "frame_id": 19,
            "func_name": "is_good_enough",
            "is_highlighted": true,
            "is_parent": false,
            "is_zombie": false,
            "ordered_varnames": [
             "guess"
            ],
            "parent_frame_id_list": [
             1
            ],
            "unique_hash": "is_good_enough_f19"
           }
          ],
          "stdout": ""
         },
         {
          "event": "return",
          "func_name": "is_good_enough",
          "globals": {
           "sqrt": [
            "REF",
            1
           ]
          },
          "heap": {
           "1": [
            "FUNCTION",
            "sqrt(x)",
            null
           ],
           "2": [
            "FUNCTION",
            "average(a, b)",
            1
           ],
           "3": [
            "FUNCTION",
            "is_good_enough(guess)",
            1
           ],
           "4": [
            "FUNCTION",
            "improve(guess)",
            1
           ],
           "5": [
            "FUNCTION",
            "sqrt_iter(guess)",
            1
           ]
          },
          "line": 9,
          "ordered_globals": [
           "sqrt"
          ],
          "stack_to_render": [
           {
            "encoded_locals": {
             "average": [
              "REF",
              2
             ],
             "improve": [
              "REF",
              4
             ],
             "is_good_enough": [
              "REF",
              3
             ],
             "sqrt_iter": [
              "REF",
              5
             ],
             "x": 9
            },
            "frame_id": 1,
            "func_name": "sqrt",
            "is_highlighted": false,
            "is_parent": true,
            "is_zombie": false,
            "ordered_varnames": [
             "x",
             "average",
             "improve",
             "is_good_enough",
             "sqrt_iter"
            ],
            "parent_frame_id_list": [],
            "unique_hash": "sqrt_f1_p"
           },
           {
            "encoded_locals": {
             "guess": 1
            },
            "frame_id": 2,
            "func_name": "sqrt_iter",
            "is_highlighted": false,
            "is_parent": false,
            "is_zombie": false,
            "ordered_varnames": [
             "guess"
            ],
            "parent_frame_id_list": [
             1
            ],
            "unique_hash": "sqrt_iter_f2"
           },
           {
            "encoded_locals": {
             "guess": 5
            },
            "frame_id": 6,
            "func_name": "sqrt_iter",
            "is_highlighted": false,
            "is_parent": false,
            "is_zombie": false,
            "ordered_varnames": [
             "guess"
            ],
            "parent_frame_id_list": [
             1
            ],
            "unique_hash": "sqrt_iter_f6"
           },
           {
            "encoded_locals": {
             "guess": 3.4
            },
            "frame_id": 10,
            "func_name": "sqrt_iter",
            "is_highlighted": false,
            "is_parent": false,
            "is_zombie": false,
            "ordered_varnames": [
             "guess"
            ],
            "parent_frame_id_list": [
             1
            ],
            "unique_hash": "sqrt_iter_f10"
           },
           {
            "encoded_locals": {
             "guess": 3.0235
            },
            "frame_id": 14,
            "func_name": "sqrt_iter",
            "is_highlighted": false,
            "is_parent": false,
            "is_zombie": false,
            "ordered_varnames": [
             "guess"
            ],
            "parent_frame_id_list": [
             1
            ],
            "unique_hash": "sqrt_iter_f14"
           },
           {
            "encoded_locals": {
             "guess": 3.0001
            },
            "frame_id": 18,
            "func_name": "sqrt_iter",
            "is_highlighted": false,
            "is_parent": false,
            "is_zombie": false,
            "ordered_varnames": [
             "guess"
            ],
            "parent_frame_id_list": [
             1
            ],
            "unique_hash": "sqrt_iter_f18"
           },
           {
            "encoded_locals": {
             "__return__": true,
             "guess": 3.0001
            },
            "frame_id": 19,
            "func_name": "is_good_enough",
            "is_highlighted": true,
            "is_parent": false,
            "is_zombie": false,
            "ordered_varnames": [
             "guess",
             "__return__"
            ],
            "parent_frame_id_list": [
             1
            ],
            "unique_hash": "is_good_enough_f19"
           }
          ],
          "stdout": ""
         },
         {
          "event": "step_line",
          "func_name": "sqrt_iter",
          "globals": {
           "sqrt": [
            "REF",
            1
           ]
          },
          "heap": {
           "1": [
            "FUNCTION",
            "sqrt(x)",
            null
           ],
           "2": [
            "FUNCTION",
            "average(a, b)",
            1
           ],
           "3": [
            "FUNCTION",
            "is_good_enough(guess)",
            1
           ],
           "4": [
            "FUNCTION",
            "improve(guess)",
            1
           ],
           "5": [
            "FUNCTION",
            "sqrt_iter(guess)",
            1
           ]
          },
          "line": 16,
          "ordered_globals": [
           "sqrt"
          ],
          "stack_to_render": [
           {
            "encoded_locals": {
             "average": [
              "REF",
              2
             ],
             "improve": [
              "REF",
              4
             ],
             "is_good_enough": [
              "REF",
              3
             ],
             "sqrt_iter": [
              "REF",
              5
             ],
             "x": 9
            },
            "frame_id": 1,
            "func_name": "sqrt",
            "is_highlighted": false,
            "is_parent": true,
            "is_zombie": false,
            "ordered_varnames": [
             "x",
             "average",
             "improve",
             "is_good_enough",
             "sqrt_iter"
            ],
            "parent_frame_id_list": [],
            "unique_hash": "sqrt_f1_p"
           },
           {
            "encoded_locals": {
             "guess": 1
            },
            "frame_id": 2,
            "func_name": "sqrt_iter",
            "is_highlighted": false,
            "is_parent": false,
            "is_zombie": false,
            "ordered_varnames": [
             "guess"
            ],
            "parent_frame_id_list": [
             1
            ],
            "unique_hash": "sqrt_iter_f2"
           },
           {
            "encoded_locals": {
             "guess": 5
            },
            "frame_id": 6,
            "func_name": "sqrt_iter",
            "is_highlighted": false,
            "is_parent": false,
            "is_zombie": false,
            "ordered_varnames": [
             "guess"
            ],
            "parent_frame_id_list": [
             1
            ],
            "unique_hash": "sqrt_iter_f6"
           },
           {
            "encoded_locals": {
             "guess": 3.4
            },
            "frame_id": 10,
            "func_name": "sqrt_iter",
            "is_highlighted": false,
            "is_parent": false,
            "is_zombie": false,
            "ordered_varnames": [
             "guess"
            ],
            "parent_frame_id_list": [
             1
            ],
            "unique_hash": "sqrt_iter_f10"
           },
           {
            "encoded_locals": {
             "guess": 3.0235
            },
            "frame_id": 14,
            "func_name": "sqrt_iter",
            "is_highlighted": false,
            "is_parent": false,
            "is_zombie": false,
            "ordered_varnames": [
             "guess"
            ],
            "parent_frame_id_list": [
             1
            ],
            "unique_hash": "sqrt_iter_f14"
           },
           {
            "encoded_locals": {
             "guess": 3.0001
            },
            "frame_id": 18,
            "func_name": "sqrt_iter",
            "is_highlighted": true,
            "is_parent": false,
            "is_zombie": false,
            "ordered_varnames": [
             "guess"
            ],
            "parent_frame_id_list": [
             1
            ],
            "unique_hash": "sqrt_iter_f18"
           }
          ],
          "stdout": ""
         },
         {
          "event": "return",
          "func_name": "sqrt_iter",
          "globals": {
           "sqrt": [
            "REF",
            1
           ]
          },
          "heap": {
           "1": [
            "FUNCTION",
            "sqrt(x)",
            null
           ],
           "2": [
            "FUNCTION",
            "average(a, b)",
            1
           ],
           "3": [
            "FUNCTION",
            "is_good_enough(guess)",
            1
           ],
           "4": [
            "FUNCTION",
            "improve(guess)",
            1
           ],
           "5": [
            "FUNCTION",
            "sqrt_iter(guess)",
            1
           ]
          },
          "line": 16,
          "ordered_globals": [
           "sqrt"
          ],
          "stack_to_render": [
           {
            "encoded_locals": {
             "average": [
              "REF",
              2
             ],
             "improve": [
              "REF",
              4
             ],
             "is_good_enough": [
              "REF",
              3
             ],
             "sqrt_iter": [
              "REF",
              5
             ],
             "x": 9
            },
            "frame_id": 1,
            "func_name": "sqrt",
            "is_highlighted": false,
            "is_parent": true,
            "is_zombie": false,
            "ordered_varnames": [
             "x",
             "average",
             "improve",
             "is_good_enough",
             "sqrt_iter"
            ],
            "parent_frame_id_list": [],
            "unique_hash": "sqrt_f1_p"
           },
           {
            "encoded_locals": {
             "guess": 1
            },
            "frame_id": 2,
            "func_name": "sqrt_iter",
            "is_highlighted": false,
            "is_parent": false,
            "is_zombie": false,
            "ordered_varnames": [
             "guess"
            ],
            "parent_frame_id_list": [
             1
            ],
            "unique_hash": "sqrt_iter_f2"
           },
           {
            "encoded_locals": {
             "guess": 5
            },
            "frame_id": 6,
            "func_name": "sqrt_iter",
            "is_highlighted": false,
            "is_parent": false,
            "is_zombie": false,
            "ordered_varnames": [
             "guess"
            ],
            "parent_frame_id_list": [
             1
            ],
            "unique_hash": "sqrt_iter_f6"
           },
           {
            "encoded_locals": {
             "guess": 3.4
            },
            "frame_id": 10,
            "func_name": "sqrt_iter",
            "is_highlighted": false,
            "is_parent": false,
            "is_zombie": false,
            "ordered_varnames": [
             "guess"
            ],
            "parent_frame_id_list": [
             1
            ],
            "unique_hash": "sqrt_iter_f10"
           },
           {
            "encoded_locals": {
             "guess": 3.0235
            },
            "frame_id": 14,
            "func_name": "sqrt_iter",
            "is_highlighted": false,
            "is_parent": false,
            "is_zombie": false,
            "ordered_varnames": [
             "guess"
            ],
            "parent_frame_id_list": [
             1
            ],
            "unique_hash": "sqrt_iter_f14"
           },
           {
            "encoded_locals": {
             "__return__": 3.0001,
             "guess": 3.0001
            },
            "frame_id": 18,
            "func_name": "sqrt_iter",
            "is_highlighted": true,
            "is_parent": false,
            "is_zombie": false,
            "ordered_varnames": [
             "guess",
             "__return__"
            ],
            "parent_frame_id_list": [
             1
            ],
            "unique_hash": "sqrt_iter_f18"
           }
          ],
          "stdout": ""
         },
         {
          "event": "return",
          "func_name": "sqrt_iter",
          "globals": {
           "sqrt": [
            "REF",
            1
           ]
          },
          "heap": {
           "1": [
            "FUNCTION",
            "sqrt(x)",
            null
           ],
           "2": [
            "FUNCTION",
            "average(a, b)",
            1
           ],
           "3": [
            "FUNCTION",
            "is_good_enough(guess)",
            1
           ],
           "4": [
            "FUNCTION",
            "improve(guess)",
            1
           ],
           "5": [
            "FUNCTION",
            "sqrt_iter(guess)",
            1
           ]
          },
          "line": 18,
          "ordered_globals": [
           "sqrt"
          ],
          "stack_to_render": [
           {
            "encoded_locals": {
             "average": [
              "REF",
              2
             ],
             "improve": [
              "REF",
              4
             ],
             "is_good_enough": [
              "REF",
              3
             ],
             "sqrt_iter": [
              "REF",
              5
             ],
             "x": 9
            },
            "frame_id": 1,
            "func_name": "sqrt",
            "is_highlighted": false,
            "is_parent": true,
            "is_zombie": false,
            "ordered_varnames": [
             "x",
             "average",
             "improve",
             "is_good_enough",
             "sqrt_iter"
            ],
            "parent_frame_id_list": [],
            "unique_hash": "sqrt_f1_p"
           },
           {
            "encoded_locals": {
             "guess": 1
            },
            "frame_id": 2,
            "func_name": "sqrt_iter",
            "is_highlighted": false,
            "is_parent": false,
            "is_zombie": false,
            "ordered_varnames": [
             "guess"
            ],
            "parent_frame_id_list": [
             1
            ],
            "unique_hash": "sqrt_iter_f2"
           },
           {
            "encoded_locals": {
             "guess": 5
            },
            "frame_id": 6,
            "func_name": "sqrt_iter",
            "is_highlighted": false,
            "is_parent": false,
            "is_zombie": false,
            "ordered_varnames": [
             "guess"
            ],
            "parent_frame_id_list": [
             1
            ],
            "unique_hash": "sqrt_iter_f6"
           },
           {
            "encoded_locals": {
             "guess": 3.4
            },
            "frame_id": 10,
            "func_name": "sqrt_iter",
            "is_highlighted": false,
            "is_parent": false,
            "is_zombie": false,
            "ordered_varnames": [
             "guess"
            ],
            "parent_frame_id_list": [
             1
            ],
            "unique_hash": "sqrt_iter_f10"
           },
           {
            "encoded_locals": {
             "__return__": 3.0001,
             "guess": 3.0235
            },
            "frame_id": 14,
            "func_name": "sqrt_iter",
            "is_highlighted": true,
            "is_parent": false,
            "is_zombie": false,
            "ordered_varnames": [
             "guess",
             "__return__"
            ],
            "parent_frame_id_list": [
             1
            ],
            "unique_hash": "sqrt_iter_f14"
           }
          ],
          "stdout": ""
         },
         {
          "event": "return",
          "func_name": "sqrt_iter",
          "globals": {
           "sqrt": [
            "REF",
            1
           ]
          },
          "heap": {
           "1": [
            "FUNCTION",
            "sqrt(x)",
            null
           ],
           "2": [
            "FUNCTION",
            "average(a, b)",
            1
           ],
           "3": [
            "FUNCTION",
            "is_good_enough(guess)",
            1
           ],
           "4": [
            "FUNCTION",
            "improve(guess)",
            1
           ],
           "5": [
            "FUNCTION",
            "sqrt_iter(guess)",
            1
           ]
          },
          "line": 18,
          "ordered_globals": [
           "sqrt"
          ],
          "stack_to_render": [
           {
            "encoded_locals": {
             "average": [
              "REF",
              2
             ],
             "improve": [
              "REF",
              4
             ],
             "is_good_enough": [
              "REF",
              3
             ],
             "sqrt_iter": [
              "REF",
              5
             ],
             "x": 9
            },
            "frame_id": 1,
            "func_name": "sqrt",
            "is_highlighted": false,
            "is_parent": true,
            "is_zombie": false,
            "ordered_varnames": [
             "x",
             "average",
             "improve",
             "is_good_enough",
             "sqrt_iter"
            ],
            "parent_frame_id_list": [],
            "unique_hash": "sqrt_f1_p"
           },
           {
            "encoded_locals": {
             "guess": 1
            },
            "frame_id": 2,
            "func_name": "sqrt_iter",
            "is_highlighted": false,
            "is_parent": false,
            "is_zombie": false,
            "ordered_varnames": [
             "guess"
            ],
            "parent_frame_id_list": [
             1
            ],
            "unique_hash": "sqrt_iter_f2"
           },
           {
            "encoded_locals": {
             "guess": 5
            },
            "frame_id": 6,
            "func_name": "sqrt_iter",
            "is_highlighted": false,
            "is_parent": false,
            "is_zombie": false,
            "ordered_varnames": [
             "guess"
            ],
            "parent_frame_id_list": [
             1
            ],
            "unique_hash": "sqrt_iter_f6"
           },
           {
            "encoded_locals": {
             "__return__": 3.0001,
             "guess": 3.4
            },
            "frame_id": 10,
            "func_name": "sqrt_iter",
            "is_highlighted": true,
            "is_parent": false,
            "is_zombie": false,
            "ordered_varnames": [
             "guess",
             "__return__"
            ],
            "parent_frame_id_list": [
             1
            ],
            "unique_hash": "sqrt_iter_f10"
           }
          ],
          "stdout": ""
         },
         {
          "event": "return",
          "func_name": "sqrt_iter",
          "globals": {
           "sqrt": [
            "REF",
            1
           ]
          },
          "heap": {
           "1": [
            "FUNCTION",
            "sqrt(x)",
            null
           ],
           "2": [
            "FUNCTION",
            "average(a, b)",
            1
           ],
           "3": [
            "FUNCTION",
            "is_good_enough(guess)",
            1
           ],
           "4": [
            "FUNCTION",
            "improve(guess)",
            1
           ],
           "5": [
            "FUNCTION",
            "sqrt_iter(guess)",
            1
           ]
          },
          "line": 18,
          "ordered_globals": [
           "sqrt"
          ],
          "stack_to_render": [
           {
            "encoded_locals": {
             "average": [
              "REF",
              2
             ],
             "improve": [
              "REF",
              4
             ],
             "is_good_enough": [
              "REF",
              3
             ],
             "sqrt_iter": [
              "REF",
              5
             ],
             "x": 9
            },
            "frame_id": 1,
            "func_name": "sqrt",
            "is_highlighted": false,
            "is_parent": true,
            "is_zombie": false,
            "ordered_varnames": [
             "x",
             "average",
             "improve",
             "is_good_enough",
             "sqrt_iter"
            ],
            "parent_frame_id_list": [],
            "unique_hash": "sqrt_f1_p"
           },
           {
            "encoded_locals": {
             "guess": 1
            },
            "frame_id": 2,
            "func_name": "sqrt_iter",
            "is_highlighted": false,
            "is_parent": false,
            "is_zombie": false,
            "ordered_varnames": [
             "guess"
            ],
            "parent_frame_id_list": [
             1
            ],
            "unique_hash": "sqrt_iter_f2"
           },
           {
            "encoded_locals": {
             "__return__": 3.0001,
             "guess": 5
            },
            "frame_id": 6,
            "func_name": "sqrt_iter",
            "is_highlighted": true,
            "is_parent": false,
            "is_zombie": false,
            "ordered_varnames": [
             "guess",
             "__return__"
            ],
            "parent_frame_id_list": [
             1
            ],
            "unique_hash": "sqrt_iter_f6"
           }
          ],
          "stdout": ""
         },
         {
          "event": "return",
          "func_name": "sqrt_iter",
          "globals": {
           "sqrt": [
            "REF",
            1
           ]
          },
          "heap": {
           "1": [
            "FUNCTION",
            "sqrt(x)",
            null
           ],
           "2": [
            "FUNCTION",
            "average(a, b)",
            1
           ],
           "3": [
            "FUNCTION",
            "is_good_enough(guess)",
            1
           ],
           "4": [
            "FUNCTION",
            "improve(guess)",
            1
           ],
           "5": [
            "FUNCTION",
            "sqrt_iter(guess)",
            1
           ]
          },
          "line": 18,
          "ordered_globals": [
           "sqrt"
          ],
          "stack_to_render": [
           {
            "encoded_locals": {
             "average": [
              "REF",
              2
             ],
             "improve": [
              "REF",
              4
             ],
             "is_good_enough": [
              "REF",
              3
             ],
             "sqrt_iter": [
              "REF",
              5
             ],
             "x": 9
            },
            "frame_id": 1,
            "func_name": "sqrt",
            "is_highlighted": false,
            "is_parent": true,
            "is_zombie": false,
            "ordered_varnames": [
             "x",
             "average",
             "improve",
             "is_good_enough",
             "sqrt_iter"
            ],
            "parent_frame_id_list": [],
            "unique_hash": "sqrt_f1_p"
           },
           {
            "encoded_locals": {
             "__return__": 3.0001,
             "guess": 1
            },
            "frame_id": 2,
            "func_name": "sqrt_iter",
            "is_highlighted": true,
            "is_parent": false,
            "is_zombie": false,
            "ordered_varnames": [
             "guess",
             "__return__"
            ],
            "parent_frame_id_list": [
             1
            ],
            "unique_hash": "sqrt_iter_f2"
           }
          ],
          "stdout": ""
         },
         {
          "event": "return",
          "func_name": "sqrt",
          "globals": {
           "sqrt": [
            "REF",
            1
           ]
          },
          "heap": {
           "1": [
            "FUNCTION",
            "sqrt(x)",
            null
           ],
           "2": [
            "FUNCTION",
            "average(a, b)",
            1
           ],
           "3": [
            "FUNCTION",
            "is_good_enough(guess)",
            1
           ],
           "4": [
            "FUNCTION",
            "improve(guess)",
            1
           ],
           "5": [
            "FUNCTION",
            "sqrt_iter(guess)",
            1
           ]
          },
          "line": 20,
          "ordered_globals": [
           "sqrt"
          ],
          "stack_to_render": [
           {
            "encoded_locals": {
             "__return__": 3.0001,
             "average": [
              "REF",
              2
             ],
             "improve": [
              "REF",
              4
             ],
             "is_good_enough": [
              "REF",
              3
             ],
             "sqrt_iter": [
              "REF",
              5
             ],
             "x": 9
            },
            "frame_id": 1,
            "func_name": "sqrt",
            "is_highlighted": true,
            "is_parent": true,
            "is_zombie": false,
            "ordered_varnames": [
             "x",
             "average",
             "improve",
             "is_good_enough",
             "sqrt_iter",
             "__return__"
            ],
            "parent_frame_id_list": [],
            "unique_hash": "sqrt_f1_p"
           }
          ],
          "stdout": ""
         },
         {
          "event": "return",
          "func_name": "<module>",
          "globals": {
           "ans": 3.0001,
           "sqrt": [
            "REF",
            1
           ]
          },
          "heap": {
           "1": [
            "FUNCTION",
            "sqrt(x)",
            null
           ],
           "2": [
            "FUNCTION",
            "average(a, b)",
            1
           ],
           "3": [
            "FUNCTION",
            "is_good_enough(guess)",
            1
           ],
           "4": [
            "FUNCTION",
            "improve(guess)",
            1
           ],
           "5": [
            "FUNCTION",
            "sqrt_iter(guess)",
            1
           ]
          },
          "line": 23,
          "ordered_globals": [
           "sqrt",
           "ans"
          ],
          "stack_to_render": [
           {
            "encoded_locals": {
             "__return__": 3.0001,
             "average": [
              "REF",
              2
             ],
             "improve": [
              "REF",
              4
             ],
             "is_good_enough": [
              "REF",
              3
             ],
             "sqrt_iter": [
              "REF",
              5
             ],
             "x": 9
            },
            "frame_id": 1,
            "func_name": "sqrt",
            "is_highlighted": false,
            "is_parent": true,
            "is_zombie": true,
            "ordered_varnames": [
             "x",
             "average",
             "improve",
             "is_good_enough",
             "sqrt_iter",
             "__return__"
            ],
            "parent_frame_id_list": [],
            "unique_hash": "sqrt_f1_p_z"
           }
          ],
          "stdout": ""
         }
        ]
       },
       "output_type": "display_data"
      }
     ],
     "prompt_number": 6
    },
    {
     "cell_type": "heading",
     "level": 2,
     "metadata": {},
     "source": [
      "List comprehension"
     ]
    },
    {
     "cell_type": "code",
     "collapsed": false,
     "input": [
      "%%pytutor\n",
      "ppl = ['Alice', 'Bob', 'Carol', 'Doug']\n",
      "excited_ppl = [e + '!!' for e in ppl]\n",
      "ppl_len = [len(x) for x in ppl]"
     ],
     "language": "python",
     "metadata": {},
     "outputs": [
      {
       "json": {
        "code": "ppl = ['Alice', 'Bob', 'Carol', 'Doug']\nexcited_ppl = [e + '!!' for e in ppl]\nppl_len = [len(x) for x in ppl]",
        "handler": "pytutor",
        "trace": [
         {
          "event": "step_line",
          "func_name": "<module>",
          "globals": {},
          "heap": {},
          "line": 1,
          "ordered_globals": [],
          "stack_to_render": [],
          "stdout": ""
         },
         {
          "event": "step_line",
          "func_name": "<module>",
          "globals": {
           "ppl": [
            "REF",
            1
           ]
          },
          "heap": {
           "1": [
            "LIST",
            "Alice",
            "Bob",
            "Carol",
            "Doug"
           ]
          },
          "line": 2,
          "ordered_globals": [
           "ppl"
          ],
          "stack_to_render": [],
          "stdout": ""
         },
         {
          "event": "step_line",
          "func_name": "<module>",
          "globals": {
           "e": "Alice",
           "ppl": [
            "REF",
            1
           ]
          },
          "heap": {
           "1": [
            "LIST",
            "Alice",
            "Bob",
            "Carol",
            "Doug"
           ]
          },
          "line": 2,
          "ordered_globals": [
           "ppl",
           "e"
          ],
          "stack_to_render": [],
          "stdout": ""
         },
         {
          "event": "step_line",
          "func_name": "<module>",
          "globals": {
           "e": "Bob",
           "ppl": [
            "REF",
            1
           ]
          },
          "heap": {
           "1": [
            "LIST",
            "Alice",
            "Bob",
            "Carol",
            "Doug"
           ]
          },
          "line": 2,
          "ordered_globals": [
           "ppl",
           "e"
          ],
          "stack_to_render": [],
          "stdout": ""
         },
         {
          "event": "step_line",
          "func_name": "<module>",
          "globals": {
           "e": "Carol",
           "ppl": [
            "REF",
            1
           ]
          },
          "heap": {
           "1": [
            "LIST",
            "Alice",
            "Bob",
            "Carol",
            "Doug"
           ]
          },
          "line": 2,
          "ordered_globals": [
           "ppl",
           "e"
          ],
          "stack_to_render": [],
          "stdout": ""
         },
         {
          "event": "step_line",
          "func_name": "<module>",
          "globals": {
           "e": "Doug",
           "ppl": [
            "REF",
            1
           ]
          },
          "heap": {
           "1": [
            "LIST",
            "Alice",
            "Bob",
            "Carol",
            "Doug"
           ]
          },
          "line": 2,
          "ordered_globals": [
           "ppl",
           "e"
          ],
          "stack_to_render": [],
          "stdout": ""
         },
         {
          "event": "step_line",
          "func_name": "<module>",
          "globals": {
           "e": "Doug",
           "excited_ppl": [
            "REF",
            2
           ],
           "ppl": [
            "REF",
            1
           ]
          },
          "heap": {
           "1": [
            "LIST",
            "Alice",
            "Bob",
            "Carol",
            "Doug"
           ],
           "2": [
            "LIST",
            "Alice!!",
            "Bob!!",
            "Carol!!",
            "Doug!!"
           ]
          },
          "line": 3,
          "ordered_globals": [
           "ppl",
           "e",
           "excited_ppl"
          ],
          "stack_to_render": [],
          "stdout": ""
         },
         {
          "event": "step_line",
          "func_name": "<module>",
          "globals": {
           "e": "Doug",
           "excited_ppl": [
            "REF",
            2
           ],
           "ppl": [
            "REF",
            1
           ],
           "x": "Alice"
          },
          "heap": {
           "1": [
            "LIST",
            "Alice",
            "Bob",
            "Carol",
            "Doug"
           ],
           "2": [
            "LIST",
            "Alice!!",
            "Bob!!",
            "Carol!!",
            "Doug!!"
           ]
          },
          "line": 3,
          "ordered_globals": [
           "ppl",
           "e",
           "excited_ppl",
           "x"
          ],
          "stack_to_render": [],
          "stdout": ""
         },
         {
          "event": "step_line",
          "func_name": "<module>",
          "globals": {
           "e": "Doug",
           "excited_ppl": [
            "REF",
            2
           ],
           "ppl": [
            "REF",
            1
           ],
           "x": "Bob"
          },
          "heap": {
           "1": [
            "LIST",
            "Alice",
            "Bob",
            "Carol",
            "Doug"
           ],
           "2": [
            "LIST",
            "Alice!!",
            "Bob!!",
            "Carol!!",
            "Doug!!"
           ]
          },
          "line": 3,
          "ordered_globals": [
           "ppl",
           "e",
           "excited_ppl",
           "x"
          ],
          "stack_to_render": [],
          "stdout": ""
         },
         {
          "event": "step_line",
          "func_name": "<module>",
          "globals": {
           "e": "Doug",
           "excited_ppl": [
            "REF",
            2
           ],
           "ppl": [
            "REF",
            1
           ],
           "x": "Carol"
          },
          "heap": {
           "1": [
            "LIST",
            "Alice",
            "Bob",
            "Carol",
            "Doug"
           ],
           "2": [
            "LIST",
            "Alice!!",
            "Bob!!",
            "Carol!!",
            "Doug!!"
           ]
          },
          "line": 3,
          "ordered_globals": [
           "ppl",
           "e",
           "excited_ppl",
           "x"
          ],
          "stack_to_render": [],
          "stdout": ""
         },
         {
          "event": "step_line",
          "func_name": "<module>",
          "globals": {
           "e": "Doug",
           "excited_ppl": [
            "REF",
            2
           ],
           "ppl": [
            "REF",
            1
           ],
           "x": "Doug"
          },
          "heap": {
           "1": [
            "LIST",
            "Alice",
            "Bob",
            "Carol",
            "Doug"
           ],
           "2": [
            "LIST",
            "Alice!!",
            "Bob!!",
            "Carol!!",
            "Doug!!"
           ]
          },
          "line": 3,
          "ordered_globals": [
           "ppl",
           "e",
           "excited_ppl",
           "x"
          ],
          "stack_to_render": [],
          "stdout": ""
         },
         {
          "event": "return",
          "func_name": "<module>",
          "globals": {
           "e": "Doug",
           "excited_ppl": [
            "REF",
            2
           ],
           "ppl": [
            "REF",
            1
           ],
           "ppl_len": [
            "REF",
            3
           ],
           "x": "Doug"
          },
          "heap": {
           "1": [
            "LIST",
            "Alice",
            "Bob",
            "Carol",
            "Doug"
           ],
           "2": [
            "LIST",
            "Alice!!",
            "Bob!!",
            "Carol!!",
            "Doug!!"
           ],
           "3": [
            "LIST",
            5,
            3,
            5,
            4
           ]
          },
          "line": 3,
          "ordered_globals": [
           "ppl",
           "e",
           "excited_ppl",
           "x",
           "ppl_len"
          ],
          "stack_to_render": [],
          "stdout": ""
         }
        ]
       },
       "output_type": "display_data"
      }
     ],
     "prompt_number": 7
    },
    {
     "cell_type": "heading",
     "level": 2,
     "metadata": {},
     "source": [
      "Closure"
     ]
    },
    {
     "cell_type": "code",
     "collapsed": false,
     "input": [
      "%%pytutor\n",
      "def f(x):\n",
      "    def g(y, z):\n",
      "        if z == 0:\n",
      "            return y\n",
      "        return g(x+y+z, z-1)\n",
      "    return lambda: g(0, x)\n",
      "\n",
      "foo = f(3)\n",
      "bar = f(4)\n",
      "baz = foo() + bar()"
     ],
     "language": "python",
     "metadata": {},
     "outputs": [
      {
       "json": {
        "code": "def f(x):\n    def g(y, z):\n        if z == 0:\n            return y\n        return g(x+y+z, z-1)\n    return lambda: g(0, x)\n\nfoo = f(3)\nbar = f(4)\nbaz = foo() + bar()",
        "handler": "pytutor",
        "trace": [
         {
          "event": "step_line",
          "func_name": "<module>",
          "globals": {},
          "heap": {},
          "line": 1,
          "ordered_globals": [],
          "stack_to_render": [],
          "stdout": ""
         },
         {
          "event": "step_line",
          "func_name": "<module>",
          "globals": {
           "f": [
            "REF",
            1
           ]
          },
          "heap": {
           "1": [
            "FUNCTION",
            "f(x)",
            null
           ]
          },
          "line": 8,
          "ordered_globals": [
           "f"
          ],
          "stack_to_render": [],
          "stdout": ""
         },
         {
          "event": "call",
          "func_name": "f",
          "globals": {
           "f": [
            "REF",
            1
           ]
          },
          "heap": {
           "1": [
            "FUNCTION",
            "f(x)",
            null
           ]
          },
          "line": 1,
          "ordered_globals": [
           "f"
          ],
          "stack_to_render": [
           {
            "encoded_locals": {
             "x": 3
            },
            "frame_id": 1,
            "func_name": "f",
            "is_highlighted": true,
            "is_parent": false,
            "is_zombie": false,
            "ordered_varnames": [
             "x"
            ],
            "parent_frame_id_list": [],
            "unique_hash": "f_f1"
           }
          ],
          "stdout": ""
         },
         {
          "event": "step_line",
          "func_name": "f",
          "globals": {
           "f": [
            "REF",
            1
           ]
          },
          "heap": {
           "1": [
            "FUNCTION",
            "f(x)",
            null
           ]
          },
          "line": 2,
          "ordered_globals": [
           "f"
          ],
          "stack_to_render": [
           {
            "encoded_locals": {
             "x": 3
            },
            "frame_id": 1,
            "func_name": "f",
            "is_highlighted": true,
            "is_parent": false,
            "is_zombie": false,
            "ordered_varnames": [
             "x"
            ],
            "parent_frame_id_list": [],
            "unique_hash": "f_f1"
           }
          ],
          "stdout": ""
         },
         {
          "event": "step_line",
          "func_name": "f",
          "globals": {
           "f": [
            "REF",
            1
           ]
          },
          "heap": {
           "1": [
            "FUNCTION",
            "f(x)",
            null
           ],
           "2": [
            "FUNCTION",
            "g(y, z)",
            1
           ]
          },
          "line": 6,
          "ordered_globals": [
           "f"
          ],
          "stack_to_render": [
           {
            "encoded_locals": {
             "g": [
              "REF",
              2
             ],
             "x": 3
            },
            "frame_id": 1,
            "func_name": "f",
            "is_highlighted": true,
            "is_parent": true,
            "is_zombie": false,
            "ordered_varnames": [
             "x",
             "g"
            ],
            "parent_frame_id_list": [],
            "unique_hash": "f_f1_p"
           }
          ],
          "stdout": ""
         },
         {
          "event": "return",
          "func_name": "f",
          "globals": {
           "f": [
            "REF",
            1
           ]
          },
          "heap": {
           "1": [
            "FUNCTION",
            "f(x)",
            null
           ],
           "2": [
            "FUNCTION",
            "g(y, z)",
            1
           ],
           "3": [
            "FUNCTION",
            "<lambda>()",
            1
           ]
          },
          "line": 6,
          "ordered_globals": [
           "f"
          ],
          "stack_to_render": [
           {
            "encoded_locals": {
             "__return__": [
              "REF",
              3
             ],
             "g": [
              "REF",
              2
             ],
             "x": 3
            },
            "frame_id": 1,
            "func_name": "f",
            "is_highlighted": true,
            "is_parent": true,
            "is_zombie": false,
            "ordered_varnames": [
             "x",
             "g",
             "__return__"
            ],
            "parent_frame_id_list": [],
            "unique_hash": "f_f1_p"
           }
          ],
          "stdout": ""
         },
         {
          "event": "step_line",
          "func_name": "<module>",
          "globals": {
           "f": [
            "REF",
            1
           ],
           "foo": [
            "REF",
            3
           ]
          },
          "heap": {
           "1": [
            "FUNCTION",
            "f(x)",
            null
           ],
           "2": [
            "FUNCTION",
            "g(y, z)",
            1
           ],
           "3": [
            "FUNCTION",
            "<lambda>()",
            1
           ]
          },
          "line": 9,
          "ordered_globals": [
           "f",
           "foo"
          ],
          "stack_to_render": [
           {
            "encoded_locals": {
             "__return__": [
              "REF",
              3
             ],
             "g": [
              "REF",
              2
             ],
             "x": 3
            },
            "frame_id": 1,
            "func_name": "f",
            "is_highlighted": false,
            "is_parent": true,
            "is_zombie": true,
            "ordered_varnames": [
             "x",
             "g",
             "__return__"
            ],
            "parent_frame_id_list": [],
            "unique_hash": "f_f1_p_z"
           }
          ],
          "stdout": ""
         },
         {
          "event": "call",
          "func_name": "f",
          "globals": {
           "f": [
            "REF",
            1
           ],
           "foo": [
            "REF",
            3
           ]
          },
          "heap": {
           "1": [
            "FUNCTION",
            "f(x)",
            null
           ],
           "2": [
            "FUNCTION",
            "g(y, z)",
            1
           ],
           "3": [
            "FUNCTION",
            "<lambda>()",
            1
           ]
          },
          "line": 1,
          "ordered_globals": [
           "f",
           "foo"
          ],
          "stack_to_render": [
           {
            "encoded_locals": {
             "__return__": [
              "REF",
              3
             ],
             "g": [
              "REF",
              2
             ],
             "x": 3
            },
            "frame_id": 1,
            "func_name": "f",
            "is_highlighted": false,
            "is_parent": true,
            "is_zombie": true,
            "ordered_varnames": [
             "x",
             "g",
             "__return__"
            ],
            "parent_frame_id_list": [],
            "unique_hash": "f_f1_p_z"
           },
           {
            "encoded_locals": {
             "x": 4
            },
            "frame_id": 2,
            "func_name": "f",
            "is_highlighted": true,
            "is_parent": false,
            "is_zombie": false,
            "ordered_varnames": [
             "x"
            ],
            "parent_frame_id_list": [],
            "unique_hash": "f_f2"
           }
          ],
          "stdout": ""
         },
         {
          "event": "step_line",
          "func_name": "f",
          "globals": {
           "f": [
            "REF",
            1
           ],
           "foo": [
            "REF",
            3
           ]
          },
          "heap": {
           "1": [
            "FUNCTION",
            "f(x)",
            null
           ],
           "2": [
            "FUNCTION",
            "g(y, z)",
            1
           ],
           "3": [
            "FUNCTION",
            "<lambda>()",
            1
           ]
          },
          "line": 2,
          "ordered_globals": [
           "f",
           "foo"
          ],
          "stack_to_render": [
           {
            "encoded_locals": {
             "__return__": [
              "REF",
              3
             ],
             "g": [
              "REF",
              2
             ],
             "x": 3
            },
            "frame_id": 1,
            "func_name": "f",
            "is_highlighted": false,
            "is_parent": true,
            "is_zombie": true,
            "ordered_varnames": [
             "x",
             "g",
             "__return__"
            ],
            "parent_frame_id_list": [],
            "unique_hash": "f_f1_p_z"
           },
           {
            "encoded_locals": {
             "x": 4
            },
            "frame_id": 2,
            "func_name": "f",
            "is_highlighted": true,
            "is_parent": false,
            "is_zombie": false,
            "ordered_varnames": [
             "x"
            ],
            "parent_frame_id_list": [],
            "unique_hash": "f_f2"
           }
          ],
          "stdout": ""
         },
         {
          "event": "step_line",
          "func_name": "f",
          "globals": {
           "f": [
            "REF",
            1
           ],
           "foo": [
            "REF",
            3
           ]
          },
          "heap": {
           "1": [
            "FUNCTION",
            "f(x)",
            null
           ],
           "2": [
            "FUNCTION",
            "g(y, z)",
            1
           ],
           "3": [
            "FUNCTION",
            "<lambda>()",
            1
           ],
           "4": [
            "FUNCTION",
            "g(y, z)",
            2
           ]
          },
          "line": 6,
          "ordered_globals": [
           "f",
           "foo"
          ],
          "stack_to_render": [
           {
            "encoded_locals": {
             "__return__": [
              "REF",
              3
             ],
             "g": [
              "REF",
              2
             ],
             "x": 3
            },
            "frame_id": 1,
            "func_name": "f",
            "is_highlighted": false,
            "is_parent": true,
            "is_zombie": true,
            "ordered_varnames": [
             "x",
             "g",
             "__return__"
            ],
            "parent_frame_id_list": [],
            "unique_hash": "f_f1_p_z"
           },
           {
            "encoded_locals": {
             "g": [
              "REF",
              4
             ],
             "x": 4
            },
            "frame_id": 2,
            "func_name": "f",
            "is_highlighted": true,
            "is_parent": true,
            "is_zombie": false,
            "ordered_varnames": [
             "x",
             "g"
            ],
            "parent_frame_id_list": [],
            "unique_hash": "f_f2_p"
           }
          ],
          "stdout": ""
         },
         {
          "event": "return",
          "func_name": "f",
          "globals": {
           "f": [
            "REF",
            1
           ],
           "foo": [
            "REF",
            3
           ]
          },
          "heap": {
           "1": [
            "FUNCTION",
            "f(x)",
            null
           ],
           "2": [
            "FUNCTION",
            "g(y, z)",
            1
           ],
           "3": [
            "FUNCTION",
            "<lambda>()",
            1
           ],
           "4": [
            "FUNCTION",
            "g(y, z)",
            2
           ],
           "5": [
            "FUNCTION",
            "<lambda>()",
            2
           ]
          },
          "line": 6,
          "ordered_globals": [
           "f",
           "foo"
          ],
          "stack_to_render": [
           {
            "encoded_locals": {
             "__return__": [
              "REF",
              3
             ],
             "g": [
              "REF",
              2
             ],
             "x": 3
            },
            "frame_id": 1,
            "func_name": "f",
            "is_highlighted": false,
            "is_parent": true,
            "is_zombie": true,
            "ordered_varnames": [
             "x",
             "g",
             "__return__"
            ],
            "parent_frame_id_list": [],
            "unique_hash": "f_f1_p_z"
           },
           {
            "encoded_locals": {
             "__return__": [
              "REF",
              5
             ],
             "g": [
              "REF",
              4
             ],
             "x": 4
            },
            "frame_id": 2,
            "func_name": "f",
            "is_highlighted": true,
            "is_parent": true,
            "is_zombie": false,
            "ordered_varnames": [
             "x",
             "g",
             "__return__"
            ],
            "parent_frame_id_list": [],
            "unique_hash": "f_f2_p"
           }
          ],
          "stdout": ""
         },
         {
          "event": "step_line",
          "func_name": "<module>",
          "globals": {
           "bar": [
            "REF",
            5
           ],
           "f": [
            "REF",
            1
           ],
           "foo": [
            "REF",
            3
           ]
          },
          "heap": {
           "1": [
            "FUNCTION",
            "f(x)",
            null
           ],
           "2": [
            "FUNCTION",
            "g(y, z)",
            1
           ],
           "3": [
            "FUNCTION",
            "<lambda>()",
            1
           ],
           "4": [
            "FUNCTION",
            "g(y, z)",
            2
           ],
           "5": [
            "FUNCTION",
            "<lambda>()",
            2
           ]
          },
          "line": 10,
          "ordered_globals": [
           "f",
           "foo",
           "bar"
          ],
          "stack_to_render": [
           {
            "encoded_locals": {
             "__return__": [
              "REF",
              3
             ],
             "g": [
              "REF",
              2
             ],
             "x": 3
            },
            "frame_id": 1,
            "func_name": "f",
            "is_highlighted": false,
            "is_parent": true,
            "is_zombie": true,
            "ordered_varnames": [
             "x",
             "g",
             "__return__"
            ],
            "parent_frame_id_list": [],
            "unique_hash": "f_f1_p_z"
           },
           {
            "encoded_locals": {
             "__return__": [
              "REF",
              5
             ],
             "g": [
              "REF",
              4
             ],
             "x": 4
            },
            "frame_id": 2,
            "func_name": "f",
            "is_highlighted": false,
            "is_parent": true,
            "is_zombie": true,
            "ordered_varnames": [
             "x",
             "g",
             "__return__"
            ],
            "parent_frame_id_list": [],
            "unique_hash": "f_f2_p_z"
           }
          ],
          "stdout": ""
         },
         {
          "event": "call",
          "func_name": "<lambda>",
          "globals": {
           "bar": [
            "REF",
            5
           ],
           "f": [
            "REF",
            1
           ],
           "foo": [
            "REF",
            3
           ]
          },
          "heap": {
           "1": [
            "FUNCTION",
            "f(x)",
            null
           ],
           "2": [
            "FUNCTION",
            "g(y, z)",
            1
           ],
           "3": [
            "FUNCTION",
            "<lambda>()",
            1
           ],
           "4": [
            "FUNCTION",
            "g(y, z)",
            2
           ],
           "5": [
            "FUNCTION",
            "<lambda>()",
            2
           ]
          },
          "line": 6,
          "ordered_globals": [
           "f",
           "foo",
           "bar"
          ],
          "stack_to_render": [
           {
            "encoded_locals": {
             "__return__": [
              "REF",
              3
             ],
             "g": [
              "REF",
              2
             ],
             "x": 3
            },
            "frame_id": 1,
            "func_name": "f",
            "is_highlighted": false,
            "is_parent": true,
            "is_zombie": true,
            "ordered_varnames": [
             "x",
             "g",
             "__return__"
            ],
            "parent_frame_id_list": [],
            "unique_hash": "f_f1_p_z"
           },
           {
            "encoded_locals": {
             "__return__": [
              "REF",
              5
             ],
             "g": [
              "REF",
              4
             ],
             "x": 4
            },
            "frame_id": 2,
            "func_name": "f",
            "is_highlighted": false,
            "is_parent": true,
            "is_zombie": true,
            "ordered_varnames": [
             "x",
             "g",
             "__return__"
            ],
            "parent_frame_id_list": [],
            "unique_hash": "f_f2_p_z"
           },
           {
            "encoded_locals": {},
            "frame_id": 3,
            "func_name": "<lambda>",
            "is_highlighted": true,
            "is_parent": false,
            "is_zombie": false,
            "ordered_varnames": [],
            "parent_frame_id_list": [
             1
            ],
            "unique_hash": "<lambda>_f3"
           }
          ],
          "stdout": ""
         },
         {
          "event": "step_line",
          "func_name": "<lambda>",
          "globals": {
           "bar": [
            "REF",
            5
           ],
           "f": [
            "REF",
            1
           ],
           "foo": [
            "REF",
            3
           ]
          },
          "heap": {
           "1": [
            "FUNCTION",
            "f(x)",
            null
           ],
           "2": [
            "FUNCTION",
            "g(y, z)",
            1
           ],
           "3": [
            "FUNCTION",
            "<lambda>()",
            1
           ],
           "4": [
            "FUNCTION",
            "g(y, z)",
            2
           ],
           "5": [
            "FUNCTION",
            "<lambda>()",
            2
           ]
          },
          "line": 6,
          "ordered_globals": [
           "f",
           "foo",
           "bar"
          ],
          "stack_to_render": [
           {
            "encoded_locals": {
             "__return__": [
              "REF",
              3
             ],
             "g": [
              "REF",
              2
             ],
             "x": 3
            },
            "frame_id": 1,
            "func_name": "f",
            "is_highlighted": false,
            "is_parent": true,
            "is_zombie": true,
            "ordered_varnames": [
             "x",
             "g",
             "__return__"
            ],
            "parent_frame_id_list": [],
            "unique_hash": "f_f1_p_z"
           },
           {
            "encoded_locals": {
             "__return__": [
              "REF",
              5
             ],
             "g": [
              "REF",
              4
             ],
             "x": 4
            },
            "frame_id": 2,
            "func_name": "f",
            "is_highlighted": false,
            "is_parent": true,
            "is_zombie": true,
            "ordered_varnames": [
             "x",
             "g",
             "__return__"
            ],
            "parent_frame_id_list": [],
            "unique_hash": "f_f2_p_z"
           },
           {
            "encoded_locals": {},
            "frame_id": 3,
            "func_name": "<lambda>",
            "is_highlighted": true,
            "is_parent": false,
            "is_zombie": false,
            "ordered_varnames": [],
            "parent_frame_id_list": [
             1
            ],
            "unique_hash": "<lambda>_f3"
           }
          ],
          "stdout": ""
         },
         {
          "event": "call",
          "func_name": "g",
          "globals": {
           "bar": [
            "REF",
            5
           ],
           "f": [
            "REF",
            1
           ],
           "foo": [
            "REF",
            3
           ]
          },
          "heap": {
           "1": [
            "FUNCTION",
            "f(x)",
            null
           ],
           "2": [
            "FUNCTION",
            "g(y, z)",
            1
           ],
           "3": [
            "FUNCTION",
            "<lambda>()",
            1
           ],
           "4": [
            "FUNCTION",
            "g(y, z)",
            2
           ],
           "5": [
            "FUNCTION",
            "<lambda>()",
            2
           ]
          },
          "line": 2,
          "ordered_globals": [
           "f",
           "foo",
           "bar"
          ],
          "stack_to_render": [
           {
            "encoded_locals": {
             "__return__": [
              "REF",
              3
             ],
             "g": [
              "REF",
              2
             ],
             "x": 3
            },
            "frame_id": 1,
            "func_name": "f",
            "is_highlighted": false,
            "is_parent": true,
            "is_zombie": true,
            "ordered_varnames": [
             "x",
             "g",
             "__return__"
            ],
            "parent_frame_id_list": [],
            "unique_hash": "f_f1_p_z"
           },
           {
            "encoded_locals": {
             "__return__": [
              "REF",
              5
             ],
             "g": [
              "REF",
              4
             ],
             "x": 4
            },
            "frame_id": 2,
            "func_name": "f",
            "is_highlighted": false,
            "is_parent": true,
            "is_zombie": true,
            "ordered_varnames": [
             "x",
             "g",
             "__return__"
            ],
            "parent_frame_id_list": [],
            "unique_hash": "f_f2_p_z"
           },
           {
            "encoded_locals": {},
            "frame_id": 3,
            "func_name": "<lambda>",
            "is_highlighted": false,
            "is_parent": false,
            "is_zombie": false,
            "ordered_varnames": [],
            "parent_frame_id_list": [
             1
            ],
            "unique_hash": "<lambda>_f3"
           },
           {
            "encoded_locals": {
             "y": 0,
             "z": 3
            },
            "frame_id": 4,
            "func_name": "g",
            "is_highlighted": true,
            "is_parent": false,
            "is_zombie": false,
            "ordered_varnames": [
             "y",
             "z"
            ],
            "parent_frame_id_list": [
             1
            ],
            "unique_hash": "g_f4"
           }
          ],
          "stdout": ""
         },
         {
          "event": "step_line",
          "func_name": "g",
          "globals": {
           "bar": [
            "REF",
            5
           ],
           "f": [
            "REF",
            1
           ],
           "foo": [
            "REF",
            3
           ]
          },
          "heap": {
           "1": [
            "FUNCTION",
            "f(x)",
            null
           ],
           "2": [
            "FUNCTION",
            "g(y, z)",
            1
           ],
           "3": [
            "FUNCTION",
            "<lambda>()",
            1
           ],
           "4": [
            "FUNCTION",
            "g(y, z)",
            2
           ],
           "5": [
            "FUNCTION",
            "<lambda>()",
            2
           ]
          },
          "line": 3,
          "ordered_globals": [
           "f",
           "foo",
           "bar"
          ],
          "stack_to_render": [
           {
            "encoded_locals": {
             "__return__": [
              "REF",
              3
             ],
             "g": [
              "REF",
              2
             ],
             "x": 3
            },
            "frame_id": 1,
            "func_name": "f",
            "is_highlighted": false,
            "is_parent": true,
            "is_zombie": true,
            "ordered_varnames": [
             "x",
             "g",
             "__return__"
            ],
            "parent_frame_id_list": [],
            "unique_hash": "f_f1_p_z"
           },
           {
            "encoded_locals": {
             "__return__": [
              "REF",
              5
             ],
             "g": [
              "REF",
              4
             ],
             "x": 4
            },
            "frame_id": 2,
            "func_name": "f",
            "is_highlighted": false,
            "is_parent": true,
            "is_zombie": true,
            "ordered_varnames": [
             "x",
             "g",
             "__return__"
            ],
            "parent_frame_id_list": [],
            "unique_hash": "f_f2_p_z"
           },
           {
            "encoded_locals": {},
            "frame_id": 3,
            "func_name": "<lambda>",
            "is_highlighted": false,
            "is_parent": false,
            "is_zombie": false,
            "ordered_varnames": [],
            "parent_frame_id_list": [
             1
            ],
            "unique_hash": "<lambda>_f3"
           },
           {
            "encoded_locals": {
             "y": 0,
             "z": 3
            },
            "frame_id": 4,
            "func_name": "g",
            "is_highlighted": true,
            "is_parent": false,
            "is_zombie": false,
            "ordered_varnames": [
             "y",
             "z"
            ],
            "parent_frame_id_list": [
             1
            ],
            "unique_hash": "g_f4"
           }
          ],
          "stdout": ""
         },
         {
          "event": "step_line",
          "func_name": "g",
          "globals": {
           "bar": [
            "REF",
            5
           ],
           "f": [
            "REF",
            1
           ],
           "foo": [
            "REF",
            3
           ]
          },
          "heap": {
           "1": [
            "FUNCTION",
            "f(x)",
            null
           ],
           "2": [
            "FUNCTION",
            "g(y, z)",
            1
           ],
           "3": [
            "FUNCTION",
            "<lambda>()",
            1
           ],
           "4": [
            "FUNCTION",
            "g(y, z)",
            2
           ],
           "5": [
            "FUNCTION",
            "<lambda>()",
            2
           ]
          },
          "line": 5,
          "ordered_globals": [
           "f",
           "foo",
           "bar"
          ],
          "stack_to_render": [
           {
            "encoded_locals": {
             "__return__": [
              "REF",
              3
             ],
             "g": [
              "REF",
              2
             ],
             "x": 3
            },
            "frame_id": 1,
            "func_name": "f",
            "is_highlighted": false,
            "is_parent": true,
            "is_zombie": true,
            "ordered_varnames": [
             "x",
             "g",
             "__return__"
            ],
            "parent_frame_id_list": [],
            "unique_hash": "f_f1_p_z"
           },
           {
            "encoded_locals": {
             "__return__": [
              "REF",
              5
             ],
             "g": [
              "REF",
              4
             ],
             "x": 4
            },
            "frame_id": 2,
            "func_name": "f",
            "is_highlighted": false,
            "is_parent": true,
            "is_zombie": true,
            "ordered_varnames": [
             "x",
             "g",
             "__return__"
            ],
            "parent_frame_id_list": [],
            "unique_hash": "f_f2_p_z"
           },
           {
            "encoded_locals": {},
            "frame_id": 3,
            "func_name": "<lambda>",
            "is_highlighted": false,
            "is_parent": false,
            "is_zombie": false,
            "ordered_varnames": [],
            "parent_frame_id_list": [
             1
            ],
            "unique_hash": "<lambda>_f3"
           },
           {
            "encoded_locals": {
             "y": 0,
             "z": 3
            },
            "frame_id": 4,
            "func_name": "g",
            "is_highlighted": true,
            "is_parent": false,
            "is_zombie": false,
            "ordered_varnames": [
             "y",
             "z"
            ],
            "parent_frame_id_list": [
             1
            ],
            "unique_hash": "g_f4"
           }
          ],
          "stdout": ""
         },
         {
          "event": "call",
          "func_name": "g",
          "globals": {
           "bar": [
            "REF",
            5
           ],
           "f": [
            "REF",
            1
           ],
           "foo": [
            "REF",
            3
           ]
          },
          "heap": {
           "1": [
            "FUNCTION",
            "f(x)",
            null
           ],
           "2": [
            "FUNCTION",
            "g(y, z)",
            1
           ],
           "3": [
            "FUNCTION",
            "<lambda>()",
            1
           ],
           "4": [
            "FUNCTION",
            "g(y, z)",
            2
           ],
           "5": [
            "FUNCTION",
            "<lambda>()",
            2
           ]
          },
          "line": 2,
          "ordered_globals": [
           "f",
           "foo",
           "bar"
          ],
          "stack_to_render": [
           {
            "encoded_locals": {
             "__return__": [
              "REF",
              3
             ],
             "g": [
              "REF",
              2
             ],
             "x": 3
            },
            "frame_id": 1,
            "func_name": "f",
            "is_highlighted": false,
            "is_parent": true,
            "is_zombie": true,
            "ordered_varnames": [
             "x",
             "g",
             "__return__"
            ],
            "parent_frame_id_list": [],
            "unique_hash": "f_f1_p_z"
           },
           {
            "encoded_locals": {
             "__return__": [
              "REF",
              5
             ],
             "g": [
              "REF",
              4
             ],
             "x": 4
            },
            "frame_id": 2,
            "func_name": "f",
            "is_highlighted": false,
            "is_parent": true,
            "is_zombie": true,
            "ordered_varnames": [
             "x",
             "g",
             "__return__"
            ],
            "parent_frame_id_list": [],
            "unique_hash": "f_f2_p_z"
           },
           {
            "encoded_locals": {},
            "frame_id": 3,
            "func_name": "<lambda>",
            "is_highlighted": false,
            "is_parent": false,
            "is_zombie": false,
            "ordered_varnames": [],
            "parent_frame_id_list": [
             1
            ],
            "unique_hash": "<lambda>_f3"
           },
           {
            "encoded_locals": {
             "y": 0,
             "z": 3
            },
            "frame_id": 4,
            "func_name": "g",
            "is_highlighted": false,
            "is_parent": false,
            "is_zombie": false,
            "ordered_varnames": [
             "y",
             "z"
            ],
            "parent_frame_id_list": [
             1
            ],
            "unique_hash": "g_f4"
           },
           {
            "encoded_locals": {
             "y": 6,
             "z": 2
            },
            "frame_id": 5,
            "func_name": "g",
            "is_highlighted": true,
            "is_parent": false,
            "is_zombie": false,
            "ordered_varnames": [
             "y",
             "z"
            ],
            "parent_frame_id_list": [
             1
            ],
            "unique_hash": "g_f5"
           }
          ],
          "stdout": ""
         },
         {
          "event": "step_line",
          "func_name": "g",
          "globals": {
           "bar": [
            "REF",
            5
           ],
           "f": [
            "REF",
            1
           ],
           "foo": [
            "REF",
            3
           ]
          },
          "heap": {
           "1": [
            "FUNCTION",
            "f(x)",
            null
           ],
           "2": [
            "FUNCTION",
            "g(y, z)",
            1
           ],
           "3": [
            "FUNCTION",
            "<lambda>()",
            1
           ],
           "4": [
            "FUNCTION",
            "g(y, z)",
            2
           ],
           "5": [
            "FUNCTION",
            "<lambda>()",
            2
           ]
          },
          "line": 3,
          "ordered_globals": [
           "f",
           "foo",
           "bar"
          ],
          "stack_to_render": [
           {
            "encoded_locals": {
             "__return__": [
              "REF",
              3
             ],
             "g": [
              "REF",
              2
             ],
             "x": 3
            },
            "frame_id": 1,
            "func_name": "f",
            "is_highlighted": false,
            "is_parent": true,
            "is_zombie": true,
            "ordered_varnames": [
             "x",
             "g",
             "__return__"
            ],
            "parent_frame_id_list": [],
            "unique_hash": "f_f1_p_z"
           },
           {
            "encoded_locals": {
             "__return__": [
              "REF",
              5
             ],
             "g": [
              "REF",
              4
             ],
             "x": 4
            },
            "frame_id": 2,
            "func_name": "f",
            "is_highlighted": false,
            "is_parent": true,
            "is_zombie": true,
            "ordered_varnames": [
             "x",
             "g",
             "__return__"
            ],
            "parent_frame_id_list": [],
            "unique_hash": "f_f2_p_z"
           },
           {
            "encoded_locals": {},
            "frame_id": 3,
            "func_name": "<lambda>",
            "is_highlighted": false,
            "is_parent": false,
            "is_zombie": false,
            "ordered_varnames": [],
            "parent_frame_id_list": [
             1
            ],
            "unique_hash": "<lambda>_f3"
           },
           {
            "encoded_locals": {
             "y": 0,
             "z": 3
            },
            "frame_id": 4,
            "func_name": "g",
            "is_highlighted": false,
            "is_parent": false,
            "is_zombie": false,
            "ordered_varnames": [
             "y",
             "z"
            ],
            "parent_frame_id_list": [
             1
            ],
            "unique_hash": "g_f4"
           },
           {
            "encoded_locals": {
             "y": 6,
             "z": 2
            },
            "frame_id": 5,
            "func_name": "g",
            "is_highlighted": true,
            "is_parent": false,
            "is_zombie": false,
            "ordered_varnames": [
             "y",
             "z"
            ],
            "parent_frame_id_list": [
             1
            ],
            "unique_hash": "g_f5"
           }
          ],
          "stdout": ""
         },
         {
          "event": "step_line",
          "func_name": "g",
          "globals": {
           "bar": [
            "REF",
            5
           ],
           "f": [
            "REF",
            1
           ],
           "foo": [
            "REF",
            3
           ]
          },
          "heap": {
           "1": [
            "FUNCTION",
            "f(x)",
            null
           ],
           "2": [
            "FUNCTION",
            "g(y, z)",
            1
           ],
           "3": [
            "FUNCTION",
            "<lambda>()",
            1
           ],
           "4": [
            "FUNCTION",
            "g(y, z)",
            2
           ],
           "5": [
            "FUNCTION",
            "<lambda>()",
            2
           ]
          },
          "line": 5,
          "ordered_globals": [
           "f",
           "foo",
           "bar"
          ],
          "stack_to_render": [
           {
            "encoded_locals": {
             "__return__": [
              "REF",
              3
             ],
             "g": [
              "REF",
              2
             ],
             "x": 3
            },
            "frame_id": 1,
            "func_name": "f",
            "is_highlighted": false,
            "is_parent": true,
            "is_zombie": true,
            "ordered_varnames": [
             "x",
             "g",
             "__return__"
            ],
            "parent_frame_id_list": [],
            "unique_hash": "f_f1_p_z"
           },
           {
            "encoded_locals": {
             "__return__": [
              "REF",
              5
             ],
             "g": [
              "REF",
              4
             ],
             "x": 4
            },
            "frame_id": 2,
            "func_name": "f",
            "is_highlighted": false,
            "is_parent": true,
            "is_zombie": true,
            "ordered_varnames": [
             "x",
             "g",
             "__return__"
            ],
            "parent_frame_id_list": [],
            "unique_hash": "f_f2_p_z"
           },
           {
            "encoded_locals": {},
            "frame_id": 3,
            "func_name": "<lambda>",
            "is_highlighted": false,
            "is_parent": false,
            "is_zombie": false,
            "ordered_varnames": [],
            "parent_frame_id_list": [
             1
            ],
            "unique_hash": "<lambda>_f3"
           },
           {
            "encoded_locals": {
             "y": 0,
             "z": 3
            },
            "frame_id": 4,
            "func_name": "g",
            "is_highlighted": false,
            "is_parent": false,
            "is_zombie": false,
            "ordered_varnames": [
             "y",
             "z"
            ],
            "parent_frame_id_list": [
             1
            ],
            "unique_hash": "g_f4"
           },
           {
            "encoded_locals": {
             "y": 6,
             "z": 2
            },
            "frame_id": 5,
            "func_name": "g",
            "is_highlighted": true,
            "is_parent": false,
            "is_zombie": false,
            "ordered_varnames": [
             "y",
             "z"
            ],
            "parent_frame_id_list": [
             1
            ],
            "unique_hash": "g_f5"
           }
          ],
          "stdout": ""
         },
         {
          "event": "call",
          "func_name": "g",
          "globals": {
           "bar": [
            "REF",
            5
           ],
           "f": [
            "REF",
            1
           ],
           "foo": [
            "REF",
            3
           ]
          },
          "heap": {
           "1": [
            "FUNCTION",
            "f(x)",
            null
           ],
           "2": [
            "FUNCTION",
            "g(y, z)",
            1
           ],
           "3": [
            "FUNCTION",
            "<lambda>()",
            1
           ],
           "4": [
            "FUNCTION",
            "g(y, z)",
            2
           ],
           "5": [
            "FUNCTION",
            "<lambda>()",
            2
           ]
          },
          "line": 2,
          "ordered_globals": [
           "f",
           "foo",
           "bar"
          ],
          "stack_to_render": [
           {
            "encoded_locals": {
             "__return__": [
              "REF",
              3
             ],
             "g": [
              "REF",
              2
             ],
             "x": 3
            },
            "frame_id": 1,
            "func_name": "f",
            "is_highlighted": false,
            "is_parent": true,
            "is_zombie": true,
            "ordered_varnames": [
             "x",
             "g",
             "__return__"
            ],
            "parent_frame_id_list": [],
            "unique_hash": "f_f1_p_z"
           },
           {
            "encoded_locals": {
             "__return__": [
              "REF",
              5
             ],
             "g": [
              "REF",
              4
             ],
             "x": 4
            },
            "frame_id": 2,
            "func_name": "f",
            "is_highlighted": false,
            "is_parent": true,
            "is_zombie": true,
            "ordered_varnames": [
             "x",
             "g",
             "__return__"
            ],
            "parent_frame_id_list": [],
            "unique_hash": "f_f2_p_z"
           },
           {
            "encoded_locals": {},
            "frame_id": 3,
            "func_name": "<lambda>",
            "is_highlighted": false,
            "is_parent": false,
            "is_zombie": false,
            "ordered_varnames": [],
            "parent_frame_id_list": [
             1
            ],
            "unique_hash": "<lambda>_f3"
           },
           {
            "encoded_locals": {
             "y": 0,
             "z": 3
            },
            "frame_id": 4,
            "func_name": "g",
            "is_highlighted": false,
            "is_parent": false,
            "is_zombie": false,
            "ordered_varnames": [
             "y",
             "z"
            ],
            "parent_frame_id_list": [
             1
            ],
            "unique_hash": "g_f4"
           },
           {
            "encoded_locals": {
             "y": 6,
             "z": 2
            },
            "frame_id": 5,
            "func_name": "g",
            "is_highlighted": false,
            "is_parent": false,
            "is_zombie": false,
            "ordered_varnames": [
             "y",
             "z"
            ],
            "parent_frame_id_list": [
             1
            ],
            "unique_hash": "g_f5"
           },
           {
            "encoded_locals": {
             "y": 11,
             "z": 1
            },
            "frame_id": 6,
            "func_name": "g",
            "is_highlighted": true,
            "is_parent": false,
            "is_zombie": false,
            "ordered_varnames": [
             "y",
             "z"
            ],
            "parent_frame_id_list": [
             1
            ],
            "unique_hash": "g_f6"
           }
          ],
          "stdout": ""
         },
         {
          "event": "step_line",
          "func_name": "g",
          "globals": {
           "bar": [
            "REF",
            5
           ],
           "f": [
            "REF",
            1
           ],
           "foo": [
            "REF",
            3
           ]
          },
          "heap": {
           "1": [
            "FUNCTION",
            "f(x)",
            null
           ],
           "2": [
            "FUNCTION",
            "g(y, z)",
            1
           ],
           "3": [
            "FUNCTION",
            "<lambda>()",
            1
           ],
           "4": [
            "FUNCTION",
            "g(y, z)",
            2
           ],
           "5": [
            "FUNCTION",
            "<lambda>()",
            2
           ]
          },
          "line": 3,
          "ordered_globals": [
           "f",
           "foo",
           "bar"
          ],
          "stack_to_render": [
           {
            "encoded_locals": {
             "__return__": [
              "REF",
              3
             ],
             "g": [
              "REF",
              2
             ],
             "x": 3
            },
            "frame_id": 1,
            "func_name": "f",
            "is_highlighted": false,
            "is_parent": true,
            "is_zombie": true,
            "ordered_varnames": [
             "x",
             "g",
             "__return__"
            ],
            "parent_frame_id_list": [],
            "unique_hash": "f_f1_p_z"
           },
           {
            "encoded_locals": {
             "__return__": [
              "REF",
              5
             ],
             "g": [
              "REF",
              4
             ],
             "x": 4
            },
            "frame_id": 2,
            "func_name": "f",
            "is_highlighted": false,
            "is_parent": true,
            "is_zombie": true,
            "ordered_varnames": [
             "x",
             "g",
             "__return__"
            ],
            "parent_frame_id_list": [],
            "unique_hash": "f_f2_p_z"
           },
           {
            "encoded_locals": {},
            "frame_id": 3,
            "func_name": "<lambda>",
            "is_highlighted": false,
            "is_parent": false,
            "is_zombie": false,
            "ordered_varnames": [],
            "parent_frame_id_list": [
             1
            ],
            "unique_hash": "<lambda>_f3"
           },
           {
            "encoded_locals": {
             "y": 0,
             "z": 3
            },
            "frame_id": 4,
            "func_name": "g",
            "is_highlighted": false,
            "is_parent": false,
            "is_zombie": false,
            "ordered_varnames": [
             "y",
             "z"
            ],
            "parent_frame_id_list": [
             1
            ],
            "unique_hash": "g_f4"
           },
           {
            "encoded_locals": {
             "y": 6,
             "z": 2
            },
            "frame_id": 5,
            "func_name": "g",
            "is_highlighted": false,
            "is_parent": false,
            "is_zombie": false,
            "ordered_varnames": [
             "y",
             "z"
            ],
            "parent_frame_id_list": [
             1
            ],
            "unique_hash": "g_f5"
           },
           {
            "encoded_locals": {
             "y": 11,
             "z": 1
            },
            "frame_id": 6,
            "func_name": "g",
            "is_highlighted": true,
            "is_parent": false,
            "is_zombie": false,
            "ordered_varnames": [
             "y",
             "z"
            ],
            "parent_frame_id_list": [
             1
            ],
            "unique_hash": "g_f6"
           }
          ],
          "stdout": ""
         },
         {
          "event": "step_line",
          "func_name": "g",
          "globals": {
           "bar": [
            "REF",
            5
           ],
           "f": [
            "REF",
            1
           ],
           "foo": [
            "REF",
            3
           ]
          },
          "heap": {
           "1": [
            "FUNCTION",
            "f(x)",
            null
           ],
           "2": [
            "FUNCTION",
            "g(y, z)",
            1
           ],
           "3": [
            "FUNCTION",
            "<lambda>()",
            1
           ],
           "4": [
            "FUNCTION",
            "g(y, z)",
            2
           ],
           "5": [
            "FUNCTION",
            "<lambda>()",
            2
           ]
          },
          "line": 5,
          "ordered_globals": [
           "f",
           "foo",
           "bar"
          ],
          "stack_to_render": [
           {
            "encoded_locals": {
             "__return__": [
              "REF",
              3
             ],
             "g": [
              "REF",
              2
             ],
             "x": 3
            },
            "frame_id": 1,
            "func_name": "f",
            "is_highlighted": false,
            "is_parent": true,
            "is_zombie": true,
            "ordered_varnames": [
             "x",
             "g",
             "__return__"
            ],
            "parent_frame_id_list": [],
            "unique_hash": "f_f1_p_z"
           },
           {
            "encoded_locals": {
             "__return__": [
              "REF",
              5
             ],
             "g": [
              "REF",
              4
             ],
             "x": 4
            },
            "frame_id": 2,
            "func_name": "f",
            "is_highlighted": false,
            "is_parent": true,
            "is_zombie": true,
            "ordered_varnames": [
             "x",
             "g",
             "__return__"
            ],
            "parent_frame_id_list": [],
            "unique_hash": "f_f2_p_z"
           },
           {
            "encoded_locals": {},
            "frame_id": 3,
            "func_name": "<lambda>",
            "is_highlighted": false,
            "is_parent": false,
            "is_zombie": false,
            "ordered_varnames": [],
            "parent_frame_id_list": [
             1
            ],
            "unique_hash": "<lambda>_f3"
           },
           {
            "encoded_locals": {
             "y": 0,
             "z": 3
            },
            "frame_id": 4,
            "func_name": "g",
            "is_highlighted": false,
            "is_parent": false,
            "is_zombie": false,
            "ordered_varnames": [
             "y",
             "z"
            ],
            "parent_frame_id_list": [
             1
            ],
            "unique_hash": "g_f4"
           },
           {
            "encoded_locals": {
             "y": 6,
             "z": 2
            },
            "frame_id": 5,
            "func_name": "g",
            "is_highlighted": false,
            "is_parent": false,
            "is_zombie": false,
            "ordered_varnames": [
             "y",
             "z"
            ],
            "parent_frame_id_list": [
             1
            ],
            "unique_hash": "g_f5"
           },
           {
            "encoded_locals": {
             "y": 11,
             "z": 1
            },
            "frame_id": 6,
            "func_name": "g",
            "is_highlighted": true,
            "is_parent": false,
            "is_zombie": false,
            "ordered_varnames": [
             "y",
             "z"
            ],
            "parent_frame_id_list": [
             1
            ],
            "unique_hash": "g_f6"
           }
          ],
          "stdout": ""
         },
         {
          "event": "call",
          "func_name": "g",
          "globals": {
           "bar": [
            "REF",
            5
           ],
           "f": [
            "REF",
            1
           ],
           "foo": [
            "REF",
            3
           ]
          },
          "heap": {
           "1": [
            "FUNCTION",
            "f(x)",
            null
           ],
           "2": [
            "FUNCTION",
            "g(y, z)",
            1
           ],
           "3": [
            "FUNCTION",
            "<lambda>()",
            1
           ],
           "4": [
            "FUNCTION",
            "g(y, z)",
            2
           ],
           "5": [
            "FUNCTION",
            "<lambda>()",
            2
           ]
          },
          "line": 2,
          "ordered_globals": [
           "f",
           "foo",
           "bar"
          ],
          "stack_to_render": [
           {
            "encoded_locals": {
             "__return__": [
              "REF",
              3
             ],
             "g": [
              "REF",
              2
             ],
             "x": 3
            },
            "frame_id": 1,
            "func_name": "f",
            "is_highlighted": false,
            "is_parent": true,
            "is_zombie": true,
            "ordered_varnames": [
             "x",
             "g",
             "__return__"
            ],
            "parent_frame_id_list": [],
            "unique_hash": "f_f1_p_z"
           },
           {
            "encoded_locals": {
             "__return__": [
              "REF",
              5
             ],
             "g": [
              "REF",
              4
             ],
             "x": 4
            },
            "frame_id": 2,
            "func_name": "f",
            "is_highlighted": false,
            "is_parent": true,
            "is_zombie": true,
            "ordered_varnames": [
             "x",
             "g",
             "__return__"
            ],
            "parent_frame_id_list": [],
            "unique_hash": "f_f2_p_z"
           },
           {
            "encoded_locals": {},
            "frame_id": 3,
            "func_name": "<lambda>",
            "is_highlighted": false,
            "is_parent": false,
            "is_zombie": false,
            "ordered_varnames": [],
            "parent_frame_id_list": [
             1
            ],
            "unique_hash": "<lambda>_f3"
           },
           {
            "encoded_locals": {
             "y": 0,
             "z": 3
            },
            "frame_id": 4,
            "func_name": "g",
            "is_highlighted": false,
            "is_parent": false,
            "is_zombie": false,
            "ordered_varnames": [
             "y",
             "z"
            ],
            "parent_frame_id_list": [
             1
            ],
            "unique_hash": "g_f4"
           },
           {
            "encoded_locals": {
             "y": 6,
             "z": 2
            },
            "frame_id": 5,
            "func_name": "g",
            "is_highlighted": false,
            "is_parent": false,
            "is_zombie": false,
            "ordered_varnames": [
             "y",
             "z"
            ],
            "parent_frame_id_list": [
             1
            ],
            "unique_hash": "g_f5"
           },
           {
            "encoded_locals": {
             "y": 11,
             "z": 1
            },
            "frame_id": 6,
            "func_name": "g",
            "is_highlighted": false,
            "is_parent": false,
            "is_zombie": false,
            "ordered_varnames": [
             "y",
             "z"
            ],
            "parent_frame_id_list": [
             1
            ],
            "unique_hash": "g_f6"
           },
           {
            "encoded_locals": {
             "y": 15,
             "z": 0
            },
            "frame_id": 7,
            "func_name": "g",
            "is_highlighted": true,
            "is_parent": false,
            "is_zombie": false,
            "ordered_varnames": [
             "y",
             "z"
            ],
            "parent_frame_id_list": [
             1
            ],
            "unique_hash": "g_f7"
           }
          ],
          "stdout": ""
         },
         {
          "event": "step_line",
          "func_name": "g",
          "globals": {
           "bar": [
            "REF",
            5
           ],
           "f": [
            "REF",
            1
           ],
           "foo": [
            "REF",
            3
           ]
          },
          "heap": {
           "1": [
            "FUNCTION",
            "f(x)",
            null
           ],
           "2": [
            "FUNCTION",
            "g(y, z)",
            1
           ],
           "3": [
            "FUNCTION",
            "<lambda>()",
            1
           ],
           "4": [
            "FUNCTION",
            "g(y, z)",
            2
           ],
           "5": [
            "FUNCTION",
            "<lambda>()",
            2
           ]
          },
          "line": 3,
          "ordered_globals": [
           "f",
           "foo",
           "bar"
          ],
          "stack_to_render": [
           {
            "encoded_locals": {
             "__return__": [
              "REF",
              3
             ],
             "g": [
              "REF",
              2
             ],
             "x": 3
            },
            "frame_id": 1,
            "func_name": "f",
            "is_highlighted": false,
            "is_parent": true,
            "is_zombie": true,
            "ordered_varnames": [
             "x",
             "g",
             "__return__"
            ],
            "parent_frame_id_list": [],
            "unique_hash": "f_f1_p_z"
           },
           {
            "encoded_locals": {
             "__return__": [
              "REF",
              5
             ],
             "g": [
              "REF",
              4
             ],
             "x": 4
            },
            "frame_id": 2,
            "func_name": "f",
            "is_highlighted": false,
            "is_parent": true,
            "is_zombie": true,
            "ordered_varnames": [
             "x",
             "g",
             "__return__"
            ],
            "parent_frame_id_list": [],
            "unique_hash": "f_f2_p_z"
           },
           {
            "encoded_locals": {},
            "frame_id": 3,
            "func_name": "<lambda>",
            "is_highlighted": false,
            "is_parent": false,
            "is_zombie": false,
            "ordered_varnames": [],
            "parent_frame_id_list": [
             1
            ],
            "unique_hash": "<lambda>_f3"
           },
           {
            "encoded_locals": {
             "y": 0,
             "z": 3
            },
            "frame_id": 4,
            "func_name": "g",
            "is_highlighted": false,
            "is_parent": false,
            "is_zombie": false,
            "ordered_varnames": [
             "y",
             "z"
            ],
            "parent_frame_id_list": [
             1
            ],
            "unique_hash": "g_f4"
           },
           {
            "encoded_locals": {
             "y": 6,
             "z": 2
            },
            "frame_id": 5,
            "func_name": "g",
            "is_highlighted": false,
            "is_parent": false,
            "is_zombie": false,
            "ordered_varnames": [
             "y",
             "z"
            ],
            "parent_frame_id_list": [
             1
            ],
            "unique_hash": "g_f5"
           },
           {
            "encoded_locals": {
             "y": 11,
             "z": 1
            },
            "frame_id": 6,
            "func_name": "g",
            "is_highlighted": false,
            "is_parent": false,
            "is_zombie": false,
            "ordered_varnames": [
             "y",
             "z"
            ],
            "parent_frame_id_list": [
             1
            ],
            "unique_hash": "g_f6"
           },
           {
            "encoded_locals": {
             "y": 15,
             "z": 0
            },
            "frame_id": 7,
            "func_name": "g",
            "is_highlighted": true,
            "is_parent": false,
            "is_zombie": false,
            "ordered_varnames": [
             "y",
             "z"
            ],
            "parent_frame_id_list": [
             1
            ],
            "unique_hash": "g_f7"
           }
          ],
          "stdout": ""
         },
         {
          "event": "step_line",
          "func_name": "g",
          "globals": {
           "bar": [
            "REF",
            5
           ],
           "f": [
            "REF",
            1
           ],
           "foo": [
            "REF",
            3
           ]
          },
          "heap": {
           "1": [
            "FUNCTION",
            "f(x)",
            null
           ],
           "2": [
            "FUNCTION",
            "g(y, z)",
            1
           ],
           "3": [
            "FUNCTION",
            "<lambda>()",
            1
           ],
           "4": [
            "FUNCTION",
            "g(y, z)",
            2
           ],
           "5": [
            "FUNCTION",
            "<lambda>()",
            2
           ]
          },
          "line": 4,
          "ordered_globals": [
           "f",
           "foo",
           "bar"
          ],
          "stack_to_render": [
           {
            "encoded_locals": {
             "__return__": [
              "REF",
              3
             ],
             "g": [
              "REF",
              2
             ],
             "x": 3
            },
            "frame_id": 1,
            "func_name": "f",
            "is_highlighted": false,
            "is_parent": true,
            "is_zombie": true,
            "ordered_varnames": [
             "x",
             "g",
             "__return__"
            ],
            "parent_frame_id_list": [],
            "unique_hash": "f_f1_p_z"
           },
           {
            "encoded_locals": {
             "__return__": [
              "REF",
              5
             ],
             "g": [
              "REF",
              4
             ],
             "x": 4
            },
            "frame_id": 2,
            "func_name": "f",
            "is_highlighted": false,
            "is_parent": true,
            "is_zombie": true,
            "ordered_varnames": [
             "x",
             "g",
             "__return__"
            ],
            "parent_frame_id_list": [],
            "unique_hash": "f_f2_p_z"
           },
           {
            "encoded_locals": {},
            "frame_id": 3,
            "func_name": "<lambda>",
            "is_highlighted": false,
            "is_parent": false,
            "is_zombie": false,
            "ordered_varnames": [],
            "parent_frame_id_list": [
             1
            ],
            "unique_hash": "<lambda>_f3"
           },
           {
            "encoded_locals": {
             "y": 0,
             "z": 3
            },
            "frame_id": 4,
            "func_name": "g",
            "is_highlighted": false,
            "is_parent": false,
            "is_zombie": false,
            "ordered_varnames": [
             "y",
             "z"
            ],
            "parent_frame_id_list": [
             1
            ],
            "unique_hash": "g_f4"
           },
           {
            "encoded_locals": {
             "y": 6,
             "z": 2
            },
            "frame_id": 5,
            "func_name": "g",
            "is_highlighted": false,
            "is_parent": false,
            "is_zombie": false,
            "ordered_varnames": [
             "y",
             "z"
            ],
            "parent_frame_id_list": [
             1
            ],
            "unique_hash": "g_f5"
           },
           {
            "encoded_locals": {
             "y": 11,
             "z": 1
            },
            "frame_id": 6,
            "func_name": "g",
            "is_highlighted": false,
            "is_parent": false,
            "is_zombie": false,
            "ordered_varnames": [
             "y",
             "z"
            ],
            "parent_frame_id_list": [
             1
            ],
            "unique_hash": "g_f6"
           },
           {
            "encoded_locals": {
             "y": 15,
             "z": 0
            },
            "frame_id": 7,
            "func_name": "g",
            "is_highlighted": true,
            "is_parent": false,
            "is_zombie": false,
            "ordered_varnames": [
             "y",
             "z"
            ],
            "parent_frame_id_list": [
             1
            ],
            "unique_hash": "g_f7"
           }
          ],
          "stdout": ""
         },
         {
          "event": "return",
          "func_name": "g",
          "globals": {
           "bar": [
            "REF",
            5
           ],
           "f": [
            "REF",
            1
           ],
           "foo": [
            "REF",
            3
           ]
          },
          "heap": {
           "1": [
            "FUNCTION",
            "f(x)",
            null
           ],
           "2": [
            "FUNCTION",
            "g(y, z)",
            1
           ],
           "3": [
            "FUNCTION",
            "<lambda>()",
            1
           ],
           "4": [
            "FUNCTION",
            "g(y, z)",
            2
           ],
           "5": [
            "FUNCTION",
            "<lambda>()",
            2
           ]
          },
          "line": 4,
          "ordered_globals": [
           "f",
           "foo",
           "bar"
          ],
          "stack_to_render": [
           {
            "encoded_locals": {
             "__return__": [
              "REF",
              3
             ],
             "g": [
              "REF",
              2
             ],
             "x": 3
            },
            "frame_id": 1,
            "func_name": "f",
            "is_highlighted": false,
            "is_parent": true,
            "is_zombie": true,
            "ordered_varnames": [
             "x",
             "g",
             "__return__"
            ],
            "parent_frame_id_list": [],
            "unique_hash": "f_f1_p_z"
           },
           {
            "encoded_locals": {
             "__return__": [
              "REF",
              5
             ],
             "g": [
              "REF",
              4
             ],
             "x": 4
            },
            "frame_id": 2,
            "func_name": "f",
            "is_highlighted": false,
            "is_parent": true,
            "is_zombie": true,
            "ordered_varnames": [
             "x",
             "g",
             "__return__"
            ],
            "parent_frame_id_list": [],
            "unique_hash": "f_f2_p_z"
           },
           {
            "encoded_locals": {},
            "frame_id": 3,
            "func_name": "<lambda>",
            "is_highlighted": false,
            "is_parent": false,
            "is_zombie": false,
            "ordered_varnames": [],
            "parent_frame_id_list": [
             1
            ],
            "unique_hash": "<lambda>_f3"
           },
           {
            "encoded_locals": {
             "y": 0,
             "z": 3
            },
            "frame_id": 4,
            "func_name": "g",
            "is_highlighted": false,
            "is_parent": false,
            "is_zombie": false,
            "ordered_varnames": [
             "y",
             "z"
            ],
            "parent_frame_id_list": [
             1
            ],
            "unique_hash": "g_f4"
           },
           {
            "encoded_locals": {
             "y": 6,
             "z": 2
            },
            "frame_id": 5,
            "func_name": "g",
            "is_highlighted": false,
            "is_parent": false,
            "is_zombie": false,
            "ordered_varnames": [
             "y",
             "z"
            ],
            "parent_frame_id_list": [
             1
            ],
            "unique_hash": "g_f5"
           },
           {
            "encoded_locals": {
             "y": 11,
             "z": 1
            },
            "frame_id": 6,
            "func_name": "g",
            "is_highlighted": false,
            "is_parent": false,
            "is_zombie": false,
            "ordered_varnames": [
             "y",
             "z"
            ],
            "parent_frame_id_list": [
             1
            ],
            "unique_hash": "g_f6"
           },
           {
            "encoded_locals": {
             "__return__": 15,
             "y": 15,
             "z": 0
            },
            "frame_id": 7,
            "func_name": "g",
            "is_highlighted": true,
            "is_parent": false,
            "is_zombie": false,
            "ordered_varnames": [
             "y",
             "z",
             "__return__"
            ],
            "parent_frame_id_list": [
             1
            ],
            "unique_hash": "g_f7"
           }
          ],
          "stdout": ""
         },
         {
          "event": "return",
          "func_name": "g",
          "globals": {
           "bar": [
            "REF",
            5
           ],
           "f": [
            "REF",
            1
           ],
           "foo": [
            "REF",
            3
           ]
          },
          "heap": {
           "1": [
            "FUNCTION",
            "f(x)",
            null
           ],
           "2": [
            "FUNCTION",
            "g(y, z)",
            1
           ],
           "3": [
            "FUNCTION",
            "<lambda>()",
            1
           ],
           "4": [
            "FUNCTION",
            "g(y, z)",
            2
           ],
           "5": [
            "FUNCTION",
            "<lambda>()",
            2
           ]
          },
          "line": 5,
          "ordered_globals": [
           "f",
           "foo",
           "bar"
          ],
          "stack_to_render": [
           {
            "encoded_locals": {
             "__return__": [
              "REF",
              3
             ],
             "g": [
              "REF",
              2
             ],
             "x": 3
            },
            "frame_id": 1,
            "func_name": "f",
            "is_highlighted": false,
            "is_parent": true,
            "is_zombie": true,
            "ordered_varnames": [
             "x",
             "g",
             "__return__"
            ],
            "parent_frame_id_list": [],
            "unique_hash": "f_f1_p_z"
           },
           {
            "encoded_locals": {
             "__return__": [
              "REF",
              5
             ],
             "g": [
              "REF",
              4
             ],
             "x": 4
            },
            "frame_id": 2,
            "func_name": "f",
            "is_highlighted": false,
            "is_parent": true,
            "is_zombie": true,
            "ordered_varnames": [
             "x",
             "g",
             "__return__"
            ],
            "parent_frame_id_list": [],
            "unique_hash": "f_f2_p_z"
           },
           {
            "encoded_locals": {},
            "frame_id": 3,
            "func_name": "<lambda>",
            "is_highlighted": false,
            "is_parent": false,
            "is_zombie": false,
            "ordered_varnames": [],
            "parent_frame_id_list": [
             1
            ],
            "unique_hash": "<lambda>_f3"
           },
           {
            "encoded_locals": {
             "y": 0,
             "z": 3
            },
            "frame_id": 4,
            "func_name": "g",
            "is_highlighted": false,
            "is_parent": false,
            "is_zombie": false,
            "ordered_varnames": [
             "y",
             "z"
            ],
            "parent_frame_id_list": [
             1
            ],
            "unique_hash": "g_f4"
           },
           {
            "encoded_locals": {
             "y": 6,
             "z": 2
            },
            "frame_id": 5,
            "func_name": "g",
            "is_highlighted": false,
            "is_parent": false,
            "is_zombie": false,
            "ordered_varnames": [
             "y",
             "z"
            ],
            "parent_frame_id_list": [
             1
            ],
            "unique_hash": "g_f5"
           },
           {
            "encoded_locals": {
             "__return__": 15,
             "y": 11,
             "z": 1
            },
            "frame_id": 6,
            "func_name": "g",
            "is_highlighted": true,
            "is_parent": false,
            "is_zombie": false,
            "ordered_varnames": [
             "y",
             "z",
             "__return__"
            ],
            "parent_frame_id_list": [
             1
            ],
            "unique_hash": "g_f6"
           }
          ],
          "stdout": ""
         },
         {
          "event": "return",
          "func_name": "g",
          "globals": {
           "bar": [
            "REF",
            5
           ],
           "f": [
            "REF",
            1
           ],
           "foo": [
            "REF",
            3
           ]
          },
          "heap": {
           "1": [
            "FUNCTION",
            "f(x)",
            null
           ],
           "2": [
            "FUNCTION",
            "g(y, z)",
            1
           ],
           "3": [
            "FUNCTION",
            "<lambda>()",
            1
           ],
           "4": [
            "FUNCTION",
            "g(y, z)",
            2
           ],
           "5": [
            "FUNCTION",
            "<lambda>()",
            2
           ]
          },
          "line": 5,
          "ordered_globals": [
           "f",
           "foo",
           "bar"
          ],
          "stack_to_render": [
           {
            "encoded_locals": {
             "__return__": [
              "REF",
              3
             ],
             "g": [
              "REF",
              2
             ],
             "x": 3
            },
            "frame_id": 1,
            "func_name": "f",
            "is_highlighted": false,
            "is_parent": true,
            "is_zombie": true,
            "ordered_varnames": [
             "x",
             "g",
             "__return__"
            ],
            "parent_frame_id_list": [],
            "unique_hash": "f_f1_p_z"
           },
           {
            "encoded_locals": {
             "__return__": [
              "REF",
              5
             ],
             "g": [
              "REF",
              4
             ],
             "x": 4
            },
            "frame_id": 2,
            "func_name": "f",
            "is_highlighted": false,
            "is_parent": true,
            "is_zombie": true,
            "ordered_varnames": [
             "x",
             "g",
             "__return__"
            ],
            "parent_frame_id_list": [],
            "unique_hash": "f_f2_p_z"
           },
           {
            "encoded_locals": {},
            "frame_id": 3,
            "func_name": "<lambda>",
            "is_highlighted": false,
            "is_parent": false,
            "is_zombie": false,
            "ordered_varnames": [],
            "parent_frame_id_list": [
             1
            ],
            "unique_hash": "<lambda>_f3"
           },
           {
            "encoded_locals": {
             "y": 0,
             "z": 3
            },
            "frame_id": 4,
            "func_name": "g",
            "is_highlighted": false,
            "is_parent": false,
            "is_zombie": false,
            "ordered_varnames": [
             "y",
             "z"
            ],
            "parent_frame_id_list": [
             1
            ],
            "unique_hash": "g_f4"
           },
           {
            "encoded_locals": {
             "__return__": 15,
             "y": 6,
             "z": 2
            },
            "frame_id": 5,
            "func_name": "g",
            "is_highlighted": true,
            "is_parent": false,
            "is_zombie": false,
            "ordered_varnames": [
             "y",
             "z",
             "__return__"
            ],
            "parent_frame_id_list": [
             1
            ],
            "unique_hash": "g_f5"
           }
          ],
          "stdout": ""
         },
         {
          "event": "return",
          "func_name": "g",
          "globals": {
           "bar": [
            "REF",
            5
           ],
           "f": [
            "REF",
            1
           ],
           "foo": [
            "REF",
            3
           ]
          },
          "heap": {
           "1": [
            "FUNCTION",
            "f(x)",
            null
           ],
           "2": [
            "FUNCTION",
            "g(y, z)",
            1
           ],
           "3": [
            "FUNCTION",
            "<lambda>()",
            1
           ],
           "4": [
            "FUNCTION",
            "g(y, z)",
            2
           ],
           "5": [
            "FUNCTION",
            "<lambda>()",
            2
           ]
          },
          "line": 5,
          "ordered_globals": [
           "f",
           "foo",
           "bar"
          ],
          "stack_to_render": [
           {
            "encoded_locals": {
             "__return__": [
              "REF",
              3
             ],
             "g": [
              "REF",
              2
             ],
             "x": 3
            },
            "frame_id": 1,
            "func_name": "f",
            "is_highlighted": false,
            "is_parent": true,
            "is_zombie": true,
            "ordered_varnames": [
             "x",
             "g",
             "__return__"
            ],
            "parent_frame_id_list": [],
            "unique_hash": "f_f1_p_z"
           },
           {
            "encoded_locals": {
             "__return__": [
              "REF",
              5
             ],
             "g": [
              "REF",
              4
             ],
             "x": 4
            },
            "frame_id": 2,
            "func_name": "f",
            "is_highlighted": false,
            "is_parent": true,
            "is_zombie": true,
            "ordered_varnames": [
             "x",
             "g",
             "__return__"
            ],
            "parent_frame_id_list": [],
            "unique_hash": "f_f2_p_z"
           },
           {
            "encoded_locals": {},
            "frame_id": 3,
            "func_name": "<lambda>",
            "is_highlighted": false,
            "is_parent": false,
            "is_zombie": false,
            "ordered_varnames": [],
            "parent_frame_id_list": [
             1
            ],
            "unique_hash": "<lambda>_f3"
           },
           {
            "encoded_locals": {
             "__return__": 15,
             "y": 0,
             "z": 3
            },
            "frame_id": 4,
            "func_name": "g",
            "is_highlighted": true,
            "is_parent": false,
            "is_zombie": false,
            "ordered_varnames": [
             "y",
             "z",
             "__return__"
            ],
            "parent_frame_id_list": [
             1
            ],
            "unique_hash": "g_f4"
           }
          ],
          "stdout": ""
         },
         {
          "event": "return",
          "func_name": "<lambda>",
          "globals": {
           "bar": [
            "REF",
            5
           ],
           "f": [
            "REF",
            1
           ],
           "foo": [
            "REF",
            3
           ]
          },
          "heap": {
           "1": [
            "FUNCTION",
            "f(x)",
            null
           ],
           "2": [
            "FUNCTION",
            "g(y, z)",
            1
           ],
           "3": [
            "FUNCTION",
            "<lambda>()",
            1
           ],
           "4": [
            "FUNCTION",
            "g(y, z)",
            2
           ],
           "5": [
            "FUNCTION",
            "<lambda>()",
            2
           ]
          },
          "line": 6,
          "ordered_globals": [
           "f",
           "foo",
           "bar"
          ],
          "stack_to_render": [
           {
            "encoded_locals": {
             "__return__": [
              "REF",
              3
             ],
             "g": [
              "REF",
              2
             ],
             "x": 3
            },
            "frame_id": 1,
            "func_name": "f",
            "is_highlighted": false,
            "is_parent": true,
            "is_zombie": true,
            "ordered_varnames": [
             "x",
             "g",
             "__return__"
            ],
            "parent_frame_id_list": [],
            "unique_hash": "f_f1_p_z"
           },
           {
            "encoded_locals": {
             "__return__": [
              "REF",
              5
             ],
             "g": [
              "REF",
              4
             ],
             "x": 4
            },
            "frame_id": 2,
            "func_name": "f",
            "is_highlighted": false,
            "is_parent": true,
            "is_zombie": true,
            "ordered_varnames": [
             "x",
             "g",
             "__return__"
            ],
            "parent_frame_id_list": [],
            "unique_hash": "f_f2_p_z"
           },
           {
            "encoded_locals": {
             "__return__": 15
            },
            "frame_id": 3,
            "func_name": "<lambda>",
            "is_highlighted": true,
            "is_parent": false,
            "is_zombie": false,
            "ordered_varnames": [
             "__return__"
            ],
            "parent_frame_id_list": [
             1
            ],
            "unique_hash": "<lambda>_f3"
           }
          ],
          "stdout": ""
         },
         {
          "event": "call",
          "func_name": "<lambda>",
          "globals": {
           "bar": [
            "REF",
            5
           ],
           "f": [
            "REF",
            1
           ],
           "foo": [
            "REF",
            3
           ]
          },
          "heap": {
           "1": [
            "FUNCTION",
            "f(x)",
            null
           ],
           "2": [
            "FUNCTION",
            "g(y, z)",
            1
           ],
           "3": [
            "FUNCTION",
            "<lambda>()",
            1
           ],
           "4": [
            "FUNCTION",
            "g(y, z)",
            2
           ],
           "5": [
            "FUNCTION",
            "<lambda>()",
            2
           ]
          },
          "line": 6,
          "ordered_globals": [
           "f",
           "foo",
           "bar"
          ],
          "stack_to_render": [
           {
            "encoded_locals": {
             "__return__": [
              "REF",
              3
             ],
             "g": [
              "REF",
              2
             ],
             "x": 3
            },
            "frame_id": 1,
            "func_name": "f",
            "is_highlighted": false,
            "is_parent": true,
            "is_zombie": true,
            "ordered_varnames": [
             "x",
             "g",
             "__return__"
            ],
            "parent_frame_id_list": [],
            "unique_hash": "f_f1_p_z"
           },
           {
            "encoded_locals": {
             "__return__": [
              "REF",
              5
             ],
             "g": [
              "REF",
              4
             ],
             "x": 4
            },
            "frame_id": 2,
            "func_name": "f",
            "is_highlighted": false,
            "is_parent": true,
            "is_zombie": true,
            "ordered_varnames": [
             "x",
             "g",
             "__return__"
            ],
            "parent_frame_id_list": [],
            "unique_hash": "f_f2_p_z"
           },
           {
            "encoded_locals": {},
            "frame_id": 8,
            "func_name": "<lambda>",
            "is_highlighted": true,
            "is_parent": false,
            "is_zombie": false,
            "ordered_varnames": [],
            "parent_frame_id_list": [
             2
            ],
            "unique_hash": "<lambda>_f8"
           }
          ],
          "stdout": ""
         },
         {
          "event": "step_line",
          "func_name": "<lambda>",
          "globals": {
           "bar": [
            "REF",
            5
           ],
           "f": [
            "REF",
            1
           ],
           "foo": [
            "REF",
            3
           ]
          },
          "heap": {
           "1": [
            "FUNCTION",
            "f(x)",
            null
           ],
           "2": [
            "FUNCTION",
            "g(y, z)",
            1
           ],
           "3": [
            "FUNCTION",
            "<lambda>()",
            1
           ],
           "4": [
            "FUNCTION",
            "g(y, z)",
            2
           ],
           "5": [
            "FUNCTION",
            "<lambda>()",
            2
           ]
          },
          "line": 6,
          "ordered_globals": [
           "f",
           "foo",
           "bar"
          ],
          "stack_to_render": [
           {
            "encoded_locals": {
             "__return__": [
              "REF",
              3
             ],
             "g": [
              "REF",
              2
             ],
             "x": 3
            },
            "frame_id": 1,
            "func_name": "f",
            "is_highlighted": false,
            "is_parent": true,
            "is_zombie": true,
            "ordered_varnames": [
             "x",
             "g",
             "__return__"
            ],
            "parent_frame_id_list": [],
            "unique_hash": "f_f1_p_z"
           },
           {
            "encoded_locals": {
             "__return__": [
              "REF",
              5
             ],
             "g": [
              "REF",
              4
             ],
             "x": 4
            },
            "frame_id": 2,
            "func_name": "f",
            "is_highlighted": false,
            "is_parent": true,
            "is_zombie": true,
            "ordered_varnames": [
             "x",
             "g",
             "__return__"
            ],
            "parent_frame_id_list": [],
            "unique_hash": "f_f2_p_z"
           },
           {
            "encoded_locals": {},
            "frame_id": 8,
            "func_name": "<lambda>",
            "is_highlighted": true,
            "is_parent": false,
            "is_zombie": false,
            "ordered_varnames": [],
            "parent_frame_id_list": [
             2
            ],
            "unique_hash": "<lambda>_f8"
           }
          ],
          "stdout": ""
         },
         {
          "event": "call",
          "func_name": "g",
          "globals": {
           "bar": [
            "REF",
            5
           ],
           "f": [
            "REF",
            1
           ],
           "foo": [
            "REF",
            3
           ]
          },
          "heap": {
           "1": [
            "FUNCTION",
            "f(x)",
            null
           ],
           "2": [
            "FUNCTION",
            "g(y, z)",
            1
           ],
           "3": [
            "FUNCTION",
            "<lambda>()",
            1
           ],
           "4": [
            "FUNCTION",
            "g(y, z)",
            2
           ],
           "5": [
            "FUNCTION",
            "<lambda>()",
            2
           ]
          },
          "line": 2,
          "ordered_globals": [
           "f",
           "foo",
           "bar"
          ],
          "stack_to_render": [
           {
            "encoded_locals": {
             "__return__": [
              "REF",
              3
             ],
             "g": [
              "REF",
              2
             ],
             "x": 3
            },
            "frame_id": 1,
            "func_name": "f",
            "is_highlighted": false,
            "is_parent": true,
            "is_zombie": true,
            "ordered_varnames": [
             "x",
             "g",
             "__return__"
            ],
            "parent_frame_id_list": [],
            "unique_hash": "f_f1_p_z"
           },
           {
            "encoded_locals": {
             "__return__": [
              "REF",
              5
             ],
             "g": [
              "REF",
              4
             ],
             "x": 4
            },
            "frame_id": 2,
            "func_name": "f",
            "is_highlighted": false,
            "is_parent": true,
            "is_zombie": true,
            "ordered_varnames": [
             "x",
             "g",
             "__return__"
            ],
            "parent_frame_id_list": [],
            "unique_hash": "f_f2_p_z"
           },
           {
            "encoded_locals": {},
            "frame_id": 8,
            "func_name": "<lambda>",
            "is_highlighted": false,
            "is_parent": false,
            "is_zombie": false,
            "ordered_varnames": [],
            "parent_frame_id_list": [
             2
            ],
            "unique_hash": "<lambda>_f8"
           },
           {
            "encoded_locals": {
             "y": 0,
             "z": 4
            },
            "frame_id": 9,
            "func_name": "g",
            "is_highlighted": true,
            "is_parent": false,
            "is_zombie": false,
            "ordered_varnames": [
             "y",
             "z"
            ],
            "parent_frame_id_list": [
             2
            ],
            "unique_hash": "g_f9"
           }
          ],
          "stdout": ""
         },
         {
          "event": "step_line",
          "func_name": "g",
          "globals": {
           "bar": [
            "REF",
            5
           ],
           "f": [
            "REF",
            1
           ],
           "foo": [
            "REF",
            3
           ]
          },
          "heap": {
           "1": [
            "FUNCTION",
            "f(x)",
            null
           ],
           "2": [
            "FUNCTION",
            "g(y, z)",
            1
           ],
           "3": [
            "FUNCTION",
            "<lambda>()",
            1
           ],
           "4": [
            "FUNCTION",
            "g(y, z)",
            2
           ],
           "5": [
            "FUNCTION",
            "<lambda>()",
            2
           ]
          },
          "line": 3,
          "ordered_globals": [
           "f",
           "foo",
           "bar"
          ],
          "stack_to_render": [
           {
            "encoded_locals": {
             "__return__": [
              "REF",
              3
             ],
             "g": [
              "REF",
              2
             ],
             "x": 3
            },
            "frame_id": 1,
            "func_name": "f",
            "is_highlighted": false,
            "is_parent": true,
            "is_zombie": true,
            "ordered_varnames": [
             "x",
             "g",
             "__return__"
            ],
            "parent_frame_id_list": [],
            "unique_hash": "f_f1_p_z"
           },
           {
            "encoded_locals": {
             "__return__": [
              "REF",
              5
             ],
             "g": [
              "REF",
              4
             ],
             "x": 4
            },
            "frame_id": 2,
            "func_name": "f",
            "is_highlighted": false,
            "is_parent": true,
            "is_zombie": true,
            "ordered_varnames": [
             "x",
             "g",
             "__return__"
            ],
            "parent_frame_id_list": [],
            "unique_hash": "f_f2_p_z"
           },
           {
            "encoded_locals": {},
            "frame_id": 8,
            "func_name": "<lambda>",
            "is_highlighted": false,
            "is_parent": false,
            "is_zombie": false,
            "ordered_varnames": [],
            "parent_frame_id_list": [
             2
            ],
            "unique_hash": "<lambda>_f8"
           },
           {
            "encoded_locals": {
             "y": 0,
             "z": 4
            },
            "frame_id": 9,
            "func_name": "g",
            "is_highlighted": true,
            "is_parent": false,
            "is_zombie": false,
            "ordered_varnames": [
             "y",
             "z"
            ],
            "parent_frame_id_list": [
             2
            ],
            "unique_hash": "g_f9"
           }
          ],
          "stdout": ""
         },
         {
          "event": "step_line",
          "func_name": "g",
          "globals": {
           "bar": [
            "REF",
            5
           ],
           "f": [
            "REF",
            1
           ],
           "foo": [
            "REF",
            3
           ]
          },
          "heap": {
           "1": [
            "FUNCTION",
            "f(x)",
            null
           ],
           "2": [
            "FUNCTION",
            "g(y, z)",
            1
           ],
           "3": [
            "FUNCTION",
            "<lambda>()",
            1
           ],
           "4": [
            "FUNCTION",
            "g(y, z)",
            2
           ],
           "5": [
            "FUNCTION",
            "<lambda>()",
            2
           ]
          },
          "line": 5,
          "ordered_globals": [
           "f",
           "foo",
           "bar"
          ],
          "stack_to_render": [
           {
            "encoded_locals": {
             "__return__": [
              "REF",
              3
             ],
             "g": [
              "REF",
              2
             ],
             "x": 3
            },
            "frame_id": 1,
            "func_name": "f",
            "is_highlighted": false,
            "is_parent": true,
            "is_zombie": true,
            "ordered_varnames": [
             "x",
             "g",
             "__return__"
            ],
            "parent_frame_id_list": [],
            "unique_hash": "f_f1_p_z"
           },
           {
            "encoded_locals": {
             "__return__": [
              "REF",
              5
             ],
             "g": [
              "REF",
              4
             ],
             "x": 4
            },
            "frame_id": 2,
            "func_name": "f",
            "is_highlighted": false,
            "is_parent": true,
            "is_zombie": true,
            "ordered_varnames": [
             "x",
             "g",
             "__return__"
            ],
            "parent_frame_id_list": [],
            "unique_hash": "f_f2_p_z"
           },
           {
            "encoded_locals": {},
            "frame_id": 8,
            "func_name": "<lambda>",
            "is_highlighted": false,
            "is_parent": false,
            "is_zombie": false,
            "ordered_varnames": [],
            "parent_frame_id_list": [
             2
            ],
            "unique_hash": "<lambda>_f8"
           },
           {
            "encoded_locals": {
             "y": 0,
             "z": 4
            },
            "frame_id": 9,
            "func_name": "g",
            "is_highlighted": true,
            "is_parent": false,
            "is_zombie": false,
            "ordered_varnames": [
             "y",
             "z"
            ],
            "parent_frame_id_list": [
             2
            ],
            "unique_hash": "g_f9"
           }
          ],
          "stdout": ""
         },
         {
          "event": "call",
          "func_name": "g",
          "globals": {
           "bar": [
            "REF",
            5
           ],
           "f": [
            "REF",
            1
           ],
           "foo": [
            "REF",
            3
           ]
          },
          "heap": {
           "1": [
            "FUNCTION",
            "f(x)",
            null
           ],
           "2": [
            "FUNCTION",
            "g(y, z)",
            1
           ],
           "3": [
            "FUNCTION",
            "<lambda>()",
            1
           ],
           "4": [
            "FUNCTION",
            "g(y, z)",
            2
           ],
           "5": [
            "FUNCTION",
            "<lambda>()",
            2
           ]
          },
          "line": 2,
          "ordered_globals": [
           "f",
           "foo",
           "bar"
          ],
          "stack_to_render": [
           {
            "encoded_locals": {
             "__return__": [
              "REF",
              3
             ],
             "g": [
              "REF",
              2
             ],
             "x": 3
            },
            "frame_id": 1,
            "func_name": "f",
            "is_highlighted": false,
            "is_parent": true,
            "is_zombie": true,
            "ordered_varnames": [
             "x",
             "g",
             "__return__"
            ],
            "parent_frame_id_list": [],
            "unique_hash": "f_f1_p_z"
           },
           {
            "encoded_locals": {
             "__return__": [
              "REF",
              5
             ],
             "g": [
              "REF",
              4
             ],
             "x": 4
            },
            "frame_id": 2,
            "func_name": "f",
            "is_highlighted": false,
            "is_parent": true,
            "is_zombie": true,
            "ordered_varnames": [
             "x",
             "g",
             "__return__"
            ],
            "parent_frame_id_list": [],
            "unique_hash": "f_f2_p_z"
           },
           {
            "encoded_locals": {},
            "frame_id": 8,
            "func_name": "<lambda>",
            "is_highlighted": false,
            "is_parent": false,
            "is_zombie": false,
            "ordered_varnames": [],
            "parent_frame_id_list": [
             2
            ],
            "unique_hash": "<lambda>_f8"
           },
           {
            "encoded_locals": {
             "y": 0,
             "z": 4
            },
            "frame_id": 9,
            "func_name": "g",
            "is_highlighted": false,
            "is_parent": false,
            "is_zombie": false,
            "ordered_varnames": [
             "y",
             "z"
            ],
            "parent_frame_id_list": [
             2
            ],
            "unique_hash": "g_f9"
           },
           {
            "encoded_locals": {
             "y": 8,
             "z": 3
            },
            "frame_id": 10,
            "func_name": "g",
            "is_highlighted": true,
            "is_parent": false,
            "is_zombie": false,
            "ordered_varnames": [
             "y",
             "z"
            ],
            "parent_frame_id_list": [
             2
            ],
            "unique_hash": "g_f10"
           }
          ],
          "stdout": ""
         },
         {
          "event": "step_line",
          "func_name": "g",
          "globals": {
           "bar": [
            "REF",
            5
           ],
           "f": [
            "REF",
            1
           ],
           "foo": [
            "REF",
            3
           ]
          },
          "heap": {
           "1": [
            "FUNCTION",
            "f(x)",
            null
           ],
           "2": [
            "FUNCTION",
            "g(y, z)",
            1
           ],
           "3": [
            "FUNCTION",
            "<lambda>()",
            1
           ],
           "4": [
            "FUNCTION",
            "g(y, z)",
            2
           ],
           "5": [
            "FUNCTION",
            "<lambda>()",
            2
           ]
          },
          "line": 3,
          "ordered_globals": [
           "f",
           "foo",
           "bar"
          ],
          "stack_to_render": [
           {
            "encoded_locals": {
             "__return__": [
              "REF",
              3
             ],
             "g": [
              "REF",
              2
             ],
             "x": 3
            },
            "frame_id": 1,
            "func_name": "f",
            "is_highlighted": false,
            "is_parent": true,
            "is_zombie": true,
            "ordered_varnames": [
             "x",
             "g",
             "__return__"
            ],
            "parent_frame_id_list": [],
            "unique_hash": "f_f1_p_z"
           },
           {
            "encoded_locals": {
             "__return__": [
              "REF",
              5
             ],
             "g": [
              "REF",
              4
             ],
             "x": 4
            },
            "frame_id": 2,
            "func_name": "f",
            "is_highlighted": false,
            "is_parent": true,
            "is_zombie": true,
            "ordered_varnames": [
             "x",
             "g",
             "__return__"
            ],
            "parent_frame_id_list": [],
            "unique_hash": "f_f2_p_z"
           },
           {
            "encoded_locals": {},
            "frame_id": 8,
            "func_name": "<lambda>",
            "is_highlighted": false,
            "is_parent": false,
            "is_zombie": false,
            "ordered_varnames": [],
            "parent_frame_id_list": [
             2
            ],
            "unique_hash": "<lambda>_f8"
           },
           {
            "encoded_locals": {
             "y": 0,
             "z": 4
            },
            "frame_id": 9,
            "func_name": "g",
            "is_highlighted": false,
            "is_parent": false,
            "is_zombie": false,
            "ordered_varnames": [
             "y",
             "z"
            ],
            "parent_frame_id_list": [
             2
            ],
            "unique_hash": "g_f9"
           },
           {
            "encoded_locals": {
             "y": 8,
             "z": 3
            },
            "frame_id": 10,
            "func_name": "g",
            "is_highlighted": true,
            "is_parent": false,
            "is_zombie": false,
            "ordered_varnames": [
             "y",
             "z"
            ],
            "parent_frame_id_list": [
             2
            ],
            "unique_hash": "g_f10"
           }
          ],
          "stdout": ""
         },
         {
          "event": "step_line",
          "func_name": "g",
          "globals": {
           "bar": [
            "REF",
            5
           ],
           "f": [
            "REF",
            1
           ],
           "foo": [
            "REF",
            3
           ]
          },
          "heap": {
           "1": [
            "FUNCTION",
            "f(x)",
            null
           ],
           "2": [
            "FUNCTION",
            "g(y, z)",
            1
           ],
           "3": [
            "FUNCTION",
            "<lambda>()",
            1
           ],
           "4": [
            "FUNCTION",
            "g(y, z)",
            2
           ],
           "5": [
            "FUNCTION",
            "<lambda>()",
            2
           ]
          },
          "line": 5,
          "ordered_globals": [
           "f",
           "foo",
           "bar"
          ],
          "stack_to_render": [
           {
            "encoded_locals": {
             "__return__": [
              "REF",
              3
             ],
             "g": [
              "REF",
              2
             ],
             "x": 3
            },
            "frame_id": 1,
            "func_name": "f",
            "is_highlighted": false,
            "is_parent": true,
            "is_zombie": true,
            "ordered_varnames": [
             "x",
             "g",
             "__return__"
            ],
            "parent_frame_id_list": [],
            "unique_hash": "f_f1_p_z"
           },
           {
            "encoded_locals": {
             "__return__": [
              "REF",
              5
             ],
             "g": [
              "REF",
              4
             ],
             "x": 4
            },
            "frame_id": 2,
            "func_name": "f",
            "is_highlighted": false,
            "is_parent": true,
            "is_zombie": true,
            "ordered_varnames": [
             "x",
             "g",
             "__return__"
            ],
            "parent_frame_id_list": [],
            "unique_hash": "f_f2_p_z"
           },
           {
            "encoded_locals": {},
            "frame_id": 8,
            "func_name": "<lambda>",
            "is_highlighted": false,
            "is_parent": false,
            "is_zombie": false,
            "ordered_varnames": [],
            "parent_frame_id_list": [
             2
            ],
            "unique_hash": "<lambda>_f8"
           },
           {
            "encoded_locals": {
             "y": 0,
             "z": 4
            },
            "frame_id": 9,
            "func_name": "g",
            "is_highlighted": false,
            "is_parent": false,
            "is_zombie": false,
            "ordered_varnames": [
             "y",
             "z"
            ],
            "parent_frame_id_list": [
             2
            ],
            "unique_hash": "g_f9"
           },
           {
            "encoded_locals": {
             "y": 8,
             "z": 3
            },
            "frame_id": 10,
            "func_name": "g",
            "is_highlighted": true,
            "is_parent": false,
            "is_zombie": false,
            "ordered_varnames": [
             "y",
             "z"
            ],
            "parent_frame_id_list": [
             2
            ],
            "unique_hash": "g_f10"
           }
          ],
          "stdout": ""
         },
         {
          "event": "call",
          "func_name": "g",
          "globals": {
           "bar": [
            "REF",
            5
           ],
           "f": [
            "REF",
            1
           ],
           "foo": [
            "REF",
            3
           ]
          },
          "heap": {
           "1": [
            "FUNCTION",
            "f(x)",
            null
           ],
           "2": [
            "FUNCTION",
            "g(y, z)",
            1
           ],
           "3": [
            "FUNCTION",
            "<lambda>()",
            1
           ],
           "4": [
            "FUNCTION",
            "g(y, z)",
            2
           ],
           "5": [
            "FUNCTION",
            "<lambda>()",
            2
           ]
          },
          "line": 2,
          "ordered_globals": [
           "f",
           "foo",
           "bar"
          ],
          "stack_to_render": [
           {
            "encoded_locals": {
             "__return__": [
              "REF",
              3
             ],
             "g": [
              "REF",
              2
             ],
             "x": 3
            },
            "frame_id": 1,
            "func_name": "f",
            "is_highlighted": false,
            "is_parent": true,
            "is_zombie": true,
            "ordered_varnames": [
             "x",
             "g",
             "__return__"
            ],
            "parent_frame_id_list": [],
            "unique_hash": "f_f1_p_z"
           },
           {
            "encoded_locals": {
             "__return__": [
              "REF",
              5
             ],
             "g": [
              "REF",
              4
             ],
             "x": 4
            },
            "frame_id": 2,
            "func_name": "f",
            "is_highlighted": false,
            "is_parent": true,
            "is_zombie": true,
            "ordered_varnames": [
             "x",
             "g",
             "__return__"
            ],
            "parent_frame_id_list": [],
            "unique_hash": "f_f2_p_z"
           },
           {
            "encoded_locals": {},
            "frame_id": 8,
            "func_name": "<lambda>",
            "is_highlighted": false,
            "is_parent": false,
            "is_zombie": false,
            "ordered_varnames": [],
            "parent_frame_id_list": [
             2
            ],
            "unique_hash": "<lambda>_f8"
           },
           {
            "encoded_locals": {
             "y": 0,
             "z": 4
            },
            "frame_id": 9,
            "func_name": "g",
            "is_highlighted": false,
            "is_parent": false,
            "is_zombie": false,
            "ordered_varnames": [
             "y",
             "z"
            ],
            "parent_frame_id_list": [
             2
            ],
            "unique_hash": "g_f9"
           },
           {
            "encoded_locals": {
             "y": 8,
             "z": 3
            },
            "frame_id": 10,
            "func_name": "g",
            "is_highlighted": false,
            "is_parent": false,
            "is_zombie": false,
            "ordered_varnames": [
             "y",
             "z"
            ],
            "parent_frame_id_list": [
             2
            ],
            "unique_hash": "g_f10"
           },
           {
            "encoded_locals": {
             "y": 15,
             "z": 2
            },
            "frame_id": 11,
            "func_name": "g",
            "is_highlighted": true,
            "is_parent": false,
            "is_zombie": false,
            "ordered_varnames": [
             "y",
             "z"
            ],
            "parent_frame_id_list": [
             2
            ],
            "unique_hash": "g_f11"
           }
          ],
          "stdout": ""
         },
         {
          "event": "step_line",
          "func_name": "g",
          "globals": {
           "bar": [
            "REF",
            5
           ],
           "f": [
            "REF",
            1
           ],
           "foo": [
            "REF",
            3
           ]
          },
          "heap": {
           "1": [
            "FUNCTION",
            "f(x)",
            null
           ],
           "2": [
            "FUNCTION",
            "g(y, z)",
            1
           ],
           "3": [
            "FUNCTION",
            "<lambda>()",
            1
           ],
           "4": [
            "FUNCTION",
            "g(y, z)",
            2
           ],
           "5": [
            "FUNCTION",
            "<lambda>()",
            2
           ]
          },
          "line": 3,
          "ordered_globals": [
           "f",
           "foo",
           "bar"
          ],
          "stack_to_render": [
           {
            "encoded_locals": {
             "__return__": [
              "REF",
              3
             ],
             "g": [
              "REF",
              2
             ],
             "x": 3
            },
            "frame_id": 1,
            "func_name": "f",
            "is_highlighted": false,
            "is_parent": true,
            "is_zombie": true,
            "ordered_varnames": [
             "x",
             "g",
             "__return__"
            ],
            "parent_frame_id_list": [],
            "unique_hash": "f_f1_p_z"
           },
           {
            "encoded_locals": {
             "__return__": [
              "REF",
              5
             ],
             "g": [
              "REF",
              4
             ],
             "x": 4
            },
            "frame_id": 2,
            "func_name": "f",
            "is_highlighted": false,
            "is_parent": true,
            "is_zombie": true,
            "ordered_varnames": [
             "x",
             "g",
             "__return__"
            ],
            "parent_frame_id_list": [],
            "unique_hash": "f_f2_p_z"
           },
           {
            "encoded_locals": {},
            "frame_id": 8,
            "func_name": "<lambda>",
            "is_highlighted": false,
            "is_parent": false,
            "is_zombie": false,
            "ordered_varnames": [],
            "parent_frame_id_list": [
             2
            ],
            "unique_hash": "<lambda>_f8"
           },
           {
            "encoded_locals": {
             "y": 0,
             "z": 4
            },
            "frame_id": 9,
            "func_name": "g",
            "is_highlighted": false,
            "is_parent": false,
            "is_zombie": false,
            "ordered_varnames": [
             "y",
             "z"
            ],
            "parent_frame_id_list": [
             2
            ],
            "unique_hash": "g_f9"
           },
           {
            "encoded_locals": {
             "y": 8,
             "z": 3
            },
            "frame_id": 10,
            "func_name": "g",
            "is_highlighted": false,
            "is_parent": false,
            "is_zombie": false,
            "ordered_varnames": [
             "y",
             "z"
            ],
            "parent_frame_id_list": [
             2
            ],
            "unique_hash": "g_f10"
           },
           {
            "encoded_locals": {
             "y": 15,
             "z": 2
            },
            "frame_id": 11,
            "func_name": "g",
            "is_highlighted": true,
            "is_parent": false,
            "is_zombie": false,
            "ordered_varnames": [
             "y",
             "z"
            ],
            "parent_frame_id_list": [
             2
            ],
            "unique_hash": "g_f11"
           }
          ],
          "stdout": ""
         },
         {
          "event": "step_line",
          "func_name": "g",
          "globals": {
           "bar": [
            "REF",
            5
           ],
           "f": [
            "REF",
            1
           ],
           "foo": [
            "REF",
            3
           ]
          },
          "heap": {
           "1": [
            "FUNCTION",
            "f(x)",
            null
           ],
           "2": [
            "FUNCTION",
            "g(y, z)",
            1
           ],
           "3": [
            "FUNCTION",
            "<lambda>()",
            1
           ],
           "4": [
            "FUNCTION",
            "g(y, z)",
            2
           ],
           "5": [
            "FUNCTION",
            "<lambda>()",
            2
           ]
          },
          "line": 5,
          "ordered_globals": [
           "f",
           "foo",
           "bar"
          ],
          "stack_to_render": [
           {
            "encoded_locals": {
             "__return__": [
              "REF",
              3
             ],
             "g": [
              "REF",
              2
             ],
             "x": 3
            },
            "frame_id": 1,
            "func_name": "f",
            "is_highlighted": false,
            "is_parent": true,
            "is_zombie": true,
            "ordered_varnames": [
             "x",
             "g",
             "__return__"
            ],
            "parent_frame_id_list": [],
            "unique_hash": "f_f1_p_z"
           },
           {
            "encoded_locals": {
             "__return__": [
              "REF",
              5
             ],
             "g": [
              "REF",
              4
             ],
             "x": 4
            },
            "frame_id": 2,
            "func_name": "f",
            "is_highlighted": false,
            "is_parent": true,
            "is_zombie": true,
            "ordered_varnames": [
             "x",
             "g",
             "__return__"
            ],
            "parent_frame_id_list": [],
            "unique_hash": "f_f2_p_z"
           },
           {
            "encoded_locals": {},
            "frame_id": 8,
            "func_name": "<lambda>",
            "is_highlighted": false,
            "is_parent": false,
            "is_zombie": false,
            "ordered_varnames": [],
            "parent_frame_id_list": [
             2
            ],
            "unique_hash": "<lambda>_f8"
           },
           {
            "encoded_locals": {
             "y": 0,
             "z": 4
            },
            "frame_id": 9,
            "func_name": "g",
            "is_highlighted": false,
            "is_parent": false,
            "is_zombie": false,
            "ordered_varnames": [
             "y",
             "z"
            ],
            "parent_frame_id_list": [
             2
            ],
            "unique_hash": "g_f9"
           },
           {
            "encoded_locals": {
             "y": 8,
             "z": 3
            },
            "frame_id": 10,
            "func_name": "g",
            "is_highlighted": false,
            "is_parent": false,
            "is_zombie": false,
            "ordered_varnames": [
             "y",
             "z"
            ],
            "parent_frame_id_list": [
             2
            ],
            "unique_hash": "g_f10"
           },
           {
            "encoded_locals": {
             "y": 15,
             "z": 2
            },
            "frame_id": 11,
            "func_name": "g",
            "is_highlighted": true,
            "is_parent": false,
            "is_zombie": false,
            "ordered_varnames": [
             "y",
             "z"
            ],
            "parent_frame_id_list": [
             2
            ],
            "unique_hash": "g_f11"
           }
          ],
          "stdout": ""
         },
         {
          "event": "call",
          "func_name": "g",
          "globals": {
           "bar": [
            "REF",
            5
           ],
           "f": [
            "REF",
            1
           ],
           "foo": [
            "REF",
            3
           ]
          },
          "heap": {
           "1": [
            "FUNCTION",
            "f(x)",
            null
           ],
           "2": [
            "FUNCTION",
            "g(y, z)",
            1
           ],
           "3": [
            "FUNCTION",
            "<lambda>()",
            1
           ],
           "4": [
            "FUNCTION",
            "g(y, z)",
            2
           ],
           "5": [
            "FUNCTION",
            "<lambda>()",
            2
           ]
          },
          "line": 2,
          "ordered_globals": [
           "f",
           "foo",
           "bar"
          ],
          "stack_to_render": [
           {
            "encoded_locals": {
             "__return__": [
              "REF",
              3
             ],
             "g": [
              "REF",
              2
             ],
             "x": 3
            },
            "frame_id": 1,
            "func_name": "f",
            "is_highlighted": false,
            "is_parent": true,
            "is_zombie": true,
            "ordered_varnames": [
             "x",
             "g",
             "__return__"
            ],
            "parent_frame_id_list": [],
            "unique_hash": "f_f1_p_z"
           },
           {
            "encoded_locals": {
             "__return__": [
              "REF",
              5
             ],
             "g": [
              "REF",
              4
             ],
             "x": 4
            },
            "frame_id": 2,
            "func_name": "f",
            "is_highlighted": false,
            "is_parent": true,
            "is_zombie": true,
            "ordered_varnames": [
             "x",
             "g",
             "__return__"
            ],
            "parent_frame_id_list": [],
            "unique_hash": "f_f2_p_z"
           },
           {
            "encoded_locals": {},
            "frame_id": 8,
            "func_name": "<lambda>",
            "is_highlighted": false,
            "is_parent": false,
            "is_zombie": false,
            "ordered_varnames": [],
            "parent_frame_id_list": [
             2
            ],
            "unique_hash": "<lambda>_f8"
           },
           {
            "encoded_locals": {
             "y": 0,
             "z": 4
            },
            "frame_id": 9,
            "func_name": "g",
            "is_highlighted": false,
            "is_parent": false,
            "is_zombie": false,
            "ordered_varnames": [
             "y",
             "z"
            ],
            "parent_frame_id_list": [
             2
            ],
            "unique_hash": "g_f9"
           },
           {
            "encoded_locals": {
             "y": 8,
             "z": 3
            },
            "frame_id": 10,
            "func_name": "g",
            "is_highlighted": false,
            "is_parent": false,
            "is_zombie": false,
            "ordered_varnames": [
             "y",
             "z"
            ],
            "parent_frame_id_list": [
             2
            ],
            "unique_hash": "g_f10"
           },
           {
            "encoded_locals": {
             "y": 15,
             "z": 2
            },
            "frame_id": 11,
            "func_name": "g",
            "is_highlighted": false,
            "is_parent": false,
            "is_zombie": false,
            "ordered_varnames": [
             "y",
             "z"
            ],
            "parent_frame_id_list": [
             2
            ],
            "unique_hash": "g_f11"
           },
           {
            "encoded_locals": {
             "y": 21,
             "z": 1
            },
            "frame_id": 12,
            "func_name": "g",
            "is_highlighted": true,
            "is_parent": false,
            "is_zombie": false,
            "ordered_varnames": [
             "y",
             "z"
            ],
            "parent_frame_id_list": [
             2
            ],
            "unique_hash": "g_f12"
           }
          ],
          "stdout": ""
         },
         {
          "event": "step_line",
          "func_name": "g",
          "globals": {
           "bar": [
            "REF",
            5
           ],
           "f": [
            "REF",
            1
           ],
           "foo": [
            "REF",
            3
           ]
          },
          "heap": {
           "1": [
            "FUNCTION",
            "f(x)",
            null
           ],
           "2": [
            "FUNCTION",
            "g(y, z)",
            1
           ],
           "3": [
            "FUNCTION",
            "<lambda>()",
            1
           ],
           "4": [
            "FUNCTION",
            "g(y, z)",
            2
           ],
           "5": [
            "FUNCTION",
            "<lambda>()",
            2
           ]
          },
          "line": 3,
          "ordered_globals": [
           "f",
           "foo",
           "bar"
          ],
          "stack_to_render": [
           {
            "encoded_locals": {
             "__return__": [
              "REF",
              3
             ],
             "g": [
              "REF",
              2
             ],
             "x": 3
            },
            "frame_id": 1,
            "func_name": "f",
            "is_highlighted": false,
            "is_parent": true,
            "is_zombie": true,
            "ordered_varnames": [
             "x",
             "g",
             "__return__"
            ],
            "parent_frame_id_list": [],
            "unique_hash": "f_f1_p_z"
           },
           {
            "encoded_locals": {
             "__return__": [
              "REF",
              5
             ],
             "g": [
              "REF",
              4
             ],
             "x": 4
            },
            "frame_id": 2,
            "func_name": "f",
            "is_highlighted": false,
            "is_parent": true,
            "is_zombie": true,
            "ordered_varnames": [
             "x",
             "g",
             "__return__"
            ],
            "parent_frame_id_list": [],
            "unique_hash": "f_f2_p_z"
           },
           {
            "encoded_locals": {},
            "frame_id": 8,
            "func_name": "<lambda>",
            "is_highlighted": false,
            "is_parent": false,
            "is_zombie": false,
            "ordered_varnames": [],
            "parent_frame_id_list": [
             2
            ],
            "unique_hash": "<lambda>_f8"
           },
           {
            "encoded_locals": {
             "y": 0,
             "z": 4
            },
            "frame_id": 9,
            "func_name": "g",
            "is_highlighted": false,
            "is_parent": false,
            "is_zombie": false,
            "ordered_varnames": [
             "y",
             "z"
            ],
            "parent_frame_id_list": [
             2
            ],
            "unique_hash": "g_f9"
           },
           {
            "encoded_locals": {
             "y": 8,
             "z": 3
            },
            "frame_id": 10,
            "func_name": "g",
            "is_highlighted": false,
            "is_parent": false,
            "is_zombie": false,
            "ordered_varnames": [
             "y",
             "z"
            ],
            "parent_frame_id_list": [
             2
            ],
            "unique_hash": "g_f10"
           },
           {
            "encoded_locals": {
             "y": 15,
             "z": 2
            },
            "frame_id": 11,
            "func_name": "g",
            "is_highlighted": false,
            "is_parent": false,
            "is_zombie": false,
            "ordered_varnames": [
             "y",
             "z"
            ],
            "parent_frame_id_list": [
             2
            ],
            "unique_hash": "g_f11"
           },
           {
            "encoded_locals": {
             "y": 21,
             "z": 1
            },
            "frame_id": 12,
            "func_name": "g",
            "is_highlighted": true,
            "is_parent": false,
            "is_zombie": false,
            "ordered_varnames": [
             "y",
             "z"
            ],
            "parent_frame_id_list": [
             2
            ],
            "unique_hash": "g_f12"
           }
          ],
          "stdout": ""
         },
         {
          "event": "step_line",
          "func_name": "g",
          "globals": {
           "bar": [
            "REF",
            5
           ],
           "f": [
            "REF",
            1
           ],
           "foo": [
            "REF",
            3
           ]
          },
          "heap": {
           "1": [
            "FUNCTION",
            "f(x)",
            null
           ],
           "2": [
            "FUNCTION",
            "g(y, z)",
            1
           ],
           "3": [
            "FUNCTION",
            "<lambda>()",
            1
           ],
           "4": [
            "FUNCTION",
            "g(y, z)",
            2
           ],
           "5": [
            "FUNCTION",
            "<lambda>()",
            2
           ]
          },
          "line": 5,
          "ordered_globals": [
           "f",
           "foo",
           "bar"
          ],
          "stack_to_render": [
           {
            "encoded_locals": {
             "__return__": [
              "REF",
              3
             ],
             "g": [
              "REF",
              2
             ],
             "x": 3
            },
            "frame_id": 1,
            "func_name": "f",
            "is_highlighted": false,
            "is_parent": true,
            "is_zombie": true,
            "ordered_varnames": [
             "x",
             "g",
             "__return__"
            ],
            "parent_frame_id_list": [],
            "unique_hash": "f_f1_p_z"
           },
           {
            "encoded_locals": {
             "__return__": [
              "REF",
              5
             ],
             "g": [
              "REF",
              4
             ],
             "x": 4
            },
            "frame_id": 2,
            "func_name": "f",
            "is_highlighted": false,
            "is_parent": true,
            "is_zombie": true,
            "ordered_varnames": [
             "x",
             "g",
             "__return__"
            ],
            "parent_frame_id_list": [],
            "unique_hash": "f_f2_p_z"
           },
           {
            "encoded_locals": {},
            "frame_id": 8,
            "func_name": "<lambda>",
            "is_highlighted": false,
            "is_parent": false,
            "is_zombie": false,
            "ordered_varnames": [],
            "parent_frame_id_list": [
             2
            ],
            "unique_hash": "<lambda>_f8"
           },
           {
            "encoded_locals": {
             "y": 0,
             "z": 4
            },
            "frame_id": 9,
            "func_name": "g",
            "is_highlighted": false,
            "is_parent": false,
            "is_zombie": false,
            "ordered_varnames": [
             "y",
             "z"
            ],
            "parent_frame_id_list": [
             2
            ],
            "unique_hash": "g_f9"
           },
           {
            "encoded_locals": {
             "y": 8,
             "z": 3
            },
            "frame_id": 10,
            "func_name": "g",
            "is_highlighted": false,
            "is_parent": false,
            "is_zombie": false,
            "ordered_varnames": [
             "y",
             "z"
            ],
            "parent_frame_id_list": [
             2
            ],
            "unique_hash": "g_f10"
           },
           {
            "encoded_locals": {
             "y": 15,
             "z": 2
            },
            "frame_id": 11,
            "func_name": "g",
            "is_highlighted": false,
            "is_parent": false,
            "is_zombie": false,
            "ordered_varnames": [
             "y",
             "z"
            ],
            "parent_frame_id_list": [
             2
            ],
            "unique_hash": "g_f11"
           },
           {
            "encoded_locals": {
             "y": 21,
             "z": 1
            },
            "frame_id": 12,
            "func_name": "g",
            "is_highlighted": true,
            "is_parent": false,
            "is_zombie": false,
            "ordered_varnames": [
             "y",
             "z"
            ],
            "parent_frame_id_list": [
             2
            ],
            "unique_hash": "g_f12"
           }
          ],
          "stdout": ""
         },
         {
          "event": "call",
          "func_name": "g",
          "globals": {
           "bar": [
            "REF",
            5
           ],
           "f": [
            "REF",
            1
           ],
           "foo": [
            "REF",
            3
           ]
          },
          "heap": {
           "1": [
            "FUNCTION",
            "f(x)",
            null
           ],
           "2": [
            "FUNCTION",
            "g(y, z)",
            1
           ],
           "3": [
            "FUNCTION",
            "<lambda>()",
            1
           ],
           "4": [
            "FUNCTION",
            "g(y, z)",
            2
           ],
           "5": [
            "FUNCTION",
            "<lambda>()",
            2
           ]
          },
          "line": 2,
          "ordered_globals": [
           "f",
           "foo",
           "bar"
          ],
          "stack_to_render": [
           {
            "encoded_locals": {
             "__return__": [
              "REF",
              3
             ],
             "g": [
              "REF",
              2
             ],
             "x": 3
            },
            "frame_id": 1,
            "func_name": "f",
            "is_highlighted": false,
            "is_parent": true,
            "is_zombie": true,
            "ordered_varnames": [
             "x",
             "g",
             "__return__"
            ],
            "parent_frame_id_list": [],
            "unique_hash": "f_f1_p_z"
           },
           {
            "encoded_locals": {
             "__return__": [
              "REF",
              5
             ],
             "g": [
              "REF",
              4
             ],
             "x": 4
            },
            "frame_id": 2,
            "func_name": "f",
            "is_highlighted": false,
            "is_parent": true,
            "is_zombie": true,
            "ordered_varnames": [
             "x",
             "g",
             "__return__"
            ],
            "parent_frame_id_list": [],
            "unique_hash": "f_f2_p_z"
           },
           {
            "encoded_locals": {},
            "frame_id": 8,
            "func_name": "<lambda>",
            "is_highlighted": false,
            "is_parent": false,
            "is_zombie": false,
            "ordered_varnames": [],
            "parent_frame_id_list": [
             2
            ],
            "unique_hash": "<lambda>_f8"
           },
           {
            "encoded_locals": {
             "y": 0,
             "z": 4
            },
            "frame_id": 9,
            "func_name": "g",
            "is_highlighted": false,
            "is_parent": false,
            "is_zombie": false,
            "ordered_varnames": [
             "y",
             "z"
            ],
            "parent_frame_id_list": [
             2
            ],
            "unique_hash": "g_f9"
           },
           {
            "encoded_locals": {
             "y": 8,
             "z": 3
            },
            "frame_id": 10,
            "func_name": "g",
            "is_highlighted": false,
            "is_parent": false,
            "is_zombie": false,
            "ordered_varnames": [
             "y",
             "z"
            ],
            "parent_frame_id_list": [
             2
            ],
            "unique_hash": "g_f10"
           },
           {
            "encoded_locals": {
             "y": 15,
             "z": 2
            },
            "frame_id": 11,
            "func_name": "g",
            "is_highlighted": false,
            "is_parent": false,
            "is_zombie": false,
            "ordered_varnames": [
             "y",
             "z"
            ],
            "parent_frame_id_list": [
             2
            ],
            "unique_hash": "g_f11"
           },
           {
            "encoded_locals": {
             "y": 21,
             "z": 1
            },
            "frame_id": 12,
            "func_name": "g",
            "is_highlighted": false,
            "is_parent": false,
            "is_zombie": false,
            "ordered_varnames": [
             "y",
             "z"
            ],
            "parent_frame_id_list": [
             2
            ],
            "unique_hash": "g_f12"
           },
           {
            "encoded_locals": {
             "y": 26,
             "z": 0
            },
            "frame_id": 13,
            "func_name": "g",
            "is_highlighted": true,
            "is_parent": false,
            "is_zombie": false,
            "ordered_varnames": [
             "y",
             "z"
            ],
            "parent_frame_id_list": [
             2
            ],
            "unique_hash": "g_f13"
           }
          ],
          "stdout": ""
         },
         {
          "event": "step_line",
          "func_name": "g",
          "globals": {
           "bar": [
            "REF",
            5
           ],
           "f": [
            "REF",
            1
           ],
           "foo": [
            "REF",
            3
           ]
          },
          "heap": {
           "1": [
            "FUNCTION",
            "f(x)",
            null
           ],
           "2": [
            "FUNCTION",
            "g(y, z)",
            1
           ],
           "3": [
            "FUNCTION",
            "<lambda>()",
            1
           ],
           "4": [
            "FUNCTION",
            "g(y, z)",
            2
           ],
           "5": [
            "FUNCTION",
            "<lambda>()",
            2
           ]
          },
          "line": 3,
          "ordered_globals": [
           "f",
           "foo",
           "bar"
          ],
          "stack_to_render": [
           {
            "encoded_locals": {
             "__return__": [
              "REF",
              3
             ],
             "g": [
              "REF",
              2
             ],
             "x": 3
            },
            "frame_id": 1,
            "func_name": "f",
            "is_highlighted": false,
            "is_parent": true,
            "is_zombie": true,
            "ordered_varnames": [
             "x",
             "g",
             "__return__"
            ],
            "parent_frame_id_list": [],
            "unique_hash": "f_f1_p_z"
           },
           {
            "encoded_locals": {
             "__return__": [
              "REF",
              5
             ],
             "g": [
              "REF",
              4
             ],
             "x": 4
            },
            "frame_id": 2,
            "func_name": "f",
            "is_highlighted": false,
            "is_parent": true,
            "is_zombie": true,
            "ordered_varnames": [
             "x",
             "g",
             "__return__"
            ],
            "parent_frame_id_list": [],
            "unique_hash": "f_f2_p_z"
           },
           {
            "encoded_locals": {},
            "frame_id": 8,
            "func_name": "<lambda>",
            "is_highlighted": false,
            "is_parent": false,
            "is_zombie": false,
            "ordered_varnames": [],
            "parent_frame_id_list": [
             2
            ],
            "unique_hash": "<lambda>_f8"
           },
           {
            "encoded_locals": {
             "y": 0,
             "z": 4
            },
            "frame_id": 9,
            "func_name": "g",
            "is_highlighted": false,
            "is_parent": false,
            "is_zombie": false,
            "ordered_varnames": [
             "y",
             "z"
            ],
            "parent_frame_id_list": [
             2
            ],
            "unique_hash": "g_f9"
           },
           {
            "encoded_locals": {
             "y": 8,
             "z": 3
            },
            "frame_id": 10,
            "func_name": "g",
            "is_highlighted": false,
            "is_parent": false,
            "is_zombie": false,
            "ordered_varnames": [
             "y",
             "z"
            ],
            "parent_frame_id_list": [
             2
            ],
            "unique_hash": "g_f10"
           },
           {
            "encoded_locals": {
             "y": 15,
             "z": 2
            },
            "frame_id": 11,
            "func_name": "g",
            "is_highlighted": false,
            "is_parent": false,
            "is_zombie": false,
            "ordered_varnames": [
             "y",
             "z"
            ],
            "parent_frame_id_list": [
             2
            ],
            "unique_hash": "g_f11"
           },
           {
            "encoded_locals": {
             "y": 21,
             "z": 1
            },
            "frame_id": 12,
            "func_name": "g",
            "is_highlighted": false,
            "is_parent": false,
            "is_zombie": false,
            "ordered_varnames": [
             "y",
             "z"
            ],
            "parent_frame_id_list": [
             2
            ],
            "unique_hash": "g_f12"
           },
           {
            "encoded_locals": {
             "y": 26,
             "z": 0
            },
            "frame_id": 13,
            "func_name": "g",
            "is_highlighted": true,
            "is_parent": false,
            "is_zombie": false,
            "ordered_varnames": [
             "y",
             "z"
            ],
            "parent_frame_id_list": [
             2
            ],
            "unique_hash": "g_f13"
           }
          ],
          "stdout": ""
         },
         {
          "event": "step_line",
          "func_name": "g",
          "globals": {
           "bar": [
            "REF",
            5
           ],
           "f": [
            "REF",
            1
           ],
           "foo": [
            "REF",
            3
           ]
          },
          "heap": {
           "1": [
            "FUNCTION",
            "f(x)",
            null
           ],
           "2": [
            "FUNCTION",
            "g(y, z)",
            1
           ],
           "3": [
            "FUNCTION",
            "<lambda>()",
            1
           ],
           "4": [
            "FUNCTION",
            "g(y, z)",
            2
           ],
           "5": [
            "FUNCTION",
            "<lambda>()",
            2
           ]
          },
          "line": 4,
          "ordered_globals": [
           "f",
           "foo",
           "bar"
          ],
          "stack_to_render": [
           {
            "encoded_locals": {
             "__return__": [
              "REF",
              3
             ],
             "g": [
              "REF",
              2
             ],
             "x": 3
            },
            "frame_id": 1,
            "func_name": "f",
            "is_highlighted": false,
            "is_parent": true,
            "is_zombie": true,
            "ordered_varnames": [
             "x",
             "g",
             "__return__"
            ],
            "parent_frame_id_list": [],
            "unique_hash": "f_f1_p_z"
           },
           {
            "encoded_locals": {
             "__return__": [
              "REF",
              5
             ],
             "g": [
              "REF",
              4
             ],
             "x": 4
            },
            "frame_id": 2,
            "func_name": "f",
            "is_highlighted": false,
            "is_parent": true,
            "is_zombie": true,
            "ordered_varnames": [
             "x",
             "g",
             "__return__"
            ],
            "parent_frame_id_list": [],
            "unique_hash": "f_f2_p_z"
           },
           {
            "encoded_locals": {},
            "frame_id": 8,
            "func_name": "<lambda>",
            "is_highlighted": false,
            "is_parent": false,
            "is_zombie": false,
            "ordered_varnames": [],
            "parent_frame_id_list": [
             2
            ],
            "unique_hash": "<lambda>_f8"
           },
           {
            "encoded_locals": {
             "y": 0,
             "z": 4
            },
            "frame_id": 9,
            "func_name": "g",
            "is_highlighted": false,
            "is_parent": false,
            "is_zombie": false,
            "ordered_varnames": [
             "y",
             "z"
            ],
            "parent_frame_id_list": [
             2
            ],
            "unique_hash": "g_f9"
           },
           {
            "encoded_locals": {
             "y": 8,
             "z": 3
            },
            "frame_id": 10,
            "func_name": "g",
            "is_highlighted": false,
            "is_parent": false,
            "is_zombie": false,
            "ordered_varnames": [
             "y",
             "z"
            ],
            "parent_frame_id_list": [
             2
            ],
            "unique_hash": "g_f10"
           },
           {
            "encoded_locals": {
             "y": 15,
             "z": 2
            },
            "frame_id": 11,
            "func_name": "g",
            "is_highlighted": false,
            "is_parent": false,
            "is_zombie": false,
            "ordered_varnames": [
             "y",
             "z"
            ],
            "parent_frame_id_list": [
             2
            ],
            "unique_hash": "g_f11"
           },
           {
            "encoded_locals": {
             "y": 21,
             "z": 1
            },
            "frame_id": 12,
            "func_name": "g",
            "is_highlighted": false,
            "is_parent": false,
            "is_zombie": false,
            "ordered_varnames": [
             "y",
             "z"
            ],
            "parent_frame_id_list": [
             2
            ],
            "unique_hash": "g_f12"
           },
           {
            "encoded_locals": {
             "y": 26,
             "z": 0
            },
            "frame_id": 13,
            "func_name": "g",
            "is_highlighted": true,
            "is_parent": false,
            "is_zombie": false,
            "ordered_varnames": [
             "y",
             "z"
            ],
            "parent_frame_id_list": [
             2
            ],
            "unique_hash": "g_f13"
           }
          ],
          "stdout": ""
         },
         {
          "event": "return",
          "func_name": "g",
          "globals": {
           "bar": [
            "REF",
            5
           ],
           "f": [
            "REF",
            1
           ],
           "foo": [
            "REF",
            3
           ]
          },
          "heap": {
           "1": [
            "FUNCTION",
            "f(x)",
            null
           ],
           "2": [
            "FUNCTION",
            "g(y, z)",
            1
           ],
           "3": [
            "FUNCTION",
            "<lambda>()",
            1
           ],
           "4": [
            "FUNCTION",
            "g(y, z)",
            2
           ],
           "5": [
            "FUNCTION",
            "<lambda>()",
            2
           ]
          },
          "line": 4,
          "ordered_globals": [
           "f",
           "foo",
           "bar"
          ],
          "stack_to_render": [
           {
            "encoded_locals": {
             "__return__": [
              "REF",
              3
             ],
             "g": [
              "REF",
              2
             ],
             "x": 3
            },
            "frame_id": 1,
            "func_name": "f",
            "is_highlighted": false,
            "is_parent": true,
            "is_zombie": true,
            "ordered_varnames": [
             "x",
             "g",
             "__return__"
            ],
            "parent_frame_id_list": [],
            "unique_hash": "f_f1_p_z"
           },
           {
            "encoded_locals": {
             "__return__": [
              "REF",
              5
             ],
             "g": [
              "REF",
              4
             ],
             "x": 4
            },
            "frame_id": 2,
            "func_name": "f",
            "is_highlighted": false,
            "is_parent": true,
            "is_zombie": true,
            "ordered_varnames": [
             "x",
             "g",
             "__return__"
            ],
            "parent_frame_id_list": [],
            "unique_hash": "f_f2_p_z"
           },
           {
            "encoded_locals": {},
            "frame_id": 8,
            "func_name": "<lambda>",
            "is_highlighted": false,
            "is_parent": false,
            "is_zombie": false,
            "ordered_varnames": [],
            "parent_frame_id_list": [
             2
            ],
            "unique_hash": "<lambda>_f8"
           },
           {
            "encoded_locals": {
             "y": 0,
             "z": 4
            },
            "frame_id": 9,
            "func_name": "g",
            "is_highlighted": false,
            "is_parent": false,
            "is_zombie": false,
            "ordered_varnames": [
             "y",
             "z"
            ],
            "parent_frame_id_list": [
             2
            ],
            "unique_hash": "g_f9"
           },
           {
            "encoded_locals": {
             "y": 8,
             "z": 3
            },
            "frame_id": 10,
            "func_name": "g",
            "is_highlighted": false,
            "is_parent": false,
            "is_zombie": false,
            "ordered_varnames": [
             "y",
             "z"
            ],
            "parent_frame_id_list": [
             2
            ],
            "unique_hash": "g_f10"
           },
           {
            "encoded_locals": {
             "y": 15,
             "z": 2
            },
            "frame_id": 11,
            "func_name": "g",
            "is_highlighted": false,
            "is_parent": false,
            "is_zombie": false,
            "ordered_varnames": [
             "y",
             "z"
            ],
            "parent_frame_id_list": [
             2
            ],
            "unique_hash": "g_f11"
           },
           {
            "encoded_locals": {
             "y": 21,
             "z": 1
            },
            "frame_id": 12,
            "func_name": "g",
            "is_highlighted": false,
            "is_parent": false,
            "is_zombie": false,
            "ordered_varnames": [
             "y",
             "z"
            ],
            "parent_frame_id_list": [
             2
            ],
            "unique_hash": "g_f12"
           },
           {
            "encoded_locals": {
             "__return__": 26,
             "y": 26,
             "z": 0
            },
            "frame_id": 13,
            "func_name": "g",
            "is_highlighted": true,
            "is_parent": false,
            "is_zombie": false,
            "ordered_varnames": [
             "y",
             "z",
             "__return__"
            ],
            "parent_frame_id_list": [
             2
            ],
            "unique_hash": "g_f13"
           }
          ],
          "stdout": ""
         },
         {
          "event": "return",
          "func_name": "g",
          "globals": {
           "bar": [
            "REF",
            5
           ],
           "f": [
            "REF",
            1
           ],
           "foo": [
            "REF",
            3
           ]
          },
          "heap": {
           "1": [
            "FUNCTION",
            "f(x)",
            null
           ],
           "2": [
            "FUNCTION",
            "g(y, z)",
            1
           ],
           "3": [
            "FUNCTION",
            "<lambda>()",
            1
           ],
           "4": [
            "FUNCTION",
            "g(y, z)",
            2
           ],
           "5": [
            "FUNCTION",
            "<lambda>()",
            2
           ]
          },
          "line": 5,
          "ordered_globals": [
           "f",
           "foo",
           "bar"
          ],
          "stack_to_render": [
           {
            "encoded_locals": {
             "__return__": [
              "REF",
              3
             ],
             "g": [
              "REF",
              2
             ],
             "x": 3
            },
            "frame_id": 1,
            "func_name": "f",
            "is_highlighted": false,
            "is_parent": true,
            "is_zombie": true,
            "ordered_varnames": [
             "x",
             "g",
             "__return__"
            ],
            "parent_frame_id_list": [],
            "unique_hash": "f_f1_p_z"
           },
           {
            "encoded_locals": {
             "__return__": [
              "REF",
              5
             ],
             "g": [
              "REF",
              4
             ],
             "x": 4
            },
            "frame_id": 2,
            "func_name": "f",
            "is_highlighted": false,
            "is_parent": true,
            "is_zombie": true,
            "ordered_varnames": [
             "x",
             "g",
             "__return__"
            ],
            "parent_frame_id_list": [],
            "unique_hash": "f_f2_p_z"
           },
           {
            "encoded_locals": {},
            "frame_id": 8,
            "func_name": "<lambda>",
            "is_highlighted": false,
            "is_parent": false,
            "is_zombie": false,
            "ordered_varnames": [],
            "parent_frame_id_list": [
             2
            ],
            "unique_hash": "<lambda>_f8"
           },
           {
            "encoded_locals": {
             "y": 0,
             "z": 4
            },
            "frame_id": 9,
            "func_name": "g",
            "is_highlighted": false,
            "is_parent": false,
            "is_zombie": false,
            "ordered_varnames": [
             "y",
             "z"
            ],
            "parent_frame_id_list": [
             2
            ],
            "unique_hash": "g_f9"
           },
           {
            "encoded_locals": {
             "y": 8,
             "z": 3
            },
            "frame_id": 10,
            "func_name": "g",
            "is_highlighted": false,
            "is_parent": false,
            "is_zombie": false,
            "ordered_varnames": [
             "y",
             "z"
            ],
            "parent_frame_id_list": [
             2
            ],
            "unique_hash": "g_f10"
           },
           {
            "encoded_locals": {
             "y": 15,
             "z": 2
            },
            "frame_id": 11,
            "func_name": "g",
            "is_highlighted": false,
            "is_parent": false,
            "is_zombie": false,
            "ordered_varnames": [
             "y",
             "z"
            ],
            "parent_frame_id_list": [
             2
            ],
            "unique_hash": "g_f11"
           },
           {
            "encoded_locals": {
             "__return__": 26,
             "y": 21,
             "z": 1
            },
            "frame_id": 12,
            "func_name": "g",
            "is_highlighted": true,
            "is_parent": false,
            "is_zombie": false,
            "ordered_varnames": [
             "y",
             "z",
             "__return__"
            ],
            "parent_frame_id_list": [
             2
            ],
            "unique_hash": "g_f12"
           }
          ],
          "stdout": ""
         },
         {
          "event": "return",
          "func_name": "g",
          "globals": {
           "bar": [
            "REF",
            5
           ],
           "f": [
            "REF",
            1
           ],
           "foo": [
            "REF",
            3
           ]
          },
          "heap": {
           "1": [
            "FUNCTION",
            "f(x)",
            null
           ],
           "2": [
            "FUNCTION",
            "g(y, z)",
            1
           ],
           "3": [
            "FUNCTION",
            "<lambda>()",
            1
           ],
           "4": [
            "FUNCTION",
            "g(y, z)",
            2
           ],
           "5": [
            "FUNCTION",
            "<lambda>()",
            2
           ]
          },
          "line": 5,
          "ordered_globals": [
           "f",
           "foo",
           "bar"
          ],
          "stack_to_render": [
           {
            "encoded_locals": {
             "__return__": [
              "REF",
              3
             ],
             "g": [
              "REF",
              2
             ],
             "x": 3
            },
            "frame_id": 1,
            "func_name": "f",
            "is_highlighted": false,
            "is_parent": true,
            "is_zombie": true,
            "ordered_varnames": [
             "x",
             "g",
             "__return__"
            ],
            "parent_frame_id_list": [],
            "unique_hash": "f_f1_p_z"
           },
           {
            "encoded_locals": {
             "__return__": [
              "REF",
              5
             ],
             "g": [
              "REF",
              4
             ],
             "x": 4
            },
            "frame_id": 2,
            "func_name": "f",
            "is_highlighted": false,
            "is_parent": true,
            "is_zombie": true,
            "ordered_varnames": [
             "x",
             "g",
             "__return__"
            ],
            "parent_frame_id_list": [],
            "unique_hash": "f_f2_p_z"
           },
           {
            "encoded_locals": {},
            "frame_id": 8,
            "func_name": "<lambda>",
            "is_highlighted": false,
            "is_parent": false,
            "is_zombie": false,
            "ordered_varnames": [],
            "parent_frame_id_list": [
             2
            ],
            "unique_hash": "<lambda>_f8"
           },
           {
            "encoded_locals": {
             "y": 0,
             "z": 4
            },
            "frame_id": 9,
            "func_name": "g",
            "is_highlighted": false,
            "is_parent": false,
            "is_zombie": false,
            "ordered_varnames": [
             "y",
             "z"
            ],
            "parent_frame_id_list": [
             2
            ],
            "unique_hash": "g_f9"
           },
           {
            "encoded_locals": {
             "y": 8,
             "z": 3
            },
            "frame_id": 10,
            "func_name": "g",
            "is_highlighted": false,
            "is_parent": false,
            "is_zombie": false,
            "ordered_varnames": [
             "y",
             "z"
            ],
            "parent_frame_id_list": [
             2
            ],
            "unique_hash": "g_f10"
           },
           {
            "encoded_locals": {
             "__return__": 26,
             "y": 15,
             "z": 2
            },
            "frame_id": 11,
            "func_name": "g",
            "is_highlighted": true,
            "is_parent": false,
            "is_zombie": false,
            "ordered_varnames": [
             "y",
             "z",
             "__return__"
            ],
            "parent_frame_id_list": [
             2
            ],
            "unique_hash": "g_f11"
           }
          ],
          "stdout": ""
         },
         {
          "event": "return",
          "func_name": "g",
          "globals": {
           "bar": [
            "REF",
            5
           ],
           "f": [
            "REF",
            1
           ],
           "foo": [
            "REF",
            3
           ]
          },
          "heap": {
           "1": [
            "FUNCTION",
            "f(x)",
            null
           ],
           "2": [
            "FUNCTION",
            "g(y, z)",
            1
           ],
           "3": [
            "FUNCTION",
            "<lambda>()",
            1
           ],
           "4": [
            "FUNCTION",
            "g(y, z)",
            2
           ],
           "5": [
            "FUNCTION",
            "<lambda>()",
            2
           ]
          },
          "line": 5,
          "ordered_globals": [
           "f",
           "foo",
           "bar"
          ],
          "stack_to_render": [
           {
            "encoded_locals": {
             "__return__": [
              "REF",
              3
             ],
             "g": [
              "REF",
              2
             ],
             "x": 3
            },
            "frame_id": 1,
            "func_name": "f",
            "is_highlighted": false,
            "is_parent": true,
            "is_zombie": true,
            "ordered_varnames": [
             "x",
             "g",
             "__return__"
            ],
            "parent_frame_id_list": [],
            "unique_hash": "f_f1_p_z"
           },
           {
            "encoded_locals": {
             "__return__": [
              "REF",
              5
             ],
             "g": [
              "REF",
              4
             ],
             "x": 4
            },
            "frame_id": 2,
            "func_name": "f",
            "is_highlighted": false,
            "is_parent": true,
            "is_zombie": true,
            "ordered_varnames": [
             "x",
             "g",
             "__return__"
            ],
            "parent_frame_id_list": [],
            "unique_hash": "f_f2_p_z"
           },
           {
            "encoded_locals": {},
            "frame_id": 8,
            "func_name": "<lambda>",
            "is_highlighted": false,
            "is_parent": false,
            "is_zombie": false,
            "ordered_varnames": [],
            "parent_frame_id_list": [
             2
            ],
            "unique_hash": "<lambda>_f8"
           },
           {
            "encoded_locals": {
             "y": 0,
             "z": 4
            },
            "frame_id": 9,
            "func_name": "g",
            "is_highlighted": false,
            "is_parent": false,
            "is_zombie": false,
            "ordered_varnames": [
             "y",
             "z"
            ],
            "parent_frame_id_list": [
             2
            ],
            "unique_hash": "g_f9"
           },
           {
            "encoded_locals": {
             "__return__": 26,
             "y": 8,
             "z": 3
            },
            "frame_id": 10,
            "func_name": "g",
            "is_highlighted": true,
            "is_parent": false,
            "is_zombie": false,
            "ordered_varnames": [
             "y",
             "z",
             "__return__"
            ],
            "parent_frame_id_list": [
             2
            ],
            "unique_hash": "g_f10"
           }
          ],
          "stdout": ""
         },
         {
          "event": "return",
          "func_name": "g",
          "globals": {
           "bar": [
            "REF",
            5
           ],
           "f": [
            "REF",
            1
           ],
           "foo": [
            "REF",
            3
           ]
          },
          "heap": {
           "1": [
            "FUNCTION",
            "f(x)",
            null
           ],
           "2": [
            "FUNCTION",
            "g(y, z)",
            1
           ],
           "3": [
            "FUNCTION",
            "<lambda>()",
            1
           ],
           "4": [
            "FUNCTION",
            "g(y, z)",
            2
           ],
           "5": [
            "FUNCTION",
            "<lambda>()",
            2
           ]
          },
          "line": 5,
          "ordered_globals": [
           "f",
           "foo",
           "bar"
          ],
          "stack_to_render": [
           {
            "encoded_locals": {
             "__return__": [
              "REF",
              3
             ],
             "g": [
              "REF",
              2
             ],
             "x": 3
            },
            "frame_id": 1,
            "func_name": "f",
            "is_highlighted": false,
            "is_parent": true,
            "is_zombie": true,
            "ordered_varnames": [
             "x",
             "g",
             "__return__"
            ],
            "parent_frame_id_list": [],
            "unique_hash": "f_f1_p_z"
           },
           {
            "encoded_locals": {
             "__return__": [
              "REF",
              5
             ],
             "g": [
              "REF",
              4
             ],
             "x": 4
            },
            "frame_id": 2,
            "func_name": "f",
            "is_highlighted": false,
            "is_parent": true,
            "is_zombie": true,
            "ordered_varnames": [
             "x",
             "g",
             "__return__"
            ],
            "parent_frame_id_list": [],
            "unique_hash": "f_f2_p_z"
           },
           {
            "encoded_locals": {},
            "frame_id": 8,
            "func_name": "<lambda>",
            "is_highlighted": false,
            "is_parent": false,
            "is_zombie": false,
            "ordered_varnames": [],
            "parent_frame_id_list": [
             2
            ],
            "unique_hash": "<lambda>_f8"
           },
           {
            "encoded_locals": {
             "__return__": 26,
             "y": 0,
             "z": 4
            },
            "frame_id": 9,
            "func_name": "g",
            "is_highlighted": true,
            "is_parent": false,
            "is_zombie": false,
            "ordered_varnames": [
             "y",
             "z",
             "__return__"
            ],
            "parent_frame_id_list": [
             2
            ],
            "unique_hash": "g_f9"
           }
          ],
          "stdout": ""
         },
         {
          "event": "return",
          "func_name": "<lambda>",
          "globals": {
           "bar": [
            "REF",
            5
           ],
           "f": [
            "REF",
            1
           ],
           "foo": [
            "REF",
            3
           ]
          },
          "heap": {
           "1": [
            "FUNCTION",
            "f(x)",
            null
           ],
           "2": [
            "FUNCTION",
            "g(y, z)",
            1
           ],
           "3": [
            "FUNCTION",
            "<lambda>()",
            1
           ],
           "4": [
            "FUNCTION",
            "g(y, z)",
            2
           ],
           "5": [
            "FUNCTION",
            "<lambda>()",
            2
           ]
          },
          "line": 6,
          "ordered_globals": [
           "f",
           "foo",
           "bar"
          ],
          "stack_to_render": [
           {
            "encoded_locals": {
             "__return__": [
              "REF",
              3
             ],
             "g": [
              "REF",
              2
             ],
             "x": 3
            },
            "frame_id": 1,
            "func_name": "f",
            "is_highlighted": false,
            "is_parent": true,
            "is_zombie": true,
            "ordered_varnames": [
             "x",
             "g",
             "__return__"
            ],
            "parent_frame_id_list": [],
            "unique_hash": "f_f1_p_z"
           },
           {
            "encoded_locals": {
             "__return__": [
              "REF",
              5
             ],
             "g": [
              "REF",
              4
             ],
             "x": 4
            },
            "frame_id": 2,
            "func_name": "f",
            "is_highlighted": false,
            "is_parent": true,
            "is_zombie": true,
            "ordered_varnames": [
             "x",
             "g",
             "__return__"
            ],
            "parent_frame_id_list": [],
            "unique_hash": "f_f2_p_z"
           },
           {
            "encoded_locals": {
             "__return__": 26
            },
            "frame_id": 8,
            "func_name": "<lambda>",
            "is_highlighted": true,
            "is_parent": false,
            "is_zombie": false,
            "ordered_varnames": [
             "__return__"
            ],
            "parent_frame_id_list": [
             2
            ],
            "unique_hash": "<lambda>_f8"
           }
          ],
          "stdout": ""
         },
         {
          "event": "return",
          "func_name": "<module>",
          "globals": {
           "bar": [
            "REF",
            5
           ],
           "baz": 41,
           "f": [
            "REF",
            1
           ],
           "foo": [
            "REF",
            3
           ]
          },
          "heap": {
           "1": [
            "FUNCTION",
            "f(x)",
            null
           ],
           "2": [
            "FUNCTION",
            "g(y, z)",
            1
           ],
           "3": [
            "FUNCTION",
            "<lambda>()",
            1
           ],
           "4": [
            "FUNCTION",
            "g(y, z)",
            2
           ],
           "5": [
            "FUNCTION",
            "<lambda>()",
            2
           ]
          },
          "line": 10,
          "ordered_globals": [
           "f",
           "foo",
           "bar",
           "baz"
          ],
          "stack_to_render": [
           {
            "encoded_locals": {
             "__return__": [
              "REF",
              3
             ],
             "g": [
              "REF",
              2
             ],
             "x": 3
            },
            "frame_id": 1,
            "func_name": "f",
            "is_highlighted": false,
            "is_parent": true,
            "is_zombie": true,
            "ordered_varnames": [
             "x",
             "g",
             "__return__"
            ],
            "parent_frame_id_list": [],
            "unique_hash": "f_f1_p_z"
           },
           {
            "encoded_locals": {
             "__return__": [
              "REF",
              5
             ],
             "g": [
              "REF",
              4
             ],
             "x": 4
            },
            "frame_id": 2,
            "func_name": "f",
            "is_highlighted": false,
            "is_parent": true,
            "is_zombie": true,
            "ordered_varnames": [
             "x",
             "g",
             "__return__"
            ],
            "parent_frame_id_list": [],
            "unique_hash": "f_f2_p_z"
           }
          ],
          "stdout": ""
         }
        ]
       },
       "output_type": "display_data"
      }
     ],
     "prompt_number": 9
    }
   ],
   "metadata": {}
  }
 ]
}
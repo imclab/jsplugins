{
 "metadata": {
  "name": "PyTutor"
 },
 "nbformat": 3,
 "nbformat_minor": 0,
 "worksheets": [
  {
   "cells": [
    {
     "cell_type": "heading",
     "level": 1,
     "metadata": {},
     "source": [
      "Online Python Tutor"
     ]
    },
    {
     "cell_type": "markdown",
     "metadata": {},
     "source": [
      "This Notebook shows how to use the [Online Python Tutor](http://www.pythontutor.com/) from within the IPython Notebook:\n",
      "\n"
     ]
    },
    {
     "cell_type": "code",
     "collapsed": false,
     "input": [
      "%load_ext pytutor"
     ],
     "language": "python",
     "metadata": {},
     "outputs": [],
     "prompt_number": 1
    },
    {
     "cell_type": "heading",
     "level": 2,
     "metadata": {},
     "source": [
      "Hello"
     ]
    },
    {
     "cell_type": "code",
     "collapsed": false,
     "input": [
      "%%pytutor\n",
      "x = [1, 2, 3]\n",
      "y = [4, 5, 6]\n",
      "z = y\n",
      "y = x\n",
      "x = z\n",
      "\n",
      "x = [1, 2, 3] # a different [1, 2, 3] list!\n",
      "y = x\n",
      "x.append(4)\n",
      "y.append(5)\n",
      "z = [1, 2, 3, 4, 5] # a different list!\n",
      "x.append(6)\n",
      "y.append(7)\n",
      "y = \"hello\"\n",
      "\n",
      "\n",
      "def foo(lst):\n",
      "    lst.append(\"hello\")\n",
      "    bar(lst)\n",
      "\n",
      "def bar(myLst):\n",
      "    print(myLst)\n",
      "\n",
      "foo(x)\n",
      "foo(z)"
     ],
     "language": "python",
     "metadata": {},
     "outputs": [],
     "prompt_number": 2
    },
    {
     "cell_type": "heading",
     "level": 2,
     "metadata": {},
     "source": [
      "Factorial"
     ]
    },
    {
     "cell_type": "code",
     "collapsed": false,
     "input": [
      "%%pytutor\n",
      "# dumb recursive factorial\n",
      "def fact(n):\n",
      "    if (n <= 1):\n",
      "        return 1\n",
      "    else:\n",
      "        return n * fact(n - 1)\n",
      "\n",
      "print(fact(6))"
     ],
     "language": "python",
     "metadata": {},
     "outputs": [],
     "prompt_number": 3
    },
    {
     "cell_type": "heading",
     "level": 2,
     "metadata": {},
     "source": [
      "Square root"
     ]
    },
    {
     "cell_type": "code",
     "collapsed": false,
     "input": [
      "%%pytutor\n",
      "# Calculating square roots by Newton's method, inspired by SICP\n",
      "#   http://mitpress.mit.edu/sicp/full-text/book/book-Z-H-10.html#%_sec_1.1.7\n",
      "\n",
      "def sqrt(x):\n",
      "    def average(a, b):\n",
      "        return (a + b) / 2.0\n",
      "\n",
      "    def is_good_enough(guess):\n",
      "        return (abs((guess * guess) - x) < 0.001)\n",
      "\n",
      "    def improve(guess):\n",
      "        return average(guess, x / guess)\n",
      "\n",
      "    def sqrt_iter(guess):\n",
      "        if is_good_enough(guess):\n",
      "            return guess\n",
      "        else:\n",
      "            return sqrt_iter(improve(guess))\n",
      "\n",
      "    return sqrt_iter(1.0)\n",
      "\n",
      "\n",
      "ans = sqrt(9)"
     ],
     "language": "python",
     "metadata": {},
     "outputs": [],
     "prompt_number": 6
    },
    {
     "cell_type": "heading",
     "level": 2,
     "metadata": {},
     "source": [
      "List comprehension"
     ]
    },
    {
     "cell_type": "code",
     "collapsed": false,
     "input": [
      "%%pytutor\n",
      "ppl = ['Alice', 'Bob', 'Carol', 'Doug']\n",
      "excited_ppl = [e + '!!' for e in ppl]\n",
      "ppl_len = [len(x) for x in ppl]"
     ],
     "language": "python",
     "metadata": {},
     "outputs": [],
     "prompt_number": 7
    },
    {
     "cell_type": "heading",
     "level": 2,
     "metadata": {},
     "source": [
      "Closure"
     ]
    },
    {
     "cell_type": "code",
     "collapsed": false,
     "input": [
      "%%pytutor\n",
      "def f(x):\n",
      "    def g(y, z):\n",
      "        if z == 0:\n",
      "            return y\n",
      "        return g(x+y+z, z-1)\n",
      "    return lambda: g(0, x)\n",
      "\n",
      "foo = f(3)\n",
      "bar = f(4)\n",
      "baz = foo() + bar()"
     ],
     "language": "python",
     "metadata": {},
     "outputs": [],
     "prompt_number": 9
    }
   ],
   "metadata": {}
  }
 ]
}